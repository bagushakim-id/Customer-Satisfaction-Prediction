{
  "cells": [
    {
      "cell_type": "markdown",
      "metadata": {
        "id": "QvjjiAW0l8n1"
      },
      "source": [
        "# 1 - Perkenalan"
      ]
    },
    {
      "cell_type": "markdown",
      "metadata": {
        "id": "YFoUkHodmE8G"
      },
      "source": [
        "Nama : Bagus Tirta Aji Hakim\n",
        "\n",
        "Batch : FTDS-018-RMT\n",
        "\n",
        "Dataset : [Airline Passenger Satisfaction](https://www.kaggle.com/datasets/teejmahal20/airline-passenger-satisfaction)\n",
        "\n",
        "Objective : Membuat model klasifikasi untuk memprediksi apakah pelanggan transportasi udara (Airlane) termasuk kategori puas atau netral tidak puas dengan mengurangi kesalahan prediksi pada pelanggan yang terprediksi puas namun kenyatannya tidak puas atau biasa saja, hal ini merujuk pada evaluasi model yang bernama precision"
      ]
    },
    {
      "cell_type": "markdown",
      "metadata": {
        "id": "9JQu7UcGcS5f"
      },
      "source": [
        "\n",
        "Field Name  | Description\n",
        "------------- | -------------\n",
        "`Gender` | Gender of the passengers (Female, Male)\n",
        "`Customer` | Type The customer type (Loyal customer, disloyal customer)\n",
        "`Age` | The actual age of the passengers\n",
        "`Type of Travel` | Purpose of the flight of the passengers (Personal Travel, Business Travel)\n",
        "`Class` | Travel class in the plane of the passengers (Business, Eco, Eco Plus)\n",
        "`Flight distance` | The flight distance of this journey\n",
        "`Inflight wifi service` | Satisfaction level of the inflight wifi service (0Not Applicable;1-5)\n",
        "`Departure/Arrival time convenient` | Satisfaction level of Departure/Arrival time convenient\n",
        "`Ease of Online booking` | Satisfaction level of online booking\n",
        "`Gate location` | Satisfaction level of Gate location\n",
        "`Food and drink` | Satisfaction level of Food and drink\n",
        "`Online boarding` | Satisfaction level of online boarding\n",
        "`Seat comfort` | Satisfaction level of Seat comfort\n",
        "`Inflight entertainment` | Satisfaction level of inflight entertainment\n",
        "`On-board service` | Satisfaction level of On-board service\n",
        "`Leg room service` | Satisfaction level of Leg room service\n",
        "`Baggage handling` | Satisfaction level of baggage handling\n",
        "`Check-in service` | Satisfaction level of Check-in service\n",
        "`Inflight service` | Satisfaction level of inflight service\n",
        "`Cleanliness` | Satisfaction level of Cleanliness\n",
        "`Departure Delay in Minutes` | Minutes delayed when departure\n",
        "`Arrival Delay in Minutes` | Minutes delayed when Arrival\n",
        "`Satisfaction` | Airline satisfaction level (Satisfaction, neutral or dissatisfaction)"
      ]
    },
    {
      "cell_type": "markdown",
      "metadata": {
        "id": "zD3uTBXXm-zX"
      },
      "source": [
        "# 2 - Import Libraries"
      ]
    },
    {
      "cell_type": "code",
      "execution_count": 1,
      "metadata": {
        "id": "0yNkFofNYG-6"
      },
      "outputs": [],
      "source": [
        "# Import Libraries\n",
        "\n",
        "import numpy as np\n",
        "import pandas as pd\n",
        "import matplotlib.pyplot as plt\n",
        "import seaborn as sns\n",
        "import pickle\n",
        "import json\n",
        "import warnings\n",
        "warnings.filterwarnings(\"ignore\")\n",
        "\n",
        "from scipy.stats import shapiro\n",
        "from sklearn.model_selection import train_test_split\n",
        "from sklearn.compose import make_column_transformer\n",
        "from sklearn.pipeline import Pipeline\n",
        "from sklearn.preprocessing import MinMaxScaler, OneHotEncoder, LabelEncoder\n",
        "from sklearn.linear_model import LogisticRegression\n",
        "from sklearn.tree import DecisionTreeClassifier\n",
        "from sklearn.ensemble import RandomForestClassifier, AdaBoostClassifier, GradientBoostingClassifier\n",
        "from sklearn.neighbors import KNeighborsClassifier\n",
        "from sklearn.naive_bayes import GaussianNB\n",
        "from sklearn.linear_model import SGDClassifier\n",
        "from sklearn.svm import SVC, NuSVC\n",
        "from sklearn.metrics import confusion_matrix, classification_report, precision_score, recall_score, accuracy_score, f1_score, ConfusionMatrixDisplay\n",
        "from sklearn.model_selection import cross_val_score\n",
        "from sklearn.model_selection import GridSearchCV"
      ]
    },
    {
      "cell_type": "markdown",
      "metadata": {
        "id": "NARC2XRgnjAv"
      },
      "source": [
        "# 3 - Data Loading"
      ]
    },
    {
      "cell_type": "code",
      "execution_count": 2,
      "metadata": {
        "id": "J5gEgXKBnqg9"
      },
      "outputs": [],
      "source": [
        "# Load Dataset\n",
        "\n",
        "train = pd.read_csv('train.csv')\n",
        "test = pd.read_csv('test.csv')"
      ]
    },
    {
      "cell_type": "code",
      "execution_count": 3,
      "metadata": {
        "id": "r7zIgTTDcS5i"
      },
      "outputs": [],
      "source": [
        "train_copy = train.copy()\n",
        "test_copy = test.copy()"
      ]
    },
    {
      "cell_type": "code",
      "execution_count": 4,
      "metadata": {
        "colab": {
          "base_uri": "https://localhost:8080/",
          "height": 682
        },
        "id": "X68vBlNUcS5i",
        "outputId": "78412789-e548-483f-dab9-4db8684bc6bd"
      },
      "outputs": [
        {
          "data": {
            "text/html": [
              "<div>\n",
              "<style scoped>\n",
              "    .dataframe tbody tr th:only-of-type {\n",
              "        vertical-align: middle;\n",
              "    }\n",
              "\n",
              "    .dataframe tbody tr th {\n",
              "        vertical-align: top;\n",
              "    }\n",
              "\n",
              "    .dataframe thead th {\n",
              "        text-align: right;\n",
              "    }\n",
              "</style>\n",
              "<table border=\"1\" class=\"dataframe\">\n",
              "  <thead>\n",
              "    <tr style=\"text-align: right;\">\n",
              "      <th></th>\n",
              "      <th>Unnamed: 0</th>\n",
              "      <th>id</th>\n",
              "      <th>Gender</th>\n",
              "      <th>Customer Type</th>\n",
              "      <th>Age</th>\n",
              "      <th>Type of Travel</th>\n",
              "      <th>Class</th>\n",
              "      <th>Flight Distance</th>\n",
              "      <th>Inflight wifi service</th>\n",
              "      <th>Departure/Arrival time convenient</th>\n",
              "      <th>...</th>\n",
              "      <th>Inflight entertainment</th>\n",
              "      <th>On-board service</th>\n",
              "      <th>Leg room service</th>\n",
              "      <th>Baggage handling</th>\n",
              "      <th>Checkin service</th>\n",
              "      <th>Inflight service</th>\n",
              "      <th>Cleanliness</th>\n",
              "      <th>Departure Delay in Minutes</th>\n",
              "      <th>Arrival Delay in Minutes</th>\n",
              "      <th>satisfaction</th>\n",
              "    </tr>\n",
              "  </thead>\n",
              "  <tbody>\n",
              "    <tr>\n",
              "      <th>0</th>\n",
              "      <td>0</td>\n",
              "      <td>70172</td>\n",
              "      <td>Male</td>\n",
              "      <td>Loyal Customer</td>\n",
              "      <td>13</td>\n",
              "      <td>Personal Travel</td>\n",
              "      <td>Eco Plus</td>\n",
              "      <td>460</td>\n",
              "      <td>3</td>\n",
              "      <td>4</td>\n",
              "      <td>...</td>\n",
              "      <td>5</td>\n",
              "      <td>4</td>\n",
              "      <td>3</td>\n",
              "      <td>4</td>\n",
              "      <td>4</td>\n",
              "      <td>5</td>\n",
              "      <td>5</td>\n",
              "      <td>25</td>\n",
              "      <td>18.0</td>\n",
              "      <td>neutral or dissatisfied</td>\n",
              "    </tr>\n",
              "    <tr>\n",
              "      <th>1</th>\n",
              "      <td>1</td>\n",
              "      <td>5047</td>\n",
              "      <td>Male</td>\n",
              "      <td>disloyal Customer</td>\n",
              "      <td>25</td>\n",
              "      <td>Business travel</td>\n",
              "      <td>Business</td>\n",
              "      <td>235</td>\n",
              "      <td>3</td>\n",
              "      <td>2</td>\n",
              "      <td>...</td>\n",
              "      <td>1</td>\n",
              "      <td>1</td>\n",
              "      <td>5</td>\n",
              "      <td>3</td>\n",
              "      <td>1</td>\n",
              "      <td>4</td>\n",
              "      <td>1</td>\n",
              "      <td>1</td>\n",
              "      <td>6.0</td>\n",
              "      <td>neutral or dissatisfied</td>\n",
              "    </tr>\n",
              "    <tr>\n",
              "      <th>2</th>\n",
              "      <td>2</td>\n",
              "      <td>110028</td>\n",
              "      <td>Female</td>\n",
              "      <td>Loyal Customer</td>\n",
              "      <td>26</td>\n",
              "      <td>Business travel</td>\n",
              "      <td>Business</td>\n",
              "      <td>1142</td>\n",
              "      <td>2</td>\n",
              "      <td>2</td>\n",
              "      <td>...</td>\n",
              "      <td>5</td>\n",
              "      <td>4</td>\n",
              "      <td>3</td>\n",
              "      <td>4</td>\n",
              "      <td>4</td>\n",
              "      <td>4</td>\n",
              "      <td>5</td>\n",
              "      <td>0</td>\n",
              "      <td>0.0</td>\n",
              "      <td>satisfied</td>\n",
              "    </tr>\n",
              "    <tr>\n",
              "      <th>3</th>\n",
              "      <td>3</td>\n",
              "      <td>24026</td>\n",
              "      <td>Female</td>\n",
              "      <td>Loyal Customer</td>\n",
              "      <td>25</td>\n",
              "      <td>Business travel</td>\n",
              "      <td>Business</td>\n",
              "      <td>562</td>\n",
              "      <td>2</td>\n",
              "      <td>5</td>\n",
              "      <td>...</td>\n",
              "      <td>2</td>\n",
              "      <td>2</td>\n",
              "      <td>5</td>\n",
              "      <td>3</td>\n",
              "      <td>1</td>\n",
              "      <td>4</td>\n",
              "      <td>2</td>\n",
              "      <td>11</td>\n",
              "      <td>9.0</td>\n",
              "      <td>neutral or dissatisfied</td>\n",
              "    </tr>\n",
              "    <tr>\n",
              "      <th>4</th>\n",
              "      <td>4</td>\n",
              "      <td>119299</td>\n",
              "      <td>Male</td>\n",
              "      <td>Loyal Customer</td>\n",
              "      <td>61</td>\n",
              "      <td>Business travel</td>\n",
              "      <td>Business</td>\n",
              "      <td>214</td>\n",
              "      <td>3</td>\n",
              "      <td>3</td>\n",
              "      <td>...</td>\n",
              "      <td>3</td>\n",
              "      <td>3</td>\n",
              "      <td>4</td>\n",
              "      <td>4</td>\n",
              "      <td>3</td>\n",
              "      <td>3</td>\n",
              "      <td>3</td>\n",
              "      <td>0</td>\n",
              "      <td>0.0</td>\n",
              "      <td>satisfied</td>\n",
              "    </tr>\n",
              "    <tr>\n",
              "      <th>5</th>\n",
              "      <td>5</td>\n",
              "      <td>111157</td>\n",
              "      <td>Female</td>\n",
              "      <td>Loyal Customer</td>\n",
              "      <td>26</td>\n",
              "      <td>Personal Travel</td>\n",
              "      <td>Eco</td>\n",
              "      <td>1180</td>\n",
              "      <td>3</td>\n",
              "      <td>4</td>\n",
              "      <td>...</td>\n",
              "      <td>1</td>\n",
              "      <td>3</td>\n",
              "      <td>4</td>\n",
              "      <td>4</td>\n",
              "      <td>4</td>\n",
              "      <td>4</td>\n",
              "      <td>1</td>\n",
              "      <td>0</td>\n",
              "      <td>0.0</td>\n",
              "      <td>neutral or dissatisfied</td>\n",
              "    </tr>\n",
              "    <tr>\n",
              "      <th>6</th>\n",
              "      <td>6</td>\n",
              "      <td>82113</td>\n",
              "      <td>Male</td>\n",
              "      <td>Loyal Customer</td>\n",
              "      <td>47</td>\n",
              "      <td>Personal Travel</td>\n",
              "      <td>Eco</td>\n",
              "      <td>1276</td>\n",
              "      <td>2</td>\n",
              "      <td>4</td>\n",
              "      <td>...</td>\n",
              "      <td>2</td>\n",
              "      <td>3</td>\n",
              "      <td>3</td>\n",
              "      <td>4</td>\n",
              "      <td>3</td>\n",
              "      <td>5</td>\n",
              "      <td>2</td>\n",
              "      <td>9</td>\n",
              "      <td>23.0</td>\n",
              "      <td>neutral or dissatisfied</td>\n",
              "    </tr>\n",
              "    <tr>\n",
              "      <th>7</th>\n",
              "      <td>7</td>\n",
              "      <td>96462</td>\n",
              "      <td>Female</td>\n",
              "      <td>Loyal Customer</td>\n",
              "      <td>52</td>\n",
              "      <td>Business travel</td>\n",
              "      <td>Business</td>\n",
              "      <td>2035</td>\n",
              "      <td>4</td>\n",
              "      <td>3</td>\n",
              "      <td>...</td>\n",
              "      <td>5</td>\n",
              "      <td>5</td>\n",
              "      <td>5</td>\n",
              "      <td>5</td>\n",
              "      <td>4</td>\n",
              "      <td>5</td>\n",
              "      <td>4</td>\n",
              "      <td>4</td>\n",
              "      <td>0.0</td>\n",
              "      <td>satisfied</td>\n",
              "    </tr>\n",
              "    <tr>\n",
              "      <th>8</th>\n",
              "      <td>8</td>\n",
              "      <td>79485</td>\n",
              "      <td>Female</td>\n",
              "      <td>Loyal Customer</td>\n",
              "      <td>41</td>\n",
              "      <td>Business travel</td>\n",
              "      <td>Business</td>\n",
              "      <td>853</td>\n",
              "      <td>1</td>\n",
              "      <td>2</td>\n",
              "      <td>...</td>\n",
              "      <td>1</td>\n",
              "      <td>1</td>\n",
              "      <td>2</td>\n",
              "      <td>1</td>\n",
              "      <td>4</td>\n",
              "      <td>1</td>\n",
              "      <td>2</td>\n",
              "      <td>0</td>\n",
              "      <td>0.0</td>\n",
              "      <td>neutral or dissatisfied</td>\n",
              "    </tr>\n",
              "    <tr>\n",
              "      <th>9</th>\n",
              "      <td>9</td>\n",
              "      <td>65725</td>\n",
              "      <td>Male</td>\n",
              "      <td>disloyal Customer</td>\n",
              "      <td>20</td>\n",
              "      <td>Business travel</td>\n",
              "      <td>Eco</td>\n",
              "      <td>1061</td>\n",
              "      <td>3</td>\n",
              "      <td>3</td>\n",
              "      <td>...</td>\n",
              "      <td>2</td>\n",
              "      <td>2</td>\n",
              "      <td>3</td>\n",
              "      <td>4</td>\n",
              "      <td>4</td>\n",
              "      <td>3</td>\n",
              "      <td>2</td>\n",
              "      <td>0</td>\n",
              "      <td>0.0</td>\n",
              "      <td>neutral or dissatisfied</td>\n",
              "    </tr>\n",
              "  </tbody>\n",
              "</table>\n",
              "<p>10 rows × 25 columns</p>\n",
              "</div>"
            ],
            "text/plain": [
              "   Unnamed: 0      id  Gender      Customer Type  Age   Type of Travel   \n",
              "0           0   70172    Male     Loyal Customer   13  Personal Travel  \\\n",
              "1           1    5047    Male  disloyal Customer   25  Business travel   \n",
              "2           2  110028  Female     Loyal Customer   26  Business travel   \n",
              "3           3   24026  Female     Loyal Customer   25  Business travel   \n",
              "4           4  119299    Male     Loyal Customer   61  Business travel   \n",
              "5           5  111157  Female     Loyal Customer   26  Personal Travel   \n",
              "6           6   82113    Male     Loyal Customer   47  Personal Travel   \n",
              "7           7   96462  Female     Loyal Customer   52  Business travel   \n",
              "8           8   79485  Female     Loyal Customer   41  Business travel   \n",
              "9           9   65725    Male  disloyal Customer   20  Business travel   \n",
              "\n",
              "      Class  Flight Distance  Inflight wifi service   \n",
              "0  Eco Plus              460                      3  \\\n",
              "1  Business              235                      3   \n",
              "2  Business             1142                      2   \n",
              "3  Business              562                      2   \n",
              "4  Business              214                      3   \n",
              "5       Eco             1180                      3   \n",
              "6       Eco             1276                      2   \n",
              "7  Business             2035                      4   \n",
              "8  Business              853                      1   \n",
              "9       Eco             1061                      3   \n",
              "\n",
              "   Departure/Arrival time convenient  ...  Inflight entertainment   \n",
              "0                                  4  ...                       5  \\\n",
              "1                                  2  ...                       1   \n",
              "2                                  2  ...                       5   \n",
              "3                                  5  ...                       2   \n",
              "4                                  3  ...                       3   \n",
              "5                                  4  ...                       1   \n",
              "6                                  4  ...                       2   \n",
              "7                                  3  ...                       5   \n",
              "8                                  2  ...                       1   \n",
              "9                                  3  ...                       2   \n",
              "\n",
              "   On-board service  Leg room service  Baggage handling  Checkin service   \n",
              "0                 4                 3                 4                4  \\\n",
              "1                 1                 5                 3                1   \n",
              "2                 4                 3                 4                4   \n",
              "3                 2                 5                 3                1   \n",
              "4                 3                 4                 4                3   \n",
              "5                 3                 4                 4                4   \n",
              "6                 3                 3                 4                3   \n",
              "7                 5                 5                 5                4   \n",
              "8                 1                 2                 1                4   \n",
              "9                 2                 3                 4                4   \n",
              "\n",
              "   Inflight service  Cleanliness  Departure Delay in Minutes   \n",
              "0                 5            5                          25  \\\n",
              "1                 4            1                           1   \n",
              "2                 4            5                           0   \n",
              "3                 4            2                          11   \n",
              "4                 3            3                           0   \n",
              "5                 4            1                           0   \n",
              "6                 5            2                           9   \n",
              "7                 5            4                           4   \n",
              "8                 1            2                           0   \n",
              "9                 3            2                           0   \n",
              "\n",
              "   Arrival Delay in Minutes             satisfaction  \n",
              "0                      18.0  neutral or dissatisfied  \n",
              "1                       6.0  neutral or dissatisfied  \n",
              "2                       0.0                satisfied  \n",
              "3                       9.0  neutral or dissatisfied  \n",
              "4                       0.0                satisfied  \n",
              "5                       0.0  neutral or dissatisfied  \n",
              "6                      23.0  neutral or dissatisfied  \n",
              "7                       0.0                satisfied  \n",
              "8                       0.0  neutral or dissatisfied  \n",
              "9                       0.0  neutral or dissatisfied  \n",
              "\n",
              "[10 rows x 25 columns]"
            ]
          },
          "execution_count": 4,
          "metadata": {},
          "output_type": "execute_result"
        }
      ],
      "source": [
        "train.head(10)"
      ]
    },
    {
      "cell_type": "code",
      "execution_count": 5,
      "metadata": {
        "colab": {
          "base_uri": "https://localhost:8080/",
          "height": 682
        },
        "id": "thvDI7NvcS5j",
        "outputId": "936e7987-d24c-409d-fc07-05dc7a3c64fd"
      },
      "outputs": [
        {
          "data": {
            "text/html": [
              "<div>\n",
              "<style scoped>\n",
              "    .dataframe tbody tr th:only-of-type {\n",
              "        vertical-align: middle;\n",
              "    }\n",
              "\n",
              "    .dataframe tbody tr th {\n",
              "        vertical-align: top;\n",
              "    }\n",
              "\n",
              "    .dataframe thead th {\n",
              "        text-align: right;\n",
              "    }\n",
              "</style>\n",
              "<table border=\"1\" class=\"dataframe\">\n",
              "  <thead>\n",
              "    <tr style=\"text-align: right;\">\n",
              "      <th></th>\n",
              "      <th>Unnamed: 0</th>\n",
              "      <th>id</th>\n",
              "      <th>Gender</th>\n",
              "      <th>Customer Type</th>\n",
              "      <th>Age</th>\n",
              "      <th>Type of Travel</th>\n",
              "      <th>Class</th>\n",
              "      <th>Flight Distance</th>\n",
              "      <th>Inflight wifi service</th>\n",
              "      <th>Departure/Arrival time convenient</th>\n",
              "      <th>...</th>\n",
              "      <th>Inflight entertainment</th>\n",
              "      <th>On-board service</th>\n",
              "      <th>Leg room service</th>\n",
              "      <th>Baggage handling</th>\n",
              "      <th>Checkin service</th>\n",
              "      <th>Inflight service</th>\n",
              "      <th>Cleanliness</th>\n",
              "      <th>Departure Delay in Minutes</th>\n",
              "      <th>Arrival Delay in Minutes</th>\n",
              "      <th>satisfaction</th>\n",
              "    </tr>\n",
              "  </thead>\n",
              "  <tbody>\n",
              "    <tr>\n",
              "      <th>103894</th>\n",
              "      <td>103894</td>\n",
              "      <td>86549</td>\n",
              "      <td>Male</td>\n",
              "      <td>Loyal Customer</td>\n",
              "      <td>26</td>\n",
              "      <td>Business travel</td>\n",
              "      <td>Business</td>\n",
              "      <td>712</td>\n",
              "      <td>4</td>\n",
              "      <td>4</td>\n",
              "      <td>...</td>\n",
              "      <td>5</td>\n",
              "      <td>3</td>\n",
              "      <td>4</td>\n",
              "      <td>4</td>\n",
              "      <td>3</td>\n",
              "      <td>4</td>\n",
              "      <td>5</td>\n",
              "      <td>17</td>\n",
              "      <td>26.0</td>\n",
              "      <td>satisfied</td>\n",
              "    </tr>\n",
              "    <tr>\n",
              "      <th>103895</th>\n",
              "      <td>103895</td>\n",
              "      <td>66030</td>\n",
              "      <td>Female</td>\n",
              "      <td>disloyal Customer</td>\n",
              "      <td>24</td>\n",
              "      <td>Business travel</td>\n",
              "      <td>Eco</td>\n",
              "      <td>1055</td>\n",
              "      <td>1</td>\n",
              "      <td>1</td>\n",
              "      <td>...</td>\n",
              "      <td>1</td>\n",
              "      <td>3</td>\n",
              "      <td>3</td>\n",
              "      <td>5</td>\n",
              "      <td>5</td>\n",
              "      <td>4</td>\n",
              "      <td>1</td>\n",
              "      <td>13</td>\n",
              "      <td>10.0</td>\n",
              "      <td>neutral or dissatisfied</td>\n",
              "    </tr>\n",
              "    <tr>\n",
              "      <th>103896</th>\n",
              "      <td>103896</td>\n",
              "      <td>71445</td>\n",
              "      <td>Male</td>\n",
              "      <td>Loyal Customer</td>\n",
              "      <td>57</td>\n",
              "      <td>Business travel</td>\n",
              "      <td>Eco</td>\n",
              "      <td>867</td>\n",
              "      <td>4</td>\n",
              "      <td>5</td>\n",
              "      <td>...</td>\n",
              "      <td>4</td>\n",
              "      <td>3</td>\n",
              "      <td>4</td>\n",
              "      <td>3</td>\n",
              "      <td>1</td>\n",
              "      <td>3</td>\n",
              "      <td>4</td>\n",
              "      <td>0</td>\n",
              "      <td>0.0</td>\n",
              "      <td>neutral or dissatisfied</td>\n",
              "    </tr>\n",
              "    <tr>\n",
              "      <th>103897</th>\n",
              "      <td>103897</td>\n",
              "      <td>102203</td>\n",
              "      <td>Female</td>\n",
              "      <td>Loyal Customer</td>\n",
              "      <td>60</td>\n",
              "      <td>Business travel</td>\n",
              "      <td>Business</td>\n",
              "      <td>1599</td>\n",
              "      <td>5</td>\n",
              "      <td>5</td>\n",
              "      <td>...</td>\n",
              "      <td>4</td>\n",
              "      <td>4</td>\n",
              "      <td>4</td>\n",
              "      <td>4</td>\n",
              "      <td>4</td>\n",
              "      <td>4</td>\n",
              "      <td>4</td>\n",
              "      <td>9</td>\n",
              "      <td>7.0</td>\n",
              "      <td>satisfied</td>\n",
              "    </tr>\n",
              "    <tr>\n",
              "      <th>103898</th>\n",
              "      <td>103898</td>\n",
              "      <td>60666</td>\n",
              "      <td>Male</td>\n",
              "      <td>Loyal Customer</td>\n",
              "      <td>50</td>\n",
              "      <td>Personal Travel</td>\n",
              "      <td>Eco</td>\n",
              "      <td>1620</td>\n",
              "      <td>3</td>\n",
              "      <td>1</td>\n",
              "      <td>...</td>\n",
              "      <td>2</td>\n",
              "      <td>4</td>\n",
              "      <td>3</td>\n",
              "      <td>4</td>\n",
              "      <td>2</td>\n",
              "      <td>4</td>\n",
              "      <td>2</td>\n",
              "      <td>0</td>\n",
              "      <td>0.0</td>\n",
              "      <td>neutral or dissatisfied</td>\n",
              "    </tr>\n",
              "    <tr>\n",
              "      <th>103899</th>\n",
              "      <td>103899</td>\n",
              "      <td>94171</td>\n",
              "      <td>Female</td>\n",
              "      <td>disloyal Customer</td>\n",
              "      <td>23</td>\n",
              "      <td>Business travel</td>\n",
              "      <td>Eco</td>\n",
              "      <td>192</td>\n",
              "      <td>2</td>\n",
              "      <td>1</td>\n",
              "      <td>...</td>\n",
              "      <td>2</td>\n",
              "      <td>3</td>\n",
              "      <td>1</td>\n",
              "      <td>4</td>\n",
              "      <td>2</td>\n",
              "      <td>3</td>\n",
              "      <td>2</td>\n",
              "      <td>3</td>\n",
              "      <td>0.0</td>\n",
              "      <td>neutral or dissatisfied</td>\n",
              "    </tr>\n",
              "    <tr>\n",
              "      <th>103900</th>\n",
              "      <td>103900</td>\n",
              "      <td>73097</td>\n",
              "      <td>Male</td>\n",
              "      <td>Loyal Customer</td>\n",
              "      <td>49</td>\n",
              "      <td>Business travel</td>\n",
              "      <td>Business</td>\n",
              "      <td>2347</td>\n",
              "      <td>4</td>\n",
              "      <td>4</td>\n",
              "      <td>...</td>\n",
              "      <td>5</td>\n",
              "      <td>5</td>\n",
              "      <td>5</td>\n",
              "      <td>5</td>\n",
              "      <td>5</td>\n",
              "      <td>5</td>\n",
              "      <td>4</td>\n",
              "      <td>0</td>\n",
              "      <td>0.0</td>\n",
              "      <td>satisfied</td>\n",
              "    </tr>\n",
              "    <tr>\n",
              "      <th>103901</th>\n",
              "      <td>103901</td>\n",
              "      <td>68825</td>\n",
              "      <td>Male</td>\n",
              "      <td>disloyal Customer</td>\n",
              "      <td>30</td>\n",
              "      <td>Business travel</td>\n",
              "      <td>Business</td>\n",
              "      <td>1995</td>\n",
              "      <td>1</td>\n",
              "      <td>1</td>\n",
              "      <td>...</td>\n",
              "      <td>4</td>\n",
              "      <td>3</td>\n",
              "      <td>2</td>\n",
              "      <td>4</td>\n",
              "      <td>5</td>\n",
              "      <td>5</td>\n",
              "      <td>4</td>\n",
              "      <td>7</td>\n",
              "      <td>14.0</td>\n",
              "      <td>neutral or dissatisfied</td>\n",
              "    </tr>\n",
              "    <tr>\n",
              "      <th>103902</th>\n",
              "      <td>103902</td>\n",
              "      <td>54173</td>\n",
              "      <td>Female</td>\n",
              "      <td>disloyal Customer</td>\n",
              "      <td>22</td>\n",
              "      <td>Business travel</td>\n",
              "      <td>Eco</td>\n",
              "      <td>1000</td>\n",
              "      <td>1</td>\n",
              "      <td>1</td>\n",
              "      <td>...</td>\n",
              "      <td>1</td>\n",
              "      <td>4</td>\n",
              "      <td>5</td>\n",
              "      <td>1</td>\n",
              "      <td>5</td>\n",
              "      <td>4</td>\n",
              "      <td>1</td>\n",
              "      <td>0</td>\n",
              "      <td>0.0</td>\n",
              "      <td>neutral or dissatisfied</td>\n",
              "    </tr>\n",
              "    <tr>\n",
              "      <th>103903</th>\n",
              "      <td>103903</td>\n",
              "      <td>62567</td>\n",
              "      <td>Male</td>\n",
              "      <td>Loyal Customer</td>\n",
              "      <td>27</td>\n",
              "      <td>Business travel</td>\n",
              "      <td>Business</td>\n",
              "      <td>1723</td>\n",
              "      <td>1</td>\n",
              "      <td>3</td>\n",
              "      <td>...</td>\n",
              "      <td>1</td>\n",
              "      <td>1</td>\n",
              "      <td>1</td>\n",
              "      <td>4</td>\n",
              "      <td>4</td>\n",
              "      <td>3</td>\n",
              "      <td>1</td>\n",
              "      <td>0</td>\n",
              "      <td>0.0</td>\n",
              "      <td>neutral or dissatisfied</td>\n",
              "    </tr>\n",
              "  </tbody>\n",
              "</table>\n",
              "<p>10 rows × 25 columns</p>\n",
              "</div>"
            ],
            "text/plain": [
              "        Unnamed: 0      id  Gender      Customer Type  Age   Type of Travel   \n",
              "103894      103894   86549    Male     Loyal Customer   26  Business travel  \\\n",
              "103895      103895   66030  Female  disloyal Customer   24  Business travel   \n",
              "103896      103896   71445    Male     Loyal Customer   57  Business travel   \n",
              "103897      103897  102203  Female     Loyal Customer   60  Business travel   \n",
              "103898      103898   60666    Male     Loyal Customer   50  Personal Travel   \n",
              "103899      103899   94171  Female  disloyal Customer   23  Business travel   \n",
              "103900      103900   73097    Male     Loyal Customer   49  Business travel   \n",
              "103901      103901   68825    Male  disloyal Customer   30  Business travel   \n",
              "103902      103902   54173  Female  disloyal Customer   22  Business travel   \n",
              "103903      103903   62567    Male     Loyal Customer   27  Business travel   \n",
              "\n",
              "           Class  Flight Distance  Inflight wifi service   \n",
              "103894  Business              712                      4  \\\n",
              "103895       Eco             1055                      1   \n",
              "103896       Eco              867                      4   \n",
              "103897  Business             1599                      5   \n",
              "103898       Eco             1620                      3   \n",
              "103899       Eco              192                      2   \n",
              "103900  Business             2347                      4   \n",
              "103901  Business             1995                      1   \n",
              "103902       Eco             1000                      1   \n",
              "103903  Business             1723                      1   \n",
              "\n",
              "        Departure/Arrival time convenient  ...  Inflight entertainment   \n",
              "103894                                  4  ...                       5  \\\n",
              "103895                                  1  ...                       1   \n",
              "103896                                  5  ...                       4   \n",
              "103897                                  5  ...                       4   \n",
              "103898                                  1  ...                       2   \n",
              "103899                                  1  ...                       2   \n",
              "103900                                  4  ...                       5   \n",
              "103901                                  1  ...                       4   \n",
              "103902                                  1  ...                       1   \n",
              "103903                                  3  ...                       1   \n",
              "\n",
              "        On-board service  Leg room service  Baggage handling  Checkin service   \n",
              "103894                 3                 4                 4                3  \\\n",
              "103895                 3                 3                 5                5   \n",
              "103896                 3                 4                 3                1   \n",
              "103897                 4                 4                 4                4   \n",
              "103898                 4                 3                 4                2   \n",
              "103899                 3                 1                 4                2   \n",
              "103900                 5                 5                 5                5   \n",
              "103901                 3                 2                 4                5   \n",
              "103902                 4                 5                 1                5   \n",
              "103903                 1                 1                 4                4   \n",
              "\n",
              "        Inflight service  Cleanliness  Departure Delay in Minutes   \n",
              "103894                 4            5                          17  \\\n",
              "103895                 4            1                          13   \n",
              "103896                 3            4                           0   \n",
              "103897                 4            4                           9   \n",
              "103898                 4            2                           0   \n",
              "103899                 3            2                           3   \n",
              "103900                 5            4                           0   \n",
              "103901                 5            4                           7   \n",
              "103902                 4            1                           0   \n",
              "103903                 3            1                           0   \n",
              "\n",
              "        Arrival Delay in Minutes             satisfaction  \n",
              "103894                      26.0                satisfied  \n",
              "103895                      10.0  neutral or dissatisfied  \n",
              "103896                       0.0  neutral or dissatisfied  \n",
              "103897                       7.0                satisfied  \n",
              "103898                       0.0  neutral or dissatisfied  \n",
              "103899                       0.0  neutral or dissatisfied  \n",
              "103900                       0.0                satisfied  \n",
              "103901                      14.0  neutral or dissatisfied  \n",
              "103902                       0.0  neutral or dissatisfied  \n",
              "103903                       0.0  neutral or dissatisfied  \n",
              "\n",
              "[10 rows x 25 columns]"
            ]
          },
          "execution_count": 5,
          "metadata": {},
          "output_type": "execute_result"
        }
      ],
      "source": [
        "train.tail(10)"
      ]
    },
    {
      "cell_type": "code",
      "execution_count": 6,
      "metadata": {
        "colab": {
          "base_uri": "https://localhost:8080/"
        },
        "id": "_JQ7CWQ2cS5j",
        "outputId": "b7a9cd98-7bfe-4c61-8dd3-6502272c79f2"
      },
      "outputs": [
        {
          "name": "stdout",
          "output_type": "stream",
          "text": [
            "Size of data train:  (103904, 25)\n",
            "Size of data test:  (25976, 25)\n"
          ]
        }
      ],
      "source": [
        "print('Size of data train: ', train.shape)\n",
        "print('Size of data test: ', test.shape)"
      ]
    },
    {
      "cell_type": "code",
      "execution_count": 7,
      "metadata": {
        "colab": {
          "base_uri": "https://localhost:8080/"
        },
        "id": "XBS0w2aGo6ix",
        "outputId": "39029f0c-e859-49aa-e023-3521e7db6b54"
      },
      "outputs": [
        {
          "name": "stdout",
          "output_type": "stream",
          "text": [
            "<class 'pandas.core.frame.DataFrame'>\n",
            "RangeIndex: 103904 entries, 0 to 103903\n",
            "Data columns (total 25 columns):\n",
            " #   Column                             Non-Null Count   Dtype  \n",
            "---  ------                             --------------   -----  \n",
            " 0   Unnamed: 0                         103904 non-null  int64  \n",
            " 1   id                                 103904 non-null  int64  \n",
            " 2   Gender                             103904 non-null  object \n",
            " 3   Customer Type                      103904 non-null  object \n",
            " 4   Age                                103904 non-null  int64  \n",
            " 5   Type of Travel                     103904 non-null  object \n",
            " 6   Class                              103904 non-null  object \n",
            " 7   Flight Distance                    103904 non-null  int64  \n",
            " 8   Inflight wifi service              103904 non-null  int64  \n",
            " 9   Departure/Arrival time convenient  103904 non-null  int64  \n",
            " 10  Ease of Online booking             103904 non-null  int64  \n",
            " 11  Gate location                      103904 non-null  int64  \n",
            " 12  Food and drink                     103904 non-null  int64  \n",
            " 13  Online boarding                    103904 non-null  int64  \n",
            " 14  Seat comfort                       103904 non-null  int64  \n",
            " 15  Inflight entertainment             103904 non-null  int64  \n",
            " 16  On-board service                   103904 non-null  int64  \n",
            " 17  Leg room service                   103904 non-null  int64  \n",
            " 18  Baggage handling                   103904 non-null  int64  \n",
            " 19  Checkin service                    103904 non-null  int64  \n",
            " 20  Inflight service                   103904 non-null  int64  \n",
            " 21  Cleanliness                        103904 non-null  int64  \n",
            " 22  Departure Delay in Minutes         103904 non-null  int64  \n",
            " 23  Arrival Delay in Minutes           103594 non-null  float64\n",
            " 24  satisfaction                       103904 non-null  object \n",
            "dtypes: float64(1), int64(19), object(5)\n",
            "memory usage: 19.8+ MB\n"
          ]
        }
      ],
      "source": [
        "# Check Dataset - 1\n",
        "\n",
        "train.info()"
      ]
    },
    {
      "cell_type": "markdown",
      "metadata": {
        "id": "F7mWHuCupHJB"
      },
      "source": [
        "berdasarkan info dataset yang diperoleh dapat dilihat bahwa tipe data yang tertera sudah sesuai dengan data aslinya terdapat missing values pada variabel `Arrival Delay in Minutes`."
      ]
    },
    {
      "cell_type": "code",
      "execution_count": 8,
      "metadata": {
        "colab": {
          "base_uri": "https://localhost:8080/",
          "height": 399
        },
        "id": "DCHSfssWpOvF",
        "outputId": "fe4711b3-8ca8-4e50-9f0b-d43ca003bde8"
      },
      "outputs": [
        {
          "data": {
            "text/html": [
              "<div>\n",
              "<style scoped>\n",
              "    .dataframe tbody tr th:only-of-type {\n",
              "        vertical-align: middle;\n",
              "    }\n",
              "\n",
              "    .dataframe tbody tr th {\n",
              "        vertical-align: top;\n",
              "    }\n",
              "\n",
              "    .dataframe thead th {\n",
              "        text-align: right;\n",
              "    }\n",
              "</style>\n",
              "<table border=\"1\" class=\"dataframe\">\n",
              "  <thead>\n",
              "    <tr style=\"text-align: right;\">\n",
              "      <th></th>\n",
              "      <th>Unnamed: 0</th>\n",
              "      <th>id</th>\n",
              "      <th>Age</th>\n",
              "      <th>Flight Distance</th>\n",
              "      <th>Inflight wifi service</th>\n",
              "      <th>Departure/Arrival time convenient</th>\n",
              "      <th>Ease of Online booking</th>\n",
              "      <th>Gate location</th>\n",
              "      <th>Food and drink</th>\n",
              "      <th>Online boarding</th>\n",
              "      <th>Seat comfort</th>\n",
              "      <th>Inflight entertainment</th>\n",
              "      <th>On-board service</th>\n",
              "      <th>Leg room service</th>\n",
              "      <th>Baggage handling</th>\n",
              "      <th>Checkin service</th>\n",
              "      <th>Inflight service</th>\n",
              "      <th>Cleanliness</th>\n",
              "      <th>Departure Delay in Minutes</th>\n",
              "      <th>Arrival Delay in Minutes</th>\n",
              "    </tr>\n",
              "  </thead>\n",
              "  <tbody>\n",
              "    <tr>\n",
              "      <th>count</th>\n",
              "      <td>103904.000000</td>\n",
              "      <td>103904.000000</td>\n",
              "      <td>103904.000000</td>\n",
              "      <td>103904.000000</td>\n",
              "      <td>103904.000000</td>\n",
              "      <td>103904.000000</td>\n",
              "      <td>103904.000000</td>\n",
              "      <td>103904.000000</td>\n",
              "      <td>103904.000000</td>\n",
              "      <td>103904.000000</td>\n",
              "      <td>103904.000000</td>\n",
              "      <td>103904.000000</td>\n",
              "      <td>103904.000000</td>\n",
              "      <td>103904.000000</td>\n",
              "      <td>103904.000000</td>\n",
              "      <td>103904.000000</td>\n",
              "      <td>103904.000000</td>\n",
              "      <td>103904.000000</td>\n",
              "      <td>103904.000000</td>\n",
              "      <td>103594.000000</td>\n",
              "    </tr>\n",
              "    <tr>\n",
              "      <th>mean</th>\n",
              "      <td>51951.500000</td>\n",
              "      <td>64924.210502</td>\n",
              "      <td>39.379706</td>\n",
              "      <td>1189.448375</td>\n",
              "      <td>2.729683</td>\n",
              "      <td>3.060296</td>\n",
              "      <td>2.756901</td>\n",
              "      <td>2.976883</td>\n",
              "      <td>3.202129</td>\n",
              "      <td>3.250375</td>\n",
              "      <td>3.439396</td>\n",
              "      <td>3.358158</td>\n",
              "      <td>3.382363</td>\n",
              "      <td>3.351055</td>\n",
              "      <td>3.631833</td>\n",
              "      <td>3.304290</td>\n",
              "      <td>3.640428</td>\n",
              "      <td>3.286351</td>\n",
              "      <td>14.815618</td>\n",
              "      <td>15.178678</td>\n",
              "    </tr>\n",
              "    <tr>\n",
              "      <th>std</th>\n",
              "      <td>29994.645522</td>\n",
              "      <td>37463.812252</td>\n",
              "      <td>15.114964</td>\n",
              "      <td>997.147281</td>\n",
              "      <td>1.327829</td>\n",
              "      <td>1.525075</td>\n",
              "      <td>1.398929</td>\n",
              "      <td>1.277621</td>\n",
              "      <td>1.329533</td>\n",
              "      <td>1.349509</td>\n",
              "      <td>1.319088</td>\n",
              "      <td>1.332991</td>\n",
              "      <td>1.288354</td>\n",
              "      <td>1.315605</td>\n",
              "      <td>1.180903</td>\n",
              "      <td>1.265396</td>\n",
              "      <td>1.175663</td>\n",
              "      <td>1.312273</td>\n",
              "      <td>38.230901</td>\n",
              "      <td>38.698682</td>\n",
              "    </tr>\n",
              "    <tr>\n",
              "      <th>min</th>\n",
              "      <td>0.000000</td>\n",
              "      <td>1.000000</td>\n",
              "      <td>7.000000</td>\n",
              "      <td>31.000000</td>\n",
              "      <td>0.000000</td>\n",
              "      <td>0.000000</td>\n",
              "      <td>0.000000</td>\n",
              "      <td>0.000000</td>\n",
              "      <td>0.000000</td>\n",
              "      <td>0.000000</td>\n",
              "      <td>0.000000</td>\n",
              "      <td>0.000000</td>\n",
              "      <td>0.000000</td>\n",
              "      <td>0.000000</td>\n",
              "      <td>1.000000</td>\n",
              "      <td>0.000000</td>\n",
              "      <td>0.000000</td>\n",
              "      <td>0.000000</td>\n",
              "      <td>0.000000</td>\n",
              "      <td>0.000000</td>\n",
              "    </tr>\n",
              "    <tr>\n",
              "      <th>25%</th>\n",
              "      <td>25975.750000</td>\n",
              "      <td>32533.750000</td>\n",
              "      <td>27.000000</td>\n",
              "      <td>414.000000</td>\n",
              "      <td>2.000000</td>\n",
              "      <td>2.000000</td>\n",
              "      <td>2.000000</td>\n",
              "      <td>2.000000</td>\n",
              "      <td>2.000000</td>\n",
              "      <td>2.000000</td>\n",
              "      <td>2.000000</td>\n",
              "      <td>2.000000</td>\n",
              "      <td>2.000000</td>\n",
              "      <td>2.000000</td>\n",
              "      <td>3.000000</td>\n",
              "      <td>3.000000</td>\n",
              "      <td>3.000000</td>\n",
              "      <td>2.000000</td>\n",
              "      <td>0.000000</td>\n",
              "      <td>0.000000</td>\n",
              "    </tr>\n",
              "    <tr>\n",
              "      <th>50%</th>\n",
              "      <td>51951.500000</td>\n",
              "      <td>64856.500000</td>\n",
              "      <td>40.000000</td>\n",
              "      <td>843.000000</td>\n",
              "      <td>3.000000</td>\n",
              "      <td>3.000000</td>\n",
              "      <td>3.000000</td>\n",
              "      <td>3.000000</td>\n",
              "      <td>3.000000</td>\n",
              "      <td>3.000000</td>\n",
              "      <td>4.000000</td>\n",
              "      <td>4.000000</td>\n",
              "      <td>4.000000</td>\n",
              "      <td>4.000000</td>\n",
              "      <td>4.000000</td>\n",
              "      <td>3.000000</td>\n",
              "      <td>4.000000</td>\n",
              "      <td>3.000000</td>\n",
              "      <td>0.000000</td>\n",
              "      <td>0.000000</td>\n",
              "    </tr>\n",
              "    <tr>\n",
              "      <th>75%</th>\n",
              "      <td>77927.250000</td>\n",
              "      <td>97368.250000</td>\n",
              "      <td>51.000000</td>\n",
              "      <td>1743.000000</td>\n",
              "      <td>4.000000</td>\n",
              "      <td>4.000000</td>\n",
              "      <td>4.000000</td>\n",
              "      <td>4.000000</td>\n",
              "      <td>4.000000</td>\n",
              "      <td>4.000000</td>\n",
              "      <td>5.000000</td>\n",
              "      <td>4.000000</td>\n",
              "      <td>4.000000</td>\n",
              "      <td>4.000000</td>\n",
              "      <td>5.000000</td>\n",
              "      <td>4.000000</td>\n",
              "      <td>5.000000</td>\n",
              "      <td>4.000000</td>\n",
              "      <td>12.000000</td>\n",
              "      <td>13.000000</td>\n",
              "    </tr>\n",
              "    <tr>\n",
              "      <th>max</th>\n",
              "      <td>103903.000000</td>\n",
              "      <td>129880.000000</td>\n",
              "      <td>85.000000</td>\n",
              "      <td>4983.000000</td>\n",
              "      <td>5.000000</td>\n",
              "      <td>5.000000</td>\n",
              "      <td>5.000000</td>\n",
              "      <td>5.000000</td>\n",
              "      <td>5.000000</td>\n",
              "      <td>5.000000</td>\n",
              "      <td>5.000000</td>\n",
              "      <td>5.000000</td>\n",
              "      <td>5.000000</td>\n",
              "      <td>5.000000</td>\n",
              "      <td>5.000000</td>\n",
              "      <td>5.000000</td>\n",
              "      <td>5.000000</td>\n",
              "      <td>5.000000</td>\n",
              "      <td>1592.000000</td>\n",
              "      <td>1584.000000</td>\n",
              "    </tr>\n",
              "  </tbody>\n",
              "</table>\n",
              "</div>"
            ],
            "text/plain": [
              "          Unnamed: 0             id            Age  Flight Distance   \n",
              "count  103904.000000  103904.000000  103904.000000    103904.000000  \\\n",
              "mean    51951.500000   64924.210502      39.379706      1189.448375   \n",
              "std     29994.645522   37463.812252      15.114964       997.147281   \n",
              "min         0.000000       1.000000       7.000000        31.000000   \n",
              "25%     25975.750000   32533.750000      27.000000       414.000000   \n",
              "50%     51951.500000   64856.500000      40.000000       843.000000   \n",
              "75%     77927.250000   97368.250000      51.000000      1743.000000   \n",
              "max    103903.000000  129880.000000      85.000000      4983.000000   \n",
              "\n",
              "       Inflight wifi service  Departure/Arrival time convenient   \n",
              "count          103904.000000                      103904.000000  \\\n",
              "mean                2.729683                           3.060296   \n",
              "std                 1.327829                           1.525075   \n",
              "min                 0.000000                           0.000000   \n",
              "25%                 2.000000                           2.000000   \n",
              "50%                 3.000000                           3.000000   \n",
              "75%                 4.000000                           4.000000   \n",
              "max                 5.000000                           5.000000   \n",
              "\n",
              "       Ease of Online booking  Gate location  Food and drink  Online boarding   \n",
              "count           103904.000000  103904.000000   103904.000000    103904.000000  \\\n",
              "mean                 2.756901       2.976883        3.202129         3.250375   \n",
              "std                  1.398929       1.277621        1.329533         1.349509   \n",
              "min                  0.000000       0.000000        0.000000         0.000000   \n",
              "25%                  2.000000       2.000000        2.000000         2.000000   \n",
              "50%                  3.000000       3.000000        3.000000         3.000000   \n",
              "75%                  4.000000       4.000000        4.000000         4.000000   \n",
              "max                  5.000000       5.000000        5.000000         5.000000   \n",
              "\n",
              "        Seat comfort  Inflight entertainment  On-board service   \n",
              "count  103904.000000           103904.000000     103904.000000  \\\n",
              "mean        3.439396                3.358158          3.382363   \n",
              "std         1.319088                1.332991          1.288354   \n",
              "min         0.000000                0.000000          0.000000   \n",
              "25%         2.000000                2.000000          2.000000   \n",
              "50%         4.000000                4.000000          4.000000   \n",
              "75%         5.000000                4.000000          4.000000   \n",
              "max         5.000000                5.000000          5.000000   \n",
              "\n",
              "       Leg room service  Baggage handling  Checkin service  Inflight service   \n",
              "count     103904.000000     103904.000000    103904.000000     103904.000000  \\\n",
              "mean           3.351055          3.631833         3.304290          3.640428   \n",
              "std            1.315605          1.180903         1.265396          1.175663   \n",
              "min            0.000000          1.000000         0.000000          0.000000   \n",
              "25%            2.000000          3.000000         3.000000          3.000000   \n",
              "50%            4.000000          4.000000         3.000000          4.000000   \n",
              "75%            4.000000          5.000000         4.000000          5.000000   \n",
              "max            5.000000          5.000000         5.000000          5.000000   \n",
              "\n",
              "         Cleanliness  Departure Delay in Minutes  Arrival Delay in Minutes  \n",
              "count  103904.000000               103904.000000             103594.000000  \n",
              "mean        3.286351                   14.815618                 15.178678  \n",
              "std         1.312273                   38.230901                 38.698682  \n",
              "min         0.000000                    0.000000                  0.000000  \n",
              "25%         2.000000                    0.000000                  0.000000  \n",
              "50%         3.000000                    0.000000                  0.000000  \n",
              "75%         4.000000                   12.000000                 13.000000  \n",
              "max         5.000000                 1592.000000               1584.000000  "
            ]
          },
          "execution_count": 8,
          "metadata": {},
          "output_type": "execute_result"
        }
      ],
      "source": [
        "# Check Dataset - 2\n",
        "\n",
        "train.describe()"
      ]
    },
    {
      "cell_type": "markdown",
      "metadata": {
        "id": "vSGTG6pYcS5k"
      },
      "source": [
        "> dropping unesscary column"
      ]
    },
    {
      "cell_type": "code",
      "execution_count": 9,
      "metadata": {
        "colab": {
          "base_uri": "https://localhost:8080/"
        },
        "id": "6aDEOgwPcS5k",
        "outputId": "e00ea246-f6f6-4cd1-ee57-c8cf6e9ac4f8"
      },
      "outputs": [
        {
          "data": {
            "text/plain": [
              "Index(['Unnamed: 0', 'id', 'Gender', 'Customer Type', 'Age', 'Type of Travel',\n",
              "       'Class', 'Flight Distance', 'Inflight wifi service',\n",
              "       'Departure/Arrival time convenient', 'Ease of Online booking',\n",
              "       'Gate location', 'Food and drink', 'Online boarding', 'Seat comfort',\n",
              "       'Inflight entertainment', 'On-board service', 'Leg room service',\n",
              "       'Baggage handling', 'Checkin service', 'Inflight service',\n",
              "       'Cleanliness', 'Departure Delay in Minutes', 'Arrival Delay in Minutes',\n",
              "       'satisfaction'],\n",
              "      dtype='object')"
            ]
          },
          "execution_count": 9,
          "metadata": {},
          "output_type": "execute_result"
        }
      ],
      "source": [
        "train.columns"
      ]
    },
    {
      "cell_type": "code",
      "execution_count": 10,
      "metadata": {
        "id": "BTkpJgbJcS5k"
      },
      "outputs": [],
      "source": [
        "train = train.drop(columns=['Unnamed: 0', 'id'])\n",
        "test = test.drop(columns=['Unnamed: 0', 'id'])"
      ]
    },
    {
      "cell_type": "markdown",
      "metadata": {
        "id": "gfvtTK8RcS5l"
      },
      "source": [
        "mengambil beberapa jumlah data saja, karena data yang terlalu besar dapat memperlambat kinerja model"
      ]
    },
    {
      "cell_type": "code",
      "execution_count": 11,
      "metadata": {
        "id": "gI_f1DgEcS5l"
      },
      "outputs": [],
      "source": [
        "train = train.iloc[1:25001]\n",
        "test = test.iloc[1:5001]"
      ]
    },
    {
      "cell_type": "code",
      "execution_count": 12,
      "metadata": {
        "colab": {
          "base_uri": "https://localhost:8080/",
          "height": 510
        },
        "id": "vDZjdCcUcS5l",
        "outputId": "07cb1834-e9ca-49a0-dae7-5d575f5e216e"
      },
      "outputs": [
        {
          "data": {
            "text/plain": [
              "([<matplotlib.patches.Wedge at 0x26f023a0e80>,\n",
              "  <matplotlib.patches.Wedge at 0x26f02330e20>],\n",
              " [Text(-0.21331131749339252, 1.0791192157631302, 'Neutral or dissatisfied'),\n",
              "  Text(0.21331141852782406, -1.0791191957914785, 'Satisfied')],\n",
              " [Text(-0.11635162772366864, 0.5886104813253437, '56.2%'),\n",
              "  Text(0.11635168283335856, -0.5886104704317155, '43.8%')])"
            ]
          },
          "execution_count": 12,
          "metadata": {},
          "output_type": "execute_result"
        },
        {
          "data": {
            "image/png": "[encoded data removed]",
            "text/plain": [
              "<Figure size 640x480 with 1 Axes>"
            ]
          },
          "metadata": {},
          "output_type": "display_data"
        }
      ],
      "source": [
        "plt.pie(train.satisfaction.value_counts(), labels = [\"Neutral or dissatisfied\", \"Satisfied\"], colors = sns.color_palette(\"Paired\"), autopct = '%1.1f%%')"
      ]
    },
    {
      "cell_type": "markdown",
      "metadata": {
        "id": "eM1Ci6pPq34F"
      },
      "source": [
        "# 4 - Exploratory Data Analysis (EDA)"
      ]
    },
    {
      "cell_type": "code",
      "execution_count": 13,
      "metadata": {
        "colab": {
          "base_uri": "https://localhost:8080/"
        },
        "id": "jxMGxUJMcS5l",
        "outputId": "ddc2d0e4-488d-4360-a9c4-85abf67d57b1"
      },
      "outputs": [
        {
          "data": {
            "text/plain": [
              "Gender                                  2\n",
              "Customer Type                           2\n",
              "Age                                    75\n",
              "Type of Travel                          2\n",
              "Class                                   3\n",
              "Flight Distance                      3288\n",
              "Inflight wifi service                   6\n",
              "Departure/Arrival time convenient       6\n",
              "Ease of Online booking                  6\n",
              "Gate location                           5\n",
              "Food and drink                          6\n",
              "Online boarding                         6\n",
              "Seat comfort                            6\n",
              "Inflight entertainment                  6\n",
              "On-board service                        6\n",
              "Leg room service                        6\n",
              "Baggage handling                        5\n",
              "Checkin service                         6\n",
              "Inflight service                        6\n",
              "Cleanliness                             6\n",
              "Departure Delay in Minutes            314\n",
              "Arrival Delay in Minutes              322\n",
              "satisfaction                            2\n",
              "dtype: int64"
            ]
          },
          "execution_count": 13,
          "metadata": {},
          "output_type": "execute_result"
        }
      ],
      "source": [
        "train.nunique()"
      ]
    },
    {
      "cell_type": "code",
      "execution_count": 14,
      "metadata": {
        "colab": {
          "base_uri": "https://localhost:8080/"
        },
        "id": "FAlNa2E1cS5m",
        "outputId": "27fca2c4-acd5-46f2-9efe-b6366f7aa373"
      },
      "outputs": [
        {
          "data": {
            "text/plain": [
              "Index(['Gender', 'Customer Type', 'Age', 'Type of Travel', 'Class',\n",
              "       'Flight Distance', 'Inflight wifi service',\n",
              "       'Departure/Arrival time convenient', 'Ease of Online booking',\n",
              "       'Gate location', 'Food and drink', 'Online boarding', 'Seat comfort',\n",
              "       'Inflight entertainment', 'On-board service', 'Leg room service',\n",
              "       'Baggage handling', 'Checkin service', 'Inflight service',\n",
              "       'Cleanliness', 'Departure Delay in Minutes', 'Arrival Delay in Minutes',\n",
              "       'satisfaction'],\n",
              "      dtype='object')"
            ]
          },
          "execution_count": 14,
          "metadata": {},
          "output_type": "execute_result"
        }
      ],
      "source": [
        "train.columns"
      ]
    },
    {
      "cell_type": "markdown",
      "metadata": {
        "id": "UHt0Mg0NcS5m"
      },
      "source": [
        "Berdasarkan pengecekan unique values dapat disimpulkan sebagai berikut:\n",
        "\n",
        "1. Unique Columns: `Unnamed: 0`, `id`\n",
        "2. Numeric Columns: `Age`, `Flight Distance`, `Departure Delay in Minutes`, `Arrival Delay in Minutes`\n",
        "3. Target: `satisfaction`\n",
        "4. Categoric Columns: Selain dari kolom yang telah disebutkan di atas"
      ]
    },
    {
      "cell_type": "markdown",
      "metadata": {
        "id": "wACVLNHlcS5m"
      },
      "source": [
        "Dari categoric columns, dapat dibagi menjadi dua tipe data categoric yaitu\n",
        "\n",
        "1. Ordinal: `Inflight wifi service`, `Departure/Arrival time convenient`, `Ease of Online booking`, `Gate location`, `Food and drink`, `Online boarding`, `Seat comfort`, `Inflight entertainment`, `On-board service`, `Leg room service`, `Baggage handling`, `Checkin service`, `Inflight service`, `Cleanliness`\n",
        "2. Nominal: `Gender`, `Customer Type`, `Type of Travel`, `Class`"
      ]
    },
    {
      "cell_type": "markdown",
      "metadata": {
        "id": "PHQmWicJcS5m"
      },
      "source": [
        "## Distribusi Data"
      ]
    },
    {
      "cell_type": "code",
      "execution_count": 15,
      "metadata": {
        "id": "tj-lAuDscS5m"
      },
      "outputs": [],
      "source": [
        "numeric = ['Age', 'Flight Distance', 'Departure Delay in Minutes', 'Arrival Delay in Minutes']\n",
        "\n",
        "train_num = train[numeric]"
      ]
    },
    {
      "cell_type": "code",
      "execution_count": 16,
      "metadata": {
        "id": "osaEBNO0cS5n"
      },
      "outputs": [],
      "source": [
        "normal = []\n",
        "not_normal = []\n",
        "\n",
        "\n",
        "def getDataDistribution(df, column):\n",
        "    stat, p = shapiro(df[column])\n",
        "\n",
        "    # hasil uji normalitas\n",
        "    alpha = 0.05\n",
        "    if p > alpha:\n",
        "        normal.append((column))\n",
        "        # print(\"Data terdistribusi normal\")\n",
        "    else:\n",
        "        not_normal.append((column))\n",
        "        # print(\"Data tidak terdistribusi normal\")"
      ]
    },
    {
      "cell_type": "code",
      "execution_count": 17,
      "metadata": {
        "colab": {
          "base_uri": "https://localhost:8080/"
        },
        "id": "wsWgPgOrcS5n",
        "outputId": "0d98b8b9-19c7-48f7-c96f-4d31b7302586"
      },
      "outputs": [
        {
          "name": "stdout",
          "output_type": "stream",
          "text": [
            "['Arrival Delay in Minutes']\n",
            "['Age', 'Flight Distance', 'Departure Delay in Minutes']\n"
          ]
        }
      ],
      "source": [
        "for column in train_num:\n",
        "    getDataDistribution(train_num, column)\n",
        "\n",
        "print(normal)\n",
        "print(not_normal)"
      ]
    },
    {
      "cell_type": "markdown",
      "metadata": {
        "id": "KqWH55WtcS5n"
      },
      "source": [
        "**Kesimpulan EDA Sederhana**\n",
        "\n",
        "1. Dataset didominasi oleh data categoric ordinal\n",
        "2. Berdasarkan uji normalitas shapiro test, didapatkan terdapat kolom munerik yang terdistribusi normal yaitu kolom `Arrival Delay in Minutes` dan tidak terdistribusi normal yaitu kolom `Age`, `Flight Distance`, `Departure Delay in Minutes`"
      ]
    },
    {
      "cell_type": "markdown",
      "metadata": {
        "id": "BcEqygoKs74d"
      },
      "source": [
        "# 5 - Feature Engineering"
      ]
    },
    {
      "cell_type": "markdown",
      "metadata": {
        "id": "h4N0qNI4tTd6"
      },
      "source": [
        "## Split between `X` (Features) and `y` (Target)"
      ]
    },
    {
      "cell_type": "code",
      "execution_count": 18,
      "metadata": {
        "colab": {
          "base_uri": "https://localhost:8080/"
        },
        "id": "c537IfypcS5o",
        "outputId": "cc6139e1-d92d-4743-9442-29bf5a712b1f"
      },
      "outputs": [
        {
          "name": "stdout",
          "output_type": "stream",
          "text": [
            "Train size (25000, 22)\n",
            "Test size (5000, 22)\n"
          ]
        }
      ],
      "source": [
        "X_train = train.drop(columns=['satisfaction'])\n",
        "X_test = test.drop(columns=['satisfaction'])\n",
        "\n",
        "y_train = train[['satisfaction']]\n",
        "y_test = test[['satisfaction']]\n",
        "\n",
        "print('Train size', X_train.shape)\n",
        "print('Test size', X_test.shape)"
      ]
    },
    {
      "cell_type": "markdown",
      "metadata": {
        "id": "oFxT4Y3mcS5o"
      },
      "source": [
        "## Mapping"
      ]
    },
    {
      "cell_type": "markdown",
      "metadata": {
        "id": "eEt1tK-wcS5o"
      },
      "source": [
        "mengubah data kategorik pada target menjadi binary"
      ]
    },
    {
      "cell_type": "code",
      "execution_count": 19,
      "metadata": {
        "id": "nkqd65YQcS5o"
      },
      "outputs": [],
      "source": [
        "y_train = y_train['satisfaction'].map({'satisfied': 1, 'neutral or dissatisfied':0})\n",
        "y_test = y_test['satisfaction'].map({'satisfied': 1, 'neutral or dissatisfied':0})"
      ]
    },
    {
      "cell_type": "markdown",
      "metadata": {
        "id": "a5WspsYDz4oh"
      },
      "source": [
        "## Split Numerical and Categorical"
      ]
    },
    {
      "cell_type": "code",
      "execution_count": 20,
      "metadata": {
        "colab": {
          "base_uri": "https://localhost:8080/"
        },
        "id": "6ylOEebLcS5p",
        "outputId": "697bc8bc-d217-4663-b5ba-f25870c9a7b7"
      },
      "outputs": [
        {
          "name": "stdout",
          "output_type": "stream",
          "text": [
            "Numeric Columns :  ['Age', 'Flight Distance', 'Departure Delay in Minutes', 'Arrival Delay in Minutes']\n",
            "Ordinal Columns :  ['Inflight wifi service', 'Departure/Arrival time convenient', 'Ease of Online booking', 'Gate location', 'Food and drink', 'Online boarding', 'Seat comfort', 'Inflight entertainment', 'On-board service', 'Leg room service', 'Baggage handling', 'Checkin service', 'Inflight service', 'Cleanliness']\n",
            "Nominal Columns :  ['Gender', 'Customer Type', 'Type of Travel', 'Class']\n"
          ]
        }
      ],
      "source": [
        "# mengambil data berdasarkan jenis datanya, yaitu numerik dan categoric\n",
        "\n",
        "num_columns = ['Age', 'Flight Distance', 'Departure Delay in Minutes', 'Arrival Delay in Minutes']\n",
        "cat_ordinal = train.loc[:,'Inflight wifi service':'Cleanliness'].columns.to_list()\n",
        "cat_nominal = ['Gender', 'Customer Type', 'Type of Travel', 'Class']\n",
        "\n",
        "print('Numeric Columns : ', num_columns)\n",
        "print('Ordinal Columns : ', cat_ordinal)\n",
        "print('Nominal Columns : ', cat_nominal)"
      ]
    },
    {
      "cell_type": "code",
      "execution_count": 21,
      "metadata": {
        "id": "VIPErrjAcS5p"
      },
      "outputs": [],
      "source": [
        "X_train_num = X_train[num_columns]\n",
        "X_test_num = X_test[num_columns]\n",
        "\n",
        "X_train_cat_ord = X_train[cat_ordinal]\n",
        "X_test_cat_ord = X_test[cat_ordinal]\n",
        "\n",
        "X_train_cat_nom = X_train[cat_nominal]\n",
        "X_test_cat_nom = X_test[cat_nominal]"
      ]
    },
    {
      "cell_type": "markdown",
      "metadata": {
        "id": "jtUFQPSrwb2x"
      },
      "source": [
        "## Handling Outlier"
      ]
    },
    {
      "cell_type": "code",
      "execution_count": 22,
      "metadata": {
        "colab": {
          "base_uri": "https://localhost:8080/",
          "height": 482
        },
        "id": "bORI_h3WcS5p",
        "outputId": "0a2de510-42ec-477e-af81-197098617318"
      },
      "outputs": [
        {
          "data": {
            "image/png": "[encoded data removed]",
            "text/plain": [
              "<Figure size 1700x100 with 1 Axes>"
            ]
          },
          "metadata": {},
          "output_type": "display_data"
        },
        {
          "data": {
            "image/png": "[encoded data removed]",
            "text/plain": [
              "<Figure size 1700x100 with 1 Axes>"
            ]
          },
          "metadata": {},
          "output_type": "display_data"
        },
        {
          "data": {
            "image/png": "[encoded data removed]",
            "text/plain": [
              "<Figure size 1700x100 with 1 Axes>"
            ]
          },
          "metadata": {},
          "output_type": "display_data"
        },
        {
          "data": {
            "image/png": "[encoded data removed]",
            "text/plain": [
              "<Figure size 1700x100 with 1 Axes>"
            ]
          },
          "metadata": {},
          "output_type": "display_data"
        }
      ],
      "source": [
        "for column in X_train_num:\n",
        "        plt.figure(figsize=(17,1))\n",
        "        sns.boxplot(data=X_train_num, x=column)"
      ]
    },
    {
      "cell_type": "markdown",
      "metadata": {
        "id": "fxJGIBbzcS5p"
      },
      "source": [
        "Berdasarkan pengecekan outlier menggunakan boxplot, terdapat data outlier pada kolom `Flight Distance`, `Derparture Delay in Minutes` dan `Arrival Delay in Minutes`. Namun peneliti memutuskan untuk tidak melakukan handling pada outlier, hal ini dikarenakan sifat outlier yang normal yaitu delay dari suatu penerbanangan baik untuk departure dan arrival tentunya sangat beragam, ada yang delay sangat lama dan ada yang tidak terlalu lama bergantung pada kondisi di daerah tersebut."
      ]
    },
    {
      "cell_type": "code",
      "execution_count": 23,
      "metadata": {
        "colab": {
          "base_uri": "https://localhost:8080/",
          "height": 175
        },
        "id": "R7DgPLT9cS5q",
        "outputId": "f2e646b1-47bd-4f0c-fcd6-8557ca604021"
      },
      "outputs": [
        {
          "data": {
            "text/html": [
              "<div>\n",
              "<style scoped>\n",
              "    .dataframe tbody tr th:only-of-type {\n",
              "        vertical-align: middle;\n",
              "    }\n",
              "\n",
              "    .dataframe tbody tr th {\n",
              "        vertical-align: top;\n",
              "    }\n",
              "\n",
              "    .dataframe thead th {\n",
              "        text-align: right;\n",
              "    }\n",
              "</style>\n",
              "<table border=\"1\" class=\"dataframe\">\n",
              "  <thead>\n",
              "    <tr style=\"text-align: right;\">\n",
              "      <th></th>\n",
              "      <th>Gender</th>\n",
              "      <th>Customer Type</th>\n",
              "      <th>Type of Travel</th>\n",
              "      <th>Class</th>\n",
              "      <th>satisfaction</th>\n",
              "    </tr>\n",
              "  </thead>\n",
              "  <tbody>\n",
              "    <tr>\n",
              "      <th>count</th>\n",
              "      <td>10</td>\n",
              "      <td>10</td>\n",
              "      <td>10</td>\n",
              "      <td>10</td>\n",
              "      <td>10</td>\n",
              "    </tr>\n",
              "    <tr>\n",
              "      <th>unique</th>\n",
              "      <td>2</td>\n",
              "      <td>2</td>\n",
              "      <td>2</td>\n",
              "      <td>3</td>\n",
              "      <td>2</td>\n",
              "    </tr>\n",
              "    <tr>\n",
              "      <th>top</th>\n",
              "      <td>Female</td>\n",
              "      <td>Loyal Customer</td>\n",
              "      <td>Business travel</td>\n",
              "      <td>Business</td>\n",
              "      <td>satisfied</td>\n",
              "    </tr>\n",
              "    <tr>\n",
              "      <th>freq</th>\n",
              "      <td>8</td>\n",
              "      <td>9</td>\n",
              "      <td>8</td>\n",
              "      <td>7</td>\n",
              "      <td>7</td>\n",
              "    </tr>\n",
              "  </tbody>\n",
              "</table>\n",
              "</div>"
            ],
            "text/plain": [
              "        Gender   Customer Type   Type of Travel     Class satisfaction\n",
              "count       10              10               10        10           10\n",
              "unique       2               2                2         3            2\n",
              "top     Female  Loyal Customer  Business travel  Business    satisfied\n",
              "freq         8               9                8         7            7"
            ]
          },
          "execution_count": 23,
          "metadata": {},
          "output_type": "execute_result"
        }
      ],
      "source": [
        "high_distance = train[train['Flight Distance'] > 4000]\n",
        "high_distance.describe(include = ['object'])"
      ]
    },
    {
      "cell_type": "markdown",
      "metadata": {
        "id": "Hlt8RQy2cS5q"
      },
      "source": [
        " Handling outlier juga tidak dilakukan pada kolom `Flight Distance` dikarenakan jarak penerbangan yang jauh juga hal yang wajar, tergantung dari tipe kelas penerbangan yang digunakan. Berdasarkan analisa, pesawat yang yang melakukan penerbangan jarak jauh merupakan pesawat yang class-nya Business"
      ]
    },
    {
      "cell_type": "markdown",
      "metadata": {
        "id": "Qht8kPZ0wi7j"
      },
      "source": [
        "## Handling Missing Values"
      ]
    },
    {
      "cell_type": "code",
      "execution_count": 24,
      "metadata": {
        "colab": {
          "base_uri": "https://localhost:8080/",
          "height": 175
        },
        "id": "4EeOSe5EcS5q",
        "outputId": "8881c3fe-0106-46f6-d8e8-4e3f42c92f04"
      },
      "outputs": [
        {
          "data": {
            "text/html": [
              "<div>\n",
              "<style scoped>\n",
              "    .dataframe tbody tr th:only-of-type {\n",
              "        vertical-align: middle;\n",
              "    }\n",
              "\n",
              "    .dataframe tbody tr th {\n",
              "        vertical-align: top;\n",
              "    }\n",
              "\n",
              "    .dataframe thead th {\n",
              "        text-align: right;\n",
              "    }\n",
              "</style>\n",
              "<table border=\"1\" class=\"dataframe\">\n",
              "  <thead>\n",
              "    <tr style=\"text-align: right;\">\n",
              "      <th></th>\n",
              "      <th>Total Missing</th>\n",
              "      <th>Missing on percent</th>\n",
              "    </tr>\n",
              "  </thead>\n",
              "  <tbody>\n",
              "    <tr>\n",
              "      <th>Age</th>\n",
              "      <td>0</td>\n",
              "      <td>0.000</td>\n",
              "    </tr>\n",
              "    <tr>\n",
              "      <th>Flight Distance</th>\n",
              "      <td>0</td>\n",
              "      <td>0.000</td>\n",
              "    </tr>\n",
              "    <tr>\n",
              "      <th>Departure Delay in Minutes</th>\n",
              "      <td>0</td>\n",
              "      <td>0.000</td>\n",
              "    </tr>\n",
              "    <tr>\n",
              "      <th>Arrival Delay in Minutes</th>\n",
              "      <td>62</td>\n",
              "      <td>0.248</td>\n",
              "    </tr>\n",
              "  </tbody>\n",
              "</table>\n",
              "</div>"
            ],
            "text/plain": [
              "                            Total Missing  Missing on percent\n",
              "Age                                     0               0.000\n",
              "Flight Distance                         0               0.000\n",
              "Departure Delay in Minutes              0               0.000\n",
              "Arrival Delay in Minutes               62               0.248"
            ]
          },
          "execution_count": 24,
          "metadata": {},
          "output_type": "execute_result"
        }
      ],
      "source": [
        "total_missing = X_train_num.isna().sum()\n",
        "percent_missing = (X_train_num.isnull().sum() / len(X_train_num)) * 100\n",
        "missing_value_X_train_num = pd.DataFrame({'Total Missing': total_missing,\n",
        "                                          'Missing on percent': percent_missing})\n",
        "\n",
        "missing_value_X_train_num"
      ]
    },
    {
      "cell_type": "code",
      "execution_count": 25,
      "metadata": {
        "colab": {
          "base_uri": "https://localhost:8080/",
          "height": 175
        },
        "id": "XmdAWqgfcS5q",
        "outputId": "a0fc4cbf-631b-4c40-fc74-f2b607487b82"
      },
      "outputs": [
        {
          "data": {
            "text/html": [
              "<div>\n",
              "<style scoped>\n",
              "    .dataframe tbody tr th:only-of-type {\n",
              "        vertical-align: middle;\n",
              "    }\n",
              "\n",
              "    .dataframe tbody tr th {\n",
              "        vertical-align: top;\n",
              "    }\n",
              "\n",
              "    .dataframe thead th {\n",
              "        text-align: right;\n",
              "    }\n",
              "</style>\n",
              "<table border=\"1\" class=\"dataframe\">\n",
              "  <thead>\n",
              "    <tr style=\"text-align: right;\">\n",
              "      <th></th>\n",
              "      <th>Total Missing</th>\n",
              "      <th>Missing on percent</th>\n",
              "    </tr>\n",
              "  </thead>\n",
              "  <tbody>\n",
              "    <tr>\n",
              "      <th>Age</th>\n",
              "      <td>0</td>\n",
              "      <td>0.00</td>\n",
              "    </tr>\n",
              "    <tr>\n",
              "      <th>Flight Distance</th>\n",
              "      <td>0</td>\n",
              "      <td>0.00</td>\n",
              "    </tr>\n",
              "    <tr>\n",
              "      <th>Departure Delay in Minutes</th>\n",
              "      <td>0</td>\n",
              "      <td>0.00</td>\n",
              "    </tr>\n",
              "    <tr>\n",
              "      <th>Arrival Delay in Minutes</th>\n",
              "      <td>19</td>\n",
              "      <td>0.38</td>\n",
              "    </tr>\n",
              "  </tbody>\n",
              "</table>\n",
              "</div>"
            ],
            "text/plain": [
              "                            Total Missing  Missing on percent\n",
              "Age                                     0                0.00\n",
              "Flight Distance                         0                0.00\n",
              "Departure Delay in Minutes              0                0.00\n",
              "Arrival Delay in Minutes               19                0.38"
            ]
          },
          "execution_count": 25,
          "metadata": {},
          "output_type": "execute_result"
        }
      ],
      "source": [
        "total_missing = X_test_num.isna().sum()\n",
        "percent_missing = (X_test_num.isnull().sum() / len(X_test_num)) * 100\n",
        "missing_value_X_test_num = pd.DataFrame({'Total Missing': total_missing,\n",
        "                                          'Missing on percent': percent_missing})\n",
        "\n",
        "missing_value_X_test_num"
      ]
    },
    {
      "cell_type": "code",
      "execution_count": 26,
      "metadata": {
        "colab": {
          "base_uri": "https://localhost:8080/"
        },
        "id": "edHAWiTUcS5q",
        "outputId": "c268142c-5147-43d0-8e24-858aaeae6b21"
      },
      "outputs": [
        {
          "data": {
            "text/plain": [
              "0"
            ]
          },
          "execution_count": 26,
          "metadata": {},
          "output_type": "execute_result"
        }
      ],
      "source": [
        "y_train.isna().sum()"
      ]
    },
    {
      "cell_type": "code",
      "execution_count": 27,
      "metadata": {
        "colab": {
          "base_uri": "https://localhost:8080/"
        },
        "id": "RFBNq8ttcS5r",
        "outputId": "f2bae51e-77ba-4f3f-9181-bd5e3e96965f"
      },
      "outputs": [
        {
          "data": {
            "text/plain": [
              "0"
            ]
          },
          "execution_count": 27,
          "metadata": {},
          "output_type": "execute_result"
        }
      ],
      "source": [
        "y_test.isna().sum()"
      ]
    },
    {
      "cell_type": "code",
      "execution_count": 28,
      "metadata": {
        "colab": {
          "base_uri": "https://localhost:8080/",
          "height": 682
        },
        "id": "_qKoBfbucS5r",
        "outputId": "68f3bc08-13c1-4b1c-8dc6-80954e2d7f0e"
      },
      "outputs": [
        {
          "data": {
            "text/html": [
              "<div>\n",
              "<style scoped>\n",
              "    .dataframe tbody tr th:only-of-type {\n",
              "        vertical-align: middle;\n",
              "    }\n",
              "\n",
              "    .dataframe tbody tr th {\n",
              "        vertical-align: top;\n",
              "    }\n",
              "\n",
              "    .dataframe thead th {\n",
              "        text-align: right;\n",
              "    }\n",
              "</style>\n",
              "<table border=\"1\" class=\"dataframe\">\n",
              "  <thead>\n",
              "    <tr style=\"text-align: right;\">\n",
              "      <th></th>\n",
              "      <th>Gender</th>\n",
              "      <th>Customer Type</th>\n",
              "      <th>Age</th>\n",
              "      <th>Type of Travel</th>\n",
              "      <th>Class</th>\n",
              "      <th>Flight Distance</th>\n",
              "      <th>Inflight wifi service</th>\n",
              "      <th>Departure/Arrival time convenient</th>\n",
              "      <th>Ease of Online booking</th>\n",
              "      <th>Gate location</th>\n",
              "      <th>...</th>\n",
              "      <th>Inflight entertainment</th>\n",
              "      <th>On-board service</th>\n",
              "      <th>Leg room service</th>\n",
              "      <th>Baggage handling</th>\n",
              "      <th>Checkin service</th>\n",
              "      <th>Inflight service</th>\n",
              "      <th>Cleanliness</th>\n",
              "      <th>Departure Delay in Minutes</th>\n",
              "      <th>Arrival Delay in Minutes</th>\n",
              "      <th>satisfaction</th>\n",
              "    </tr>\n",
              "  </thead>\n",
              "  <tbody>\n",
              "    <tr>\n",
              "      <th>213</th>\n",
              "      <td>Female</td>\n",
              "      <td>Loyal Customer</td>\n",
              "      <td>38</td>\n",
              "      <td>Business travel</td>\n",
              "      <td>Eco</td>\n",
              "      <td>109</td>\n",
              "      <td>5</td>\n",
              "      <td>3</td>\n",
              "      <td>3</td>\n",
              "      <td>3</td>\n",
              "      <td>...</td>\n",
              "      <td>5</td>\n",
              "      <td>5</td>\n",
              "      <td>2</td>\n",
              "      <td>4</td>\n",
              "      <td>1</td>\n",
              "      <td>1</td>\n",
              "      <td>5</td>\n",
              "      <td>31</td>\n",
              "      <td>NaN</td>\n",
              "      <td>satisfied</td>\n",
              "    </tr>\n",
              "    <tr>\n",
              "      <th>1124</th>\n",
              "      <td>Male</td>\n",
              "      <td>Loyal Customer</td>\n",
              "      <td>53</td>\n",
              "      <td>Personal Travel</td>\n",
              "      <td>Eco</td>\n",
              "      <td>1012</td>\n",
              "      <td>3</td>\n",
              "      <td>2</td>\n",
              "      <td>3</td>\n",
              "      <td>4</td>\n",
              "      <td>...</td>\n",
              "      <td>4</td>\n",
              "      <td>4</td>\n",
              "      <td>4</td>\n",
              "      <td>4</td>\n",
              "      <td>3</td>\n",
              "      <td>3</td>\n",
              "      <td>4</td>\n",
              "      <td>38</td>\n",
              "      <td>NaN</td>\n",
              "      <td>neutral or dissatisfied</td>\n",
              "    </tr>\n",
              "    <tr>\n",
              "      <th>1529</th>\n",
              "      <td>Male</td>\n",
              "      <td>Loyal Customer</td>\n",
              "      <td>39</td>\n",
              "      <td>Business travel</td>\n",
              "      <td>Business</td>\n",
              "      <td>733</td>\n",
              "      <td>2</td>\n",
              "      <td>5</td>\n",
              "      <td>5</td>\n",
              "      <td>5</td>\n",
              "      <td>...</td>\n",
              "      <td>2</td>\n",
              "      <td>2</td>\n",
              "      <td>2</td>\n",
              "      <td>2</td>\n",
              "      <td>2</td>\n",
              "      <td>2</td>\n",
              "      <td>3</td>\n",
              "      <td>11</td>\n",
              "      <td>NaN</td>\n",
              "      <td>neutral or dissatisfied</td>\n",
              "    </tr>\n",
              "    <tr>\n",
              "      <th>2004</th>\n",
              "      <td>Female</td>\n",
              "      <td>disloyal Customer</td>\n",
              "      <td>26</td>\n",
              "      <td>Business travel</td>\n",
              "      <td>Business</td>\n",
              "      <td>1035</td>\n",
              "      <td>3</td>\n",
              "      <td>3</td>\n",
              "      <td>3</td>\n",
              "      <td>1</td>\n",
              "      <td>...</td>\n",
              "      <td>2</td>\n",
              "      <td>3</td>\n",
              "      <td>3</td>\n",
              "      <td>4</td>\n",
              "      <td>5</td>\n",
              "      <td>5</td>\n",
              "      <td>2</td>\n",
              "      <td>41</td>\n",
              "      <td>NaN</td>\n",
              "      <td>neutral or dissatisfied</td>\n",
              "    </tr>\n",
              "    <tr>\n",
              "      <th>2108</th>\n",
              "      <td>Female</td>\n",
              "      <td>Loyal Customer</td>\n",
              "      <td>24</td>\n",
              "      <td>Personal Travel</td>\n",
              "      <td>Eco</td>\n",
              "      <td>417</td>\n",
              "      <td>2</td>\n",
              "      <td>1</td>\n",
              "      <td>2</td>\n",
              "      <td>2</td>\n",
              "      <td>...</td>\n",
              "      <td>5</td>\n",
              "      <td>1</td>\n",
              "      <td>4</td>\n",
              "      <td>2</td>\n",
              "      <td>1</td>\n",
              "      <td>2</td>\n",
              "      <td>5</td>\n",
              "      <td>1</td>\n",
              "      <td>NaN</td>\n",
              "      <td>neutral or dissatisfied</td>\n",
              "    </tr>\n",
              "    <tr>\n",
              "      <th>2485</th>\n",
              "      <td>Female</td>\n",
              "      <td>Loyal Customer</td>\n",
              "      <td>28</td>\n",
              "      <td>Personal Travel</td>\n",
              "      <td>Eco</td>\n",
              "      <td>2370</td>\n",
              "      <td>4</td>\n",
              "      <td>5</td>\n",
              "      <td>4</td>\n",
              "      <td>3</td>\n",
              "      <td>...</td>\n",
              "      <td>3</td>\n",
              "      <td>5</td>\n",
              "      <td>4</td>\n",
              "      <td>4</td>\n",
              "      <td>5</td>\n",
              "      <td>4</td>\n",
              "      <td>3</td>\n",
              "      <td>3</td>\n",
              "      <td>NaN</td>\n",
              "      <td>satisfied</td>\n",
              "    </tr>\n",
              "    <tr>\n",
              "      <th>2630</th>\n",
              "      <td>Male</td>\n",
              "      <td>Loyal Customer</td>\n",
              "      <td>35</td>\n",
              "      <td>Business travel</td>\n",
              "      <td>Business</td>\n",
              "      <td>1534</td>\n",
              "      <td>1</td>\n",
              "      <td>1</td>\n",
              "      <td>1</td>\n",
              "      <td>1</td>\n",
              "      <td>...</td>\n",
              "      <td>5</td>\n",
              "      <td>5</td>\n",
              "      <td>5</td>\n",
              "      <td>5</td>\n",
              "      <td>5</td>\n",
              "      <td>5</td>\n",
              "      <td>5</td>\n",
              "      <td>0</td>\n",
              "      <td>NaN</td>\n",
              "      <td>satisfied</td>\n",
              "    </tr>\n",
              "    <tr>\n",
              "      <th>3621</th>\n",
              "      <td>Male</td>\n",
              "      <td>Loyal Customer</td>\n",
              "      <td>47</td>\n",
              "      <td>Personal Travel</td>\n",
              "      <td>Eco</td>\n",
              "      <td>587</td>\n",
              "      <td>1</td>\n",
              "      <td>2</td>\n",
              "      <td>1</td>\n",
              "      <td>3</td>\n",
              "      <td>...</td>\n",
              "      <td>4</td>\n",
              "      <td>1</td>\n",
              "      <td>1</td>\n",
              "      <td>4</td>\n",
              "      <td>4</td>\n",
              "      <td>4</td>\n",
              "      <td>4</td>\n",
              "      <td>17</td>\n",
              "      <td>NaN</td>\n",
              "      <td>neutral or dissatisfied</td>\n",
              "    </tr>\n",
              "    <tr>\n",
              "      <th>4041</th>\n",
              "      <td>Male</td>\n",
              "      <td>Loyal Customer</td>\n",
              "      <td>31</td>\n",
              "      <td>Business travel</td>\n",
              "      <td>Business</td>\n",
              "      <td>2490</td>\n",
              "      <td>1</td>\n",
              "      <td>1</td>\n",
              "      <td>1</td>\n",
              "      <td>1</td>\n",
              "      <td>...</td>\n",
              "      <td>4</td>\n",
              "      <td>3</td>\n",
              "      <td>5</td>\n",
              "      <td>5</td>\n",
              "      <td>4</td>\n",
              "      <td>4</td>\n",
              "      <td>4</td>\n",
              "      <td>6</td>\n",
              "      <td>NaN</td>\n",
              "      <td>satisfied</td>\n",
              "    </tr>\n",
              "    <tr>\n",
              "      <th>4490</th>\n",
              "      <td>Male</td>\n",
              "      <td>disloyal Customer</td>\n",
              "      <td>30</td>\n",
              "      <td>Business travel</td>\n",
              "      <td>Eco</td>\n",
              "      <td>737</td>\n",
              "      <td>4</td>\n",
              "      <td>4</td>\n",
              "      <td>4</td>\n",
              "      <td>3</td>\n",
              "      <td>...</td>\n",
              "      <td>2</td>\n",
              "      <td>5</td>\n",
              "      <td>1</td>\n",
              "      <td>4</td>\n",
              "      <td>1</td>\n",
              "      <td>3</td>\n",
              "      <td>2</td>\n",
              "      <td>22</td>\n",
              "      <td>NaN</td>\n",
              "      <td>neutral or dissatisfied</td>\n",
              "    </tr>\n",
              "  </tbody>\n",
              "</table>\n",
              "<p>10 rows × 23 columns</p>\n",
              "</div>"
            ],
            "text/plain": [
              "      Gender      Customer Type  Age   Type of Travel     Class   \n",
              "213   Female     Loyal Customer   38  Business travel       Eco  \\\n",
              "1124    Male     Loyal Customer   53  Personal Travel       Eco   \n",
              "1529    Male     Loyal Customer   39  Business travel  Business   \n",
              "2004  Female  disloyal Customer   26  Business travel  Business   \n",
              "2108  Female     Loyal Customer   24  Personal Travel       Eco   \n",
              "2485  Female     Loyal Customer   28  Personal Travel       Eco   \n",
              "2630    Male     Loyal Customer   35  Business travel  Business   \n",
              "3621    Male     Loyal Customer   47  Personal Travel       Eco   \n",
              "4041    Male     Loyal Customer   31  Business travel  Business   \n",
              "4490    Male  disloyal Customer   30  Business travel       Eco   \n",
              "\n",
              "      Flight Distance  Inflight wifi service   \n",
              "213               109                      5  \\\n",
              "1124             1012                      3   \n",
              "1529              733                      2   \n",
              "2004             1035                      3   \n",
              "2108              417                      2   \n",
              "2485             2370                      4   \n",
              "2630             1534                      1   \n",
              "3621              587                      1   \n",
              "4041             2490                      1   \n",
              "4490              737                      4   \n",
              "\n",
              "      Departure/Arrival time convenient  Ease of Online booking   \n",
              "213                                   3                       3  \\\n",
              "1124                                  2                       3   \n",
              "1529                                  5                       5   \n",
              "2004                                  3                       3   \n",
              "2108                                  1                       2   \n",
              "2485                                  5                       4   \n",
              "2630                                  1                       1   \n",
              "3621                                  2                       1   \n",
              "4041                                  1                       1   \n",
              "4490                                  4                       4   \n",
              "\n",
              "      Gate location  ...  Inflight entertainment  On-board service   \n",
              "213               3  ...                       5                 5  \\\n",
              "1124              4  ...                       4                 4   \n",
              "1529              5  ...                       2                 2   \n",
              "2004              1  ...                       2                 3   \n",
              "2108              2  ...                       5                 1   \n",
              "2485              3  ...                       3                 5   \n",
              "2630              1  ...                       5                 5   \n",
              "3621              3  ...                       4                 1   \n",
              "4041              1  ...                       4                 3   \n",
              "4490              3  ...                       2                 5   \n",
              "\n",
              "      Leg room service  Baggage handling  Checkin service  Inflight service   \n",
              "213                  2                 4                1                 1  \\\n",
              "1124                 4                 4                3                 3   \n",
              "1529                 2                 2                2                 2   \n",
              "2004                 3                 4                5                 5   \n",
              "2108                 4                 2                1                 2   \n",
              "2485                 4                 4                5                 4   \n",
              "2630                 5                 5                5                 5   \n",
              "3621                 1                 4                4                 4   \n",
              "4041                 5                 5                4                 4   \n",
              "4490                 1                 4                1                 3   \n",
              "\n",
              "      Cleanliness  Departure Delay in Minutes  Arrival Delay in Minutes   \n",
              "213             5                          31                       NaN  \\\n",
              "1124            4                          38                       NaN   \n",
              "1529            3                          11                       NaN   \n",
              "2004            2                          41                       NaN   \n",
              "2108            5                           1                       NaN   \n",
              "2485            3                           3                       NaN   \n",
              "2630            5                           0                       NaN   \n",
              "3621            4                          17                       NaN   \n",
              "4041            4                           6                       NaN   \n",
              "4490            2                          22                       NaN   \n",
              "\n",
              "                 satisfaction  \n",
              "213                 satisfied  \n",
              "1124  neutral or dissatisfied  \n",
              "1529  neutral or dissatisfied  \n",
              "2004  neutral or dissatisfied  \n",
              "2108  neutral or dissatisfied  \n",
              "2485                satisfied  \n",
              "2630                satisfied  \n",
              "3621  neutral or dissatisfied  \n",
              "4041                satisfied  \n",
              "4490  neutral or dissatisfied  \n",
              "\n",
              "[10 rows x 23 columns]"
            ]
          },
          "execution_count": 28,
          "metadata": {},
          "output_type": "execute_result"
        }
      ],
      "source": [
        "nan_value = train[train['Arrival Delay in Minutes'].isnull()]\n",
        "nan_value.head(10)"
      ]
    },
    {
      "cell_type": "code",
      "execution_count": 29,
      "metadata": {
        "colab": {
          "base_uri": "https://localhost:8080/",
          "height": 682
        },
        "id": "Z7-y4rG6cS5r",
        "outputId": "2c7a69c2-f3ee-44e5-ddac-0137123ac255"
      },
      "outputs": [
        {
          "data": {
            "text/html": [
              "<div>\n",
              "<style scoped>\n",
              "    .dataframe tbody tr th:only-of-type {\n",
              "        vertical-align: middle;\n",
              "    }\n",
              "\n",
              "    .dataframe tbody tr th {\n",
              "        vertical-align: top;\n",
              "    }\n",
              "\n",
              "    .dataframe thead th {\n",
              "        text-align: right;\n",
              "    }\n",
              "</style>\n",
              "<table border=\"1\" class=\"dataframe\">\n",
              "  <thead>\n",
              "    <tr style=\"text-align: right;\">\n",
              "      <th></th>\n",
              "      <th>Gender</th>\n",
              "      <th>Customer Type</th>\n",
              "      <th>Age</th>\n",
              "      <th>Type of Travel</th>\n",
              "      <th>Class</th>\n",
              "      <th>Flight Distance</th>\n",
              "      <th>Inflight wifi service</th>\n",
              "      <th>Departure/Arrival time convenient</th>\n",
              "      <th>Ease of Online booking</th>\n",
              "      <th>Gate location</th>\n",
              "      <th>...</th>\n",
              "      <th>Inflight entertainment</th>\n",
              "      <th>On-board service</th>\n",
              "      <th>Leg room service</th>\n",
              "      <th>Baggage handling</th>\n",
              "      <th>Checkin service</th>\n",
              "      <th>Inflight service</th>\n",
              "      <th>Cleanliness</th>\n",
              "      <th>Departure Delay in Minutes</th>\n",
              "      <th>Arrival Delay in Minutes</th>\n",
              "      <th>satisfaction</th>\n",
              "    </tr>\n",
              "  </thead>\n",
              "  <tbody>\n",
              "    <tr>\n",
              "      <th>20665</th>\n",
              "      <td>Female</td>\n",
              "      <td>disloyal Customer</td>\n",
              "      <td>37</td>\n",
              "      <td>Business travel</td>\n",
              "      <td>Business</td>\n",
              "      <td>1371</td>\n",
              "      <td>4</td>\n",
              "      <td>5</td>\n",
              "      <td>5</td>\n",
              "      <td>3</td>\n",
              "      <td>...</td>\n",
              "      <td>3</td>\n",
              "      <td>4</td>\n",
              "      <td>3</td>\n",
              "      <td>4</td>\n",
              "      <td>3</td>\n",
              "      <td>5</td>\n",
              "      <td>3</td>\n",
              "      <td>46</td>\n",
              "      <td>NaN</td>\n",
              "      <td>satisfied</td>\n",
              "    </tr>\n",
              "    <tr>\n",
              "      <th>21453</th>\n",
              "      <td>Male</td>\n",
              "      <td>Loyal Customer</td>\n",
              "      <td>53</td>\n",
              "      <td>Personal Travel</td>\n",
              "      <td>Eco</td>\n",
              "      <td>352</td>\n",
              "      <td>4</td>\n",
              "      <td>5</td>\n",
              "      <td>4</td>\n",
              "      <td>3</td>\n",
              "      <td>...</td>\n",
              "      <td>1</td>\n",
              "      <td>4</td>\n",
              "      <td>2</td>\n",
              "      <td>4</td>\n",
              "      <td>4</td>\n",
              "      <td>4</td>\n",
              "      <td>1</td>\n",
              "      <td>30</td>\n",
              "      <td>NaN</td>\n",
              "      <td>neutral or dissatisfied</td>\n",
              "    </tr>\n",
              "    <tr>\n",
              "      <th>21794</th>\n",
              "      <td>Male</td>\n",
              "      <td>disloyal Customer</td>\n",
              "      <td>24</td>\n",
              "      <td>Business travel</td>\n",
              "      <td>Eco</td>\n",
              "      <td>1416</td>\n",
              "      <td>2</td>\n",
              "      <td>2</td>\n",
              "      <td>2</td>\n",
              "      <td>4</td>\n",
              "      <td>...</td>\n",
              "      <td>4</td>\n",
              "      <td>1</td>\n",
              "      <td>1</td>\n",
              "      <td>4</td>\n",
              "      <td>1</td>\n",
              "      <td>4</td>\n",
              "      <td>4</td>\n",
              "      <td>0</td>\n",
              "      <td>NaN</td>\n",
              "      <td>neutral or dissatisfied</td>\n",
              "    </tr>\n",
              "    <tr>\n",
              "      <th>22202</th>\n",
              "      <td>Female</td>\n",
              "      <td>Loyal Customer</td>\n",
              "      <td>34</td>\n",
              "      <td>Business travel</td>\n",
              "      <td>Business</td>\n",
              "      <td>3303</td>\n",
              "      <td>5</td>\n",
              "      <td>5</td>\n",
              "      <td>5</td>\n",
              "      <td>5</td>\n",
              "      <td>...</td>\n",
              "      <td>4</td>\n",
              "      <td>4</td>\n",
              "      <td>4</td>\n",
              "      <td>4</td>\n",
              "      <td>2</td>\n",
              "      <td>4</td>\n",
              "      <td>3</td>\n",
              "      <td>33</td>\n",
              "      <td>NaN</td>\n",
              "      <td>satisfied</td>\n",
              "    </tr>\n",
              "    <tr>\n",
              "      <th>22840</th>\n",
              "      <td>Male</td>\n",
              "      <td>Loyal Customer</td>\n",
              "      <td>50</td>\n",
              "      <td>Business travel</td>\n",
              "      <td>Business</td>\n",
              "      <td>668</td>\n",
              "      <td>3</td>\n",
              "      <td>3</td>\n",
              "      <td>3</td>\n",
              "      <td>3</td>\n",
              "      <td>...</td>\n",
              "      <td>5</td>\n",
              "      <td>5</td>\n",
              "      <td>5</td>\n",
              "      <td>5</td>\n",
              "      <td>5</td>\n",
              "      <td>5</td>\n",
              "      <td>3</td>\n",
              "      <td>4</td>\n",
              "      <td>NaN</td>\n",
              "      <td>satisfied</td>\n",
              "    </tr>\n",
              "    <tr>\n",
              "      <th>22939</th>\n",
              "      <td>Male</td>\n",
              "      <td>Loyal Customer</td>\n",
              "      <td>60</td>\n",
              "      <td>Business travel</td>\n",
              "      <td>Business</td>\n",
              "      <td>283</td>\n",
              "      <td>0</td>\n",
              "      <td>0</td>\n",
              "      <td>0</td>\n",
              "      <td>2</td>\n",
              "      <td>...</td>\n",
              "      <td>2</td>\n",
              "      <td>2</td>\n",
              "      <td>2</td>\n",
              "      <td>2</td>\n",
              "      <td>3</td>\n",
              "      <td>2</td>\n",
              "      <td>5</td>\n",
              "      <td>36</td>\n",
              "      <td>NaN</td>\n",
              "      <td>satisfied</td>\n",
              "    </tr>\n",
              "    <tr>\n",
              "      <th>22986</th>\n",
              "      <td>Male</td>\n",
              "      <td>Loyal Customer</td>\n",
              "      <td>8</td>\n",
              "      <td>Personal Travel</td>\n",
              "      <td>Eco</td>\n",
              "      <td>1773</td>\n",
              "      <td>1</td>\n",
              "      <td>3</td>\n",
              "      <td>0</td>\n",
              "      <td>3</td>\n",
              "      <td>...</td>\n",
              "      <td>1</td>\n",
              "      <td>2</td>\n",
              "      <td>4</td>\n",
              "      <td>3</td>\n",
              "      <td>1</td>\n",
              "      <td>3</td>\n",
              "      <td>1</td>\n",
              "      <td>0</td>\n",
              "      <td>NaN</td>\n",
              "      <td>neutral or dissatisfied</td>\n",
              "    </tr>\n",
              "    <tr>\n",
              "      <th>23033</th>\n",
              "      <td>Male</td>\n",
              "      <td>Loyal Customer</td>\n",
              "      <td>24</td>\n",
              "      <td>Business travel</td>\n",
              "      <td>Business</td>\n",
              "      <td>462</td>\n",
              "      <td>5</td>\n",
              "      <td>5</td>\n",
              "      <td>5</td>\n",
              "      <td>5</td>\n",
              "      <td>...</td>\n",
              "      <td>5</td>\n",
              "      <td>4</td>\n",
              "      <td>5</td>\n",
              "      <td>5</td>\n",
              "      <td>4</td>\n",
              "      <td>2</td>\n",
              "      <td>5</td>\n",
              "      <td>46</td>\n",
              "      <td>NaN</td>\n",
              "      <td>satisfied</td>\n",
              "    </tr>\n",
              "    <tr>\n",
              "      <th>23505</th>\n",
              "      <td>Male</td>\n",
              "      <td>Loyal Customer</td>\n",
              "      <td>41</td>\n",
              "      <td>Business travel</td>\n",
              "      <td>Business</td>\n",
              "      <td>2472</td>\n",
              "      <td>3</td>\n",
              "      <td>3</td>\n",
              "      <td>3</td>\n",
              "      <td>3</td>\n",
              "      <td>...</td>\n",
              "      <td>4</td>\n",
              "      <td>4</td>\n",
              "      <td>4</td>\n",
              "      <td>4</td>\n",
              "      <td>4</td>\n",
              "      <td>4</td>\n",
              "      <td>3</td>\n",
              "      <td>86</td>\n",
              "      <td>NaN</td>\n",
              "      <td>satisfied</td>\n",
              "    </tr>\n",
              "    <tr>\n",
              "      <th>24180</th>\n",
              "      <td>Female</td>\n",
              "      <td>Loyal Customer</td>\n",
              "      <td>48</td>\n",
              "      <td>Business travel</td>\n",
              "      <td>Business</td>\n",
              "      <td>738</td>\n",
              "      <td>3</td>\n",
              "      <td>3</td>\n",
              "      <td>3</td>\n",
              "      <td>3</td>\n",
              "      <td>...</td>\n",
              "      <td>4</td>\n",
              "      <td>4</td>\n",
              "      <td>4</td>\n",
              "      <td>4</td>\n",
              "      <td>4</td>\n",
              "      <td>4</td>\n",
              "      <td>3</td>\n",
              "      <td>0</td>\n",
              "      <td>NaN</td>\n",
              "      <td>satisfied</td>\n",
              "    </tr>\n",
              "  </tbody>\n",
              "</table>\n",
              "<p>10 rows × 23 columns</p>\n",
              "</div>"
            ],
            "text/plain": [
              "       Gender      Customer Type  Age   Type of Travel     Class   \n",
              "20665  Female  disloyal Customer   37  Business travel  Business  \\\n",
              "21453    Male     Loyal Customer   53  Personal Travel       Eco   \n",
              "21794    Male  disloyal Customer   24  Business travel       Eco   \n",
              "22202  Female     Loyal Customer   34  Business travel  Business   \n",
              "22840    Male     Loyal Customer   50  Business travel  Business   \n",
              "22939    Male     Loyal Customer   60  Business travel  Business   \n",
              "22986    Male     Loyal Customer    8  Personal Travel       Eco   \n",
              "23033    Male     Loyal Customer   24  Business travel  Business   \n",
              "23505    Male     Loyal Customer   41  Business travel  Business   \n",
              "24180  Female     Loyal Customer   48  Business travel  Business   \n",
              "\n",
              "       Flight Distance  Inflight wifi service   \n",
              "20665             1371                      4  \\\n",
              "21453              352                      4   \n",
              "21794             1416                      2   \n",
              "22202             3303                      5   \n",
              "22840              668                      3   \n",
              "22939              283                      0   \n",
              "22986             1773                      1   \n",
              "23033              462                      5   \n",
              "23505             2472                      3   \n",
              "24180              738                      3   \n",
              "\n",
              "       Departure/Arrival time convenient  Ease of Online booking   \n",
              "20665                                  5                       5  \\\n",
              "21453                                  5                       4   \n",
              "21794                                  2                       2   \n",
              "22202                                  5                       5   \n",
              "22840                                  3                       3   \n",
              "22939                                  0                       0   \n",
              "22986                                  3                       0   \n",
              "23033                                  5                       5   \n",
              "23505                                  3                       3   \n",
              "24180                                  3                       3   \n",
              "\n",
              "       Gate location  ...  Inflight entertainment  On-board service   \n",
              "20665              3  ...                       3                 4  \\\n",
              "21453              3  ...                       1                 4   \n",
              "21794              4  ...                       4                 1   \n",
              "22202              5  ...                       4                 4   \n",
              "22840              3  ...                       5                 5   \n",
              "22939              2  ...                       2                 2   \n",
              "22986              3  ...                       1                 2   \n",
              "23033              5  ...                       5                 4   \n",
              "23505              3  ...                       4                 4   \n",
              "24180              3  ...                       4                 4   \n",
              "\n",
              "       Leg room service  Baggage handling  Checkin service  Inflight service   \n",
              "20665                 3                 4                3                 5  \\\n",
              "21453                 2                 4                4                 4   \n",
              "21794                 1                 4                1                 4   \n",
              "22202                 4                 4                2                 4   \n",
              "22840                 5                 5                5                 5   \n",
              "22939                 2                 2                3                 2   \n",
              "22986                 4                 3                1                 3   \n",
              "23033                 5                 5                4                 2   \n",
              "23505                 4                 4                4                 4   \n",
              "24180                 4                 4                4                 4   \n",
              "\n",
              "       Cleanliness  Departure Delay in Minutes  Arrival Delay in Minutes   \n",
              "20665            3                          46                       NaN  \\\n",
              "21453            1                          30                       NaN   \n",
              "21794            4                           0                       NaN   \n",
              "22202            3                          33                       NaN   \n",
              "22840            3                           4                       NaN   \n",
              "22939            5                          36                       NaN   \n",
              "22986            1                           0                       NaN   \n",
              "23033            5                          46                       NaN   \n",
              "23505            3                          86                       NaN   \n",
              "24180            3                           0                       NaN   \n",
              "\n",
              "                  satisfaction  \n",
              "20665                satisfied  \n",
              "21453  neutral or dissatisfied  \n",
              "21794  neutral or dissatisfied  \n",
              "22202                satisfied  \n",
              "22840                satisfied  \n",
              "22939                satisfied  \n",
              "22986  neutral or dissatisfied  \n",
              "23033                satisfied  \n",
              "23505                satisfied  \n",
              "24180                satisfied  \n",
              "\n",
              "[10 rows x 23 columns]"
            ]
          },
          "execution_count": 29,
          "metadata": {},
          "output_type": "execute_result"
        }
      ],
      "source": [
        "nan_value.tail(10)"
      ]
    },
    {
      "cell_type": "code",
      "execution_count": 30,
      "metadata": {
        "colab": {
          "base_uri": "https://localhost:8080/"
        },
        "id": "1iozS-micS5r",
        "outputId": "1887c61b-69e4-48bb-d8cd-89e701997aee"
      },
      "outputs": [
        {
          "data": {
            "text/plain": [
              "(62, 23)"
            ]
          },
          "execution_count": 30,
          "metadata": {},
          "output_type": "execute_result"
        }
      ],
      "source": [
        "nan_value.shape"
      ]
    },
    {
      "cell_type": "code",
      "execution_count": 31,
      "metadata": {
        "colab": {
          "base_uri": "https://localhost:8080/",
          "height": 175
        },
        "id": "ofKnUo05cS5r",
        "outputId": "1fe0a891-d1ac-4665-d6c4-a15b73e934df"
      },
      "outputs": [
        {
          "data": {
            "text/html": [
              "<div>\n",
              "<style scoped>\n",
              "    .dataframe tbody tr th:only-of-type {\n",
              "        vertical-align: middle;\n",
              "    }\n",
              "\n",
              "    .dataframe tbody tr th {\n",
              "        vertical-align: top;\n",
              "    }\n",
              "\n",
              "    .dataframe thead th {\n",
              "        text-align: right;\n",
              "    }\n",
              "</style>\n",
              "<table border=\"1\" class=\"dataframe\">\n",
              "  <thead>\n",
              "    <tr style=\"text-align: right;\">\n",
              "      <th></th>\n",
              "      <th>Gender</th>\n",
              "      <th>Customer Type</th>\n",
              "      <th>Type of Travel</th>\n",
              "      <th>Class</th>\n",
              "      <th>satisfaction</th>\n",
              "    </tr>\n",
              "  </thead>\n",
              "  <tbody>\n",
              "    <tr>\n",
              "      <th>count</th>\n",
              "      <td>62</td>\n",
              "      <td>62</td>\n",
              "      <td>62</td>\n",
              "      <td>62</td>\n",
              "      <td>62</td>\n",
              "    </tr>\n",
              "    <tr>\n",
              "      <th>unique</th>\n",
              "      <td>2</td>\n",
              "      <td>2</td>\n",
              "      <td>2</td>\n",
              "      <td>3</td>\n",
              "      <td>2</td>\n",
              "    </tr>\n",
              "    <tr>\n",
              "      <th>top</th>\n",
              "      <td>Female</td>\n",
              "      <td>Loyal Customer</td>\n",
              "      <td>Business travel</td>\n",
              "      <td>Business</td>\n",
              "      <td>neutral or dissatisfied</td>\n",
              "    </tr>\n",
              "    <tr>\n",
              "      <th>freq</th>\n",
              "      <td>31</td>\n",
              "      <td>54</td>\n",
              "      <td>41</td>\n",
              "      <td>30</td>\n",
              "      <td>32</td>\n",
              "    </tr>\n",
              "  </tbody>\n",
              "</table>\n",
              "</div>"
            ],
            "text/plain": [
              "        Gender   Customer Type   Type of Travel     Class   \n",
              "count       62              62               62        62  \\\n",
              "unique       2               2                2         3   \n",
              "top     Female  Loyal Customer  Business travel  Business   \n",
              "freq        31              54               41        30   \n",
              "\n",
              "                   satisfaction  \n",
              "count                        62  \n",
              "unique                        2  \n",
              "top     neutral or dissatisfied  \n",
              "freq                         32  "
            ]
          },
          "execution_count": 31,
          "metadata": {},
          "output_type": "execute_result"
        }
      ],
      "source": [
        "nan_value.describe(include = ['object'])"
      ]
    },
    {
      "cell_type": "markdown",
      "metadata": {
        "id": "tEE6iTxWcS5r"
      },
      "source": [
        "**Kesimpulan Analisis Missing Values**\n",
        "\n",
        "- Missing values hanya ditemukan pada data feature train dan test dan tidak ditemukan missing values pada data target.\n",
        "- Data missing pada kolom `Arrival Delay in Minutes` berkarakteristik MCAR (Missing Completely  at Random) karena data yang missing juga terdapat pada satisfaction yang satisfied maupun neutral or dissatisfied walaupun type customer yang loyal paling banyak memiliki missing values, namun dapat dilihat pula pada kolom lainnya probabilitas missing values terlihat sama untuk setiap barisnya."
      ]
    },
    {
      "cell_type": "markdown",
      "metadata": {
        "id": "UPc5Z85ocS5s"
      },
      "source": [
        "> **Imputasi Missing Values**"
      ]
    },
    {
      "cell_type": "markdown",
      "metadata": {
        "id": "33yEDlrKcS5s"
      },
      "source": [
        "Karena variabel `Arrival Delay in Minutes` terdistribusi normal, maka metode untuk melakukan missing values handling adalah melakukan imputasi menggunakan mean."
      ]
    },
    {
      "cell_type": "code",
      "execution_count": 32,
      "metadata": {
        "id": "65IPMf2-cS5s"
      },
      "outputs": [],
      "source": [
        "Train_mean_value = X_train_num['Arrival Delay in Minutes'].mean()\n",
        "Test_mean_value = X_test_num['Arrival Delay in Minutes'].mean()"
      ]
    },
    {
      "cell_type": "code",
      "execution_count": 33,
      "metadata": {
        "id": "WJyrBXyLcS5s"
      },
      "outputs": [],
      "source": [
        "X_train_num['Arrival Delay in Minutes'].fillna(value=Train_mean_value, inplace=True)\n",
        "X_test_num['Arrival Delay in Minutes'].fillna(value=Test_mean_value, inplace=True)"
      ]
    },
    {
      "cell_type": "code",
      "execution_count": 34,
      "metadata": {
        "colab": {
          "base_uri": "https://localhost:8080/"
        },
        "id": "4oTvFhEtcS5s",
        "outputId": "436dc8e4-9cb7-4cbb-f194-05912cd0790c"
      },
      "outputs": [
        {
          "data": {
            "text/plain": [
              "Age                           0\n",
              "Flight Distance               0\n",
              "Departure Delay in Minutes    0\n",
              "Arrival Delay in Minutes      0\n",
              "dtype: int64"
            ]
          },
          "execution_count": 34,
          "metadata": {},
          "output_type": "execute_result"
        }
      ],
      "source": [
        "X_train_num.isna().sum()"
      ]
    },
    {
      "cell_type": "code",
      "execution_count": 35,
      "metadata": {
        "colab": {
          "base_uri": "https://localhost:8080/"
        },
        "id": "L52iT00McS5s",
        "outputId": "ad9aafd4-fd1c-463a-bde0-f588f96e854e"
      },
      "outputs": [
        {
          "data": {
            "text/plain": [
              "Age                           0\n",
              "Flight Distance               0\n",
              "Departure Delay in Minutes    0\n",
              "Arrival Delay in Minutes      0\n",
              "dtype: int64"
            ]
          },
          "execution_count": 35,
          "metadata": {},
          "output_type": "execute_result"
        }
      ],
      "source": [
        "X_train_num.isna().sum()"
      ]
    },
    {
      "cell_type": "code",
      "execution_count": 36,
      "metadata": {
        "id": "6K-AwzAEcS5s"
      },
      "outputs": [],
      "source": [
        "normal_new = []\n",
        "not_normal_new = []\n",
        "\n",
        "def getNewDataDistribution(df, column):\n",
        "    stat, p = shapiro(df[column])\n",
        "\n",
        "    # hasil uji normalitas\n",
        "    alpha = 0.05\n",
        "    if p > alpha:\n",
        "        normal_new.append((column))\n",
        "    else:\n",
        "        not_normal_new.append((column))"
      ]
    },
    {
      "cell_type": "code",
      "execution_count": 37,
      "metadata": {
        "colab": {
          "base_uri": "https://localhost:8080/"
        },
        "id": "2m4i3vDmcS5t",
        "outputId": "f9892817-9492-4c93-e34e-f86a3cfa2da2"
      },
      "outputs": [
        {
          "name": "stdout",
          "output_type": "stream",
          "text": [
            "[]\n",
            "['Age', 'Flight Distance', 'Departure Delay in Minutes', 'Arrival Delay in Minutes']\n"
          ]
        }
      ],
      "source": [
        "for column in X_train_num:\n",
        "    getNewDataDistribution(X_train_num, column)\n",
        "\n",
        "print(normal_new)\n",
        "print(not_normal_new)"
      ]
    },
    {
      "cell_type": "markdown",
      "metadata": {
        "id": "Qd2E4hixcS5t"
      },
      "source": [
        "Handling missing values telah berhasil dilakukan, maka data sudah siap untuk digunakan namun setelah dilakukan missing values handling, data yang awalnya terdistribusi normal, berubah menjadi tidak terdistribusi normal."
      ]
    },
    {
      "cell_type": "code",
      "execution_count": 38,
      "metadata": {
        "colab": {
          "base_uri": "https://localhost:8080/",
          "height": 713
        },
        "id": "5L5_uhfLcS5t",
        "outputId": "7541d8f4-f417-4f30-dc0f-8c11277f934c"
      },
      "outputs": [
        {
          "data": {
            "text/html": [
              "<div>\n",
              "<style scoped>\n",
              "    .dataframe tbody tr th:only-of-type {\n",
              "        vertical-align: middle;\n",
              "    }\n",
              "\n",
              "    .dataframe tbody tr th {\n",
              "        vertical-align: top;\n",
              "    }\n",
              "\n",
              "    .dataframe thead th {\n",
              "        text-align: right;\n",
              "    }\n",
              "</style>\n",
              "<table border=\"1\" class=\"dataframe\">\n",
              "  <thead>\n",
              "    <tr style=\"text-align: right;\">\n",
              "      <th></th>\n",
              "      <th>Age</th>\n",
              "      <th>Flight Distance</th>\n",
              "      <th>Departure Delay in Minutes</th>\n",
              "      <th>Arrival Delay in Minutes</th>\n",
              "      <th>Gender</th>\n",
              "      <th>Customer Type</th>\n",
              "      <th>Type of Travel</th>\n",
              "      <th>Class</th>\n",
              "      <th>Inflight wifi service</th>\n",
              "      <th>Departure/Arrival time convenient</th>\n",
              "      <th>...</th>\n",
              "      <th>Food and drink</th>\n",
              "      <th>Online boarding</th>\n",
              "      <th>Seat comfort</th>\n",
              "      <th>Inflight entertainment</th>\n",
              "      <th>On-board service</th>\n",
              "      <th>Leg room service</th>\n",
              "      <th>Baggage handling</th>\n",
              "      <th>Checkin service</th>\n",
              "      <th>Inflight service</th>\n",
              "      <th>Cleanliness</th>\n",
              "    </tr>\n",
              "  </thead>\n",
              "  <tbody>\n",
              "    <tr>\n",
              "      <th>1</th>\n",
              "      <td>25</td>\n",
              "      <td>235</td>\n",
              "      <td>1</td>\n",
              "      <td>6.0</td>\n",
              "      <td>Male</td>\n",
              "      <td>disloyal Customer</td>\n",
              "      <td>Business travel</td>\n",
              "      <td>Business</td>\n",
              "      <td>3</td>\n",
              "      <td>2</td>\n",
              "      <td>...</td>\n",
              "      <td>1</td>\n",
              "      <td>3</td>\n",
              "      <td>1</td>\n",
              "      <td>1</td>\n",
              "      <td>1</td>\n",
              "      <td>5</td>\n",
              "      <td>3</td>\n",
              "      <td>1</td>\n",
              "      <td>4</td>\n",
              "      <td>1</td>\n",
              "    </tr>\n",
              "    <tr>\n",
              "      <th>2</th>\n",
              "      <td>26</td>\n",
              "      <td>1142</td>\n",
              "      <td>0</td>\n",
              "      <td>0.0</td>\n",
              "      <td>Female</td>\n",
              "      <td>Loyal Customer</td>\n",
              "      <td>Business travel</td>\n",
              "      <td>Business</td>\n",
              "      <td>2</td>\n",
              "      <td>2</td>\n",
              "      <td>...</td>\n",
              "      <td>5</td>\n",
              "      <td>5</td>\n",
              "      <td>5</td>\n",
              "      <td>5</td>\n",
              "      <td>4</td>\n",
              "      <td>3</td>\n",
              "      <td>4</td>\n",
              "      <td>4</td>\n",
              "      <td>4</td>\n",
              "      <td>5</td>\n",
              "    </tr>\n",
              "    <tr>\n",
              "      <th>3</th>\n",
              "      <td>25</td>\n",
              "      <td>562</td>\n",
              "      <td>11</td>\n",
              "      <td>9.0</td>\n",
              "      <td>Female</td>\n",
              "      <td>Loyal Customer</td>\n",
              "      <td>Business travel</td>\n",
              "      <td>Business</td>\n",
              "      <td>2</td>\n",
              "      <td>5</td>\n",
              "      <td>...</td>\n",
              "      <td>2</td>\n",
              "      <td>2</td>\n",
              "      <td>2</td>\n",
              "      <td>2</td>\n",
              "      <td>2</td>\n",
              "      <td>5</td>\n",
              "      <td>3</td>\n",
              "      <td>1</td>\n",
              "      <td>4</td>\n",
              "      <td>2</td>\n",
              "    </tr>\n",
              "    <tr>\n",
              "      <th>4</th>\n",
              "      <td>61</td>\n",
              "      <td>214</td>\n",
              "      <td>0</td>\n",
              "      <td>0.0</td>\n",
              "      <td>Male</td>\n",
              "      <td>Loyal Customer</td>\n",
              "      <td>Business travel</td>\n",
              "      <td>Business</td>\n",
              "      <td>3</td>\n",
              "      <td>3</td>\n",
              "      <td>...</td>\n",
              "      <td>4</td>\n",
              "      <td>5</td>\n",
              "      <td>5</td>\n",
              "      <td>3</td>\n",
              "      <td>3</td>\n",
              "      <td>4</td>\n",
              "      <td>4</td>\n",
              "      <td>3</td>\n",
              "      <td>3</td>\n",
              "      <td>3</td>\n",
              "    </tr>\n",
              "    <tr>\n",
              "      <th>5</th>\n",
              "      <td>26</td>\n",
              "      <td>1180</td>\n",
              "      <td>0</td>\n",
              "      <td>0.0</td>\n",
              "      <td>Female</td>\n",
              "      <td>Loyal Customer</td>\n",
              "      <td>Personal Travel</td>\n",
              "      <td>Eco</td>\n",
              "      <td>3</td>\n",
              "      <td>4</td>\n",
              "      <td>...</td>\n",
              "      <td>1</td>\n",
              "      <td>2</td>\n",
              "      <td>1</td>\n",
              "      <td>1</td>\n",
              "      <td>3</td>\n",
              "      <td>4</td>\n",
              "      <td>4</td>\n",
              "      <td>4</td>\n",
              "      <td>4</td>\n",
              "      <td>1</td>\n",
              "    </tr>\n",
              "    <tr>\n",
              "      <th>...</th>\n",
              "      <td>...</td>\n",
              "      <td>...</td>\n",
              "      <td>...</td>\n",
              "      <td>...</td>\n",
              "      <td>...</td>\n",
              "      <td>...</td>\n",
              "      <td>...</td>\n",
              "      <td>...</td>\n",
              "      <td>...</td>\n",
              "      <td>...</td>\n",
              "      <td>...</td>\n",
              "      <td>...</td>\n",
              "      <td>...</td>\n",
              "      <td>...</td>\n",
              "      <td>...</td>\n",
              "      <td>...</td>\n",
              "      <td>...</td>\n",
              "      <td>...</td>\n",
              "      <td>...</td>\n",
              "      <td>...</td>\n",
              "      <td>...</td>\n",
              "    </tr>\n",
              "    <tr>\n",
              "      <th>24996</th>\n",
              "      <td>23</td>\n",
              "      <td>302</td>\n",
              "      <td>28</td>\n",
              "      <td>22.0</td>\n",
              "      <td>Female</td>\n",
              "      <td>disloyal Customer</td>\n",
              "      <td>Business travel</td>\n",
              "      <td>Eco</td>\n",
              "      <td>5</td>\n",
              "      <td>5</td>\n",
              "      <td>...</td>\n",
              "      <td>1</td>\n",
              "      <td>5</td>\n",
              "      <td>1</td>\n",
              "      <td>1</td>\n",
              "      <td>3</td>\n",
              "      <td>3</td>\n",
              "      <td>4</td>\n",
              "      <td>3</td>\n",
              "      <td>4</td>\n",
              "      <td>1</td>\n",
              "    </tr>\n",
              "    <tr>\n",
              "      <th>24997</th>\n",
              "      <td>39</td>\n",
              "      <td>3811</td>\n",
              "      <td>310</td>\n",
              "      <td>300.0</td>\n",
              "      <td>Female</td>\n",
              "      <td>Loyal Customer</td>\n",
              "      <td>Business travel</td>\n",
              "      <td>Business</td>\n",
              "      <td>1</td>\n",
              "      <td>1</td>\n",
              "      <td>...</td>\n",
              "      <td>4</td>\n",
              "      <td>4</td>\n",
              "      <td>4</td>\n",
              "      <td>4</td>\n",
              "      <td>3</td>\n",
              "      <td>4</td>\n",
              "      <td>5</td>\n",
              "      <td>4</td>\n",
              "      <td>4</td>\n",
              "      <td>4</td>\n",
              "    </tr>\n",
              "    <tr>\n",
              "      <th>24998</th>\n",
              "      <td>47</td>\n",
              "      <td>1187</td>\n",
              "      <td>0</td>\n",
              "      <td>0.0</td>\n",
              "      <td>Male</td>\n",
              "      <td>Loyal Customer</td>\n",
              "      <td>Business travel</td>\n",
              "      <td>Business</td>\n",
              "      <td>4</td>\n",
              "      <td>4</td>\n",
              "      <td>...</td>\n",
              "      <td>4</td>\n",
              "      <td>4</td>\n",
              "      <td>5</td>\n",
              "      <td>5</td>\n",
              "      <td>5</td>\n",
              "      <td>5</td>\n",
              "      <td>5</td>\n",
              "      <td>4</td>\n",
              "      <td>5</td>\n",
              "      <td>4</td>\n",
              "    </tr>\n",
              "    <tr>\n",
              "      <th>24999</th>\n",
              "      <td>67</td>\n",
              "      <td>610</td>\n",
              "      <td>103</td>\n",
              "      <td>106.0</td>\n",
              "      <td>Male</td>\n",
              "      <td>Loyal Customer</td>\n",
              "      <td>Personal Travel</td>\n",
              "      <td>Eco Plus</td>\n",
              "      <td>4</td>\n",
              "      <td>5</td>\n",
              "      <td>...</td>\n",
              "      <td>1</td>\n",
              "      <td>4</td>\n",
              "      <td>1</td>\n",
              "      <td>1</td>\n",
              "      <td>5</td>\n",
              "      <td>3</td>\n",
              "      <td>4</td>\n",
              "      <td>3</td>\n",
              "      <td>5</td>\n",
              "      <td>1</td>\n",
              "    </tr>\n",
              "    <tr>\n",
              "      <th>25000</th>\n",
              "      <td>56</td>\n",
              "      <td>370</td>\n",
              "      <td>0</td>\n",
              "      <td>9.0</td>\n",
              "      <td>Female</td>\n",
              "      <td>Loyal Customer</td>\n",
              "      <td>Personal Travel</td>\n",
              "      <td>Eco</td>\n",
              "      <td>3</td>\n",
              "      <td>4</td>\n",
              "      <td>...</td>\n",
              "      <td>4</td>\n",
              "      <td>4</td>\n",
              "      <td>3</td>\n",
              "      <td>3</td>\n",
              "      <td>3</td>\n",
              "      <td>3</td>\n",
              "      <td>3</td>\n",
              "      <td>2</td>\n",
              "      <td>3</td>\n",
              "      <td>1</td>\n",
              "    </tr>\n",
              "  </tbody>\n",
              "</table>\n",
              "<p>25000 rows × 22 columns</p>\n",
              "</div>"
            ],
            "text/plain": [
              "       Age  Flight Distance  Departure Delay in Minutes   \n",
              "1       25              235                           1  \\\n",
              "2       26             1142                           0   \n",
              "3       25              562                          11   \n",
              "4       61              214                           0   \n",
              "5       26             1180                           0   \n",
              "...    ...              ...                         ...   \n",
              "24996   23              302                          28   \n",
              "24997   39             3811                         310   \n",
              "24998   47             1187                           0   \n",
              "24999   67              610                         103   \n",
              "25000   56              370                           0   \n",
              "\n",
              "       Arrival Delay in Minutes  Gender      Customer Type   Type of Travel   \n",
              "1                           6.0    Male  disloyal Customer  Business travel  \\\n",
              "2                           0.0  Female     Loyal Customer  Business travel   \n",
              "3                           9.0  Female     Loyal Customer  Business travel   \n",
              "4                           0.0    Male     Loyal Customer  Business travel   \n",
              "5                           0.0  Female     Loyal Customer  Personal Travel   \n",
              "...                         ...     ...                ...              ...   \n",
              "24996                      22.0  Female  disloyal Customer  Business travel   \n",
              "24997                     300.0  Female     Loyal Customer  Business travel   \n",
              "24998                       0.0    Male     Loyal Customer  Business travel   \n",
              "24999                     106.0    Male     Loyal Customer  Personal Travel   \n",
              "25000                       9.0  Female     Loyal Customer  Personal Travel   \n",
              "\n",
              "          Class  Inflight wifi service  Departure/Arrival time convenient   \n",
              "1      Business                      3                                  2  \\\n",
              "2      Business                      2                                  2   \n",
              "3      Business                      2                                  5   \n",
              "4      Business                      3                                  3   \n",
              "5           Eco                      3                                  4   \n",
              "...         ...                    ...                                ...   \n",
              "24996       Eco                      5                                  5   \n",
              "24997  Business                      1                                  1   \n",
              "24998  Business                      4                                  4   \n",
              "24999  Eco Plus                      4                                  5   \n",
              "25000       Eco                      3                                  4   \n",
              "\n",
              "       ...  Food and drink  Online boarding  Seat comfort   \n",
              "1      ...               1                3             1  \\\n",
              "2      ...               5                5             5   \n",
              "3      ...               2                2             2   \n",
              "4      ...               4                5             5   \n",
              "5      ...               1                2             1   \n",
              "...    ...             ...              ...           ...   \n",
              "24996  ...               1                5             1   \n",
              "24997  ...               4                4             4   \n",
              "24998  ...               4                4             5   \n",
              "24999  ...               1                4             1   \n",
              "25000  ...               4                4             3   \n",
              "\n",
              "       Inflight entertainment  On-board service  Leg room service   \n",
              "1                           1                 1                 5  \\\n",
              "2                           5                 4                 3   \n",
              "3                           2                 2                 5   \n",
              "4                           3                 3                 4   \n",
              "5                           1                 3                 4   \n",
              "...                       ...               ...               ...   \n",
              "24996                       1                 3                 3   \n",
              "24997                       4                 3                 4   \n",
              "24998                       5                 5                 5   \n",
              "24999                       1                 5                 3   \n",
              "25000                       3                 3                 3   \n",
              "\n",
              "       Baggage handling  Checkin service  Inflight service  Cleanliness  \n",
              "1                     3                1                 4            1  \n",
              "2                     4                4                 4            5  \n",
              "3                     3                1                 4            2  \n",
              "4                     4                3                 3            3  \n",
              "5                     4                4                 4            1  \n",
              "...                 ...              ...               ...          ...  \n",
              "24996                 4                3                 4            1  \n",
              "24997                 5                4                 4            4  \n",
              "24998                 5                4                 5            4  \n",
              "24999                 4                3                 5            1  \n",
              "25000                 3                2                 3            1  \n",
              "\n",
              "[25000 rows x 22 columns]"
            ]
          },
          "execution_count": 38,
          "metadata": {},
          "output_type": "execute_result"
        }
      ],
      "source": [
        "X_train_final = pd.concat([X_train_num, X_train_cat_nom, X_train_cat_ord], axis=1)\n",
        "X_test_final = pd.concat([X_test_num, X_test_cat_nom, X_test_cat_ord], axis=1)\n",
        "X_train_final"
      ]
    },
    {
      "cell_type": "markdown",
      "metadata": {
        "id": "MsMjW14IcS5t"
      },
      "source": [
        "## Define Columns Transformer with Pipeline"
      ]
    },
    {
      "cell_type": "markdown",
      "metadata": {
        "id": "_XEZE3opq3Xp"
      },
      "source": [
        "> **Tentang Scaling**\n",
        "\n",
        "Scaling digunakan untuk mengubah skala nilai pada fitur atau variabel agar memiliki rentang yang seragam, sehingga tidak ada variabel yang mendominasi variabel lainnya hanya karena rentang nilai yang lebih besar. Hal ini dapat membantu model machine learning untuk belajar lebih baik dan menghasilkan prediksi yang lebih akurat. \n",
        "\n",
        "Metode scaling yang digunakan adalah MinMaxScaler, hal ini dikarenakan data tidak terdistribusi normal."
      ]
    },
    {
      "cell_type": "markdown",
      "metadata": {
        "id": "xYaNeOkOrKsh"
      },
      "source": [
        "> **Tentang Encoder**\n",
        "\n",
        "Tujuan dari encoding adalah untuk mengubah data dalam suatu format yang dapat dimengerti oleh mesin atau model machine learning. Data dalam bentuk string atau kategori tidak dapat diolah secara langsung oleh model machine learning, sehingga perlu diubah menjadi format numerik. \n",
        "\n",
        "Metode encoder yang digunakan adalah One Hot Encoder, hal ini dikarenakan tipe data yang tidak berurutan seperti variabel nominal dengan beberapa kategori"
      ]
    },
    {
      "cell_type": "code",
      "execution_count": 39,
      "metadata": {
        "id": "IuOKGw2WcS5t"
      },
      "outputs": [],
      "source": [
        "OneHot = OneHotEncoder()\n",
        "Scaler = MinMaxScaler()\n",
        "\n",
        "preprocess = make_column_transformer(\n",
        "    (OneHot, cat_nominal),\n",
        "    (Scaler, num_columns),\n",
        "    remainder='passthrough'\n",
        ")"
      ]
    },
    {
      "cell_type": "markdown",
      "metadata": {
        "id": "lxzGigKup33j"
      },
      "source": [
        "* Syntax tersebut akan membuat sebuah objek preprocessor yang berisi dua transformer, yaitu OneHotEncoder dan MinMaxScaler.\n",
        "\n",
        "* OneHotEncoder akan diaplikasikan pada kolom-kolom kategorikal (nominal), sedangkan MinMaxScaler akan diaplikasikan pada kolom-kolom numerik.\n",
        "\n",
        "* Kolom-kolom non-numerik yang tidak termasuk dalam kolom-kolom kategorikal dan numerik akan diproses secara langsung dengan parameter `remainder='passthrough'`."
      ]
    },
    {
      "cell_type": "markdown",
      "metadata": {
        "id": "wt0lzmancS5t"
      },
      "source": [
        "# 6 - Modelling with Default Param"
      ]
    },
    {
      "cell_type": "markdown",
      "metadata": {
        "id": "JEDG1rnz5aG8"
      },
      "source": [
        "\n",
        "> **Pemilihan Metrics**\n",
        "* Tujuan kita adalah menurunkan false positive, maka fokus kita sebaiknya pada meningkatkan nilai **precision**. Hal ini karena nilai **precision** menggambarkan seberapa akurat model dalam memprediksi data positif (benar) dibandingkan dengan data negatif (salah), sehingga dengan meningkatkan **precision**, kemungkinan model memprediksi data negatif sebagai positif (false positive) dapat dikurangi."
      ]
    },
    {
      "cell_type": "markdown",
      "metadata": {
        "id": "sKZ999mlcS5u"
      },
      "source": [
        "## Logistic Regression"
      ]
    },
    {
      "cell_type": "code",
      "execution_count": 40,
      "metadata": {
        "colab": {
          "base_uri": "https://localhost:8080/",
          "height": 744
        },
        "id": "ynzdHe9EcS5u",
        "outputId": "f7401574-133d-4320-81e0-d4a7d3adad8c"
      },
      "outputs": [
        {
          "name": "stdout",
          "output_type": "stream",
          "text": [
            "model score: 0.874 \n",
            "\n",
            "precison score train set: 0.869\n",
            "precison score test set: 0.862 \n",
            "\n",
            "Classification Report : \n",
            "               precision    recall  f1-score   support\n",
            "\n",
            "           0       0.88      0.90      0.89     14053\n",
            "           1       0.87      0.84      0.85     10947\n",
            "\n",
            "    accuracy                           0.87     25000\n",
            "   macro avg       0.87      0.87      0.87     25000\n",
            "weighted avg       0.87      0.87      0.87     25000\n",
            "\n",
            "Confusion Matrix      : \n",
            " <sklearn.metrics._plot.confusion_matrix.ConfusionMatrixDisplay object at 0x0000026F06E95D00>\n"
          ]
        },
        {
          "data": {
            "image/png": "[encoded data removed]",
            "text/plain": [
              "<Figure size 640x480 with 2 Axes>"
            ]
          },
          "metadata": {},
          "output_type": "display_data"
        }
      ],
      "source": [
        "estimator_LG = LogisticRegression()\n",
        "\n",
        "steps = [\n",
        "    ('preprocess', preprocess),\n",
        "    ('clf', estimator_LG)\n",
        "]\n",
        "\n",
        "pipeline = Pipeline(steps)\n",
        "pipeline.fit(X_train_final, y_train)\n",
        "\n",
        "y_pred_train = pipeline.predict(X_train_final)\n",
        "y_pred_test = pipeline.predict(X_test_final)\n",
        "\n",
        "print(\"model score: %.3f \\n\" % pipeline.score(X_test_final, y_test))\n",
        "print('precison score train set: %.3f' % precision_score(y_train, y_pred_train))\n",
        "print('precison score test set: %.3f \\n' % precision_score(y_test, y_pred_test))\n",
        "print('Classification Report : \\n', classification_report(y_train,y_pred_train))\n",
        "print('Confusion Matrix      : \\n', ConfusionMatrixDisplay.from_estimator(pipeline, X_train_final, y_train, cmap='Blues'))"
      ]
    },
    {
      "cell_type": "code",
      "execution_count": 41,
      "metadata": {
        "colab": {
          "base_uri": "https://localhost:8080/",
          "height": 423
        },
        "id": "4jerFyTGcS5u",
        "outputId": "c4bfa83d-a620-44d0-eee6-f57e58b2f8e7"
      },
      "outputs": [
        {
          "data": {
            "text/html": [
              "<div>\n",
              "<style scoped>\n",
              "    .dataframe tbody tr th:only-of-type {\n",
              "        vertical-align: middle;\n",
              "    }\n",
              "\n",
              "    .dataframe tbody tr th {\n",
              "        vertical-align: top;\n",
              "    }\n",
              "\n",
              "    .dataframe thead th {\n",
              "        text-align: right;\n",
              "    }\n",
              "</style>\n",
              "<table border=\"1\" class=\"dataframe\">\n",
              "  <thead>\n",
              "    <tr style=\"text-align: right;\">\n",
              "      <th></th>\n",
              "      <th>y</th>\n",
              "      <th>y_pred</th>\n",
              "    </tr>\n",
              "  </thead>\n",
              "  <tbody>\n",
              "    <tr>\n",
              "      <th>1</th>\n",
              "      <td>1</td>\n",
              "      <td>1</td>\n",
              "    </tr>\n",
              "    <tr>\n",
              "      <th>2</th>\n",
              "      <td>0</td>\n",
              "      <td>0</td>\n",
              "    </tr>\n",
              "    <tr>\n",
              "      <th>3</th>\n",
              "      <td>1</td>\n",
              "      <td>0</td>\n",
              "    </tr>\n",
              "    <tr>\n",
              "      <th>4</th>\n",
              "      <td>1</td>\n",
              "      <td>0</td>\n",
              "    </tr>\n",
              "    <tr>\n",
              "      <th>5</th>\n",
              "      <td>1</td>\n",
              "      <td>1</td>\n",
              "    </tr>\n",
              "    <tr>\n",
              "      <th>...</th>\n",
              "      <td>...</td>\n",
              "      <td>...</td>\n",
              "    </tr>\n",
              "    <tr>\n",
              "      <th>4996</th>\n",
              "      <td>1</td>\n",
              "      <td>0</td>\n",
              "    </tr>\n",
              "    <tr>\n",
              "      <th>4997</th>\n",
              "      <td>1</td>\n",
              "      <td>1</td>\n",
              "    </tr>\n",
              "    <tr>\n",
              "      <th>4998</th>\n",
              "      <td>0</td>\n",
              "      <td>0</td>\n",
              "    </tr>\n",
              "    <tr>\n",
              "      <th>4999</th>\n",
              "      <td>1</td>\n",
              "      <td>1</td>\n",
              "    </tr>\n",
              "    <tr>\n",
              "      <th>5000</th>\n",
              "      <td>1</td>\n",
              "      <td>0</td>\n",
              "    </tr>\n",
              "  </tbody>\n",
              "</table>\n",
              "<p>5000 rows × 2 columns</p>\n",
              "</div>"
            ],
            "text/plain": [
              "      y  y_pred\n",
              "1     1       1\n",
              "2     0       0\n",
              "3     1       0\n",
              "4     1       0\n",
              "5     1       1\n",
              "...  ..     ...\n",
              "4996  1       0\n",
              "4997  1       1\n",
              "4998  0       0\n",
              "4999  1       1\n",
              "5000  1       0\n",
              "\n",
              "[5000 rows x 2 columns]"
            ]
          },
          "execution_count": 41,
          "metadata": {},
          "output_type": "execute_result"
        }
      ],
      "source": [
        "pred_df = pd.DataFrame({'y': y_test,'y_pred': y_pred_test})\n",
        "pred_df"
      ]
    },
    {
      "cell_type": "markdown",
      "metadata": {
        "id": "sok0ZspEcS5u"
      },
      "source": [
        "> Cross Validation"
      ]
    },
    {
      "cell_type": "markdown",
      "metadata": {
        "id": "vPxQ19a-pTEb"
      },
      "source": [
        "Cross validation hanya dilakukan pada train set dan tidak dilakukan pada test set. Hal ini dikarenakan test set seharusnya hanya digunakan untuk menguji performa model yang sudah di-train dengan baik pada data yang belum pernah dilihat sebelumnya"
      ]
    },
    {
      "cell_type": "code",
      "execution_count": 42,
      "metadata": {
        "colab": {
          "base_uri": "https://localhost:8080/"
        },
        "id": "4HHaNVUOcS5u",
        "outputId": "a8cb12c2-c467-483a-c123-3ed07e4def48"
      },
      "outputs": [
        {
          "name": "stdout",
          "output_type": "stream",
          "text": [
            "precision Score - All - Cross Validation  :  [0.86603774 0.8663227  0.87265738 0.88166828 0.86641221]\n",
            "precision Score - Mean - Cross Validation :  0.8706196621519314\n",
            "precision Score - Std - Cross Validation  :  0.0060561513571840055\n"
          ]
        }
      ],
      "source": [
        "precision_LG_train_cross_val = cross_val_score(pipeline, \n",
        "                                         X_train_final, \n",
        "                                         y_train, \n",
        "                                         cv=5, \n",
        "                                         scoring='precision')\n",
        "\n",
        "print('precision Score - All - Cross Validation  : ', precision_LG_train_cross_val)\n",
        "print('precision Score - Mean - Cross Validation : ', precision_LG_train_cross_val.mean())\n",
        "print('precision Score - Std - Cross Validation  : ', precision_LG_train_cross_val.std())"
      ]
    },
    {
      "cell_type": "markdown",
      "metadata": {
        "id": "d17iw9oIcS5u"
      },
      "source": [
        "* Sebelum dilakukan cross validation, precision score pada train set adalah 0.870. Namun, hasil ini belum bisa dijadikan acuan untuk menilai kinerja model karena hanya mengukur performa pada satu dataset saja, sehingga model belum diuji pada dataset lain untuk melihat kemampuannya dalam generalisasi.\n",
        "\n",
        "* Setelah dilakukan cross validation dengan jumlah 5 fold, didapatkan hasil precision score yang lebih realistis dan bisa diandalkan.\n",
        "\n",
        "* Dari hasil cross validation tersebut, dapat dilihat bahwa precision score model cenderung stabil pada setiap fold dengan nilai rata-rata sebesar 0.870. Dengan nilai standar deviasi yang cukup kecil, yaitu 0.006, dapat disimpulkan bahwa model memiliki konsistensi yang baik pada setiap iterasinya.\n",
        "\n",
        "* Meskipun precision score yang didapat lebih rendah dari pada nilai pada train set sebelumnya, namun hasil ini lebih bisa diandalkan karena mampu menghasilkan kinerja model yang lebih realistis dan general pada data yang berbeda-beda."
      ]
    },
    {
      "cell_type": "markdown",
      "metadata": {
        "id": "n8EN_7FPcS5v"
      },
      "source": [
        "## K Neighbors Classifier"
      ]
    },
    {
      "cell_type": "code",
      "execution_count": 43,
      "metadata": {
        "colab": {
          "base_uri": "https://localhost:8080/",
          "height": 727
        },
        "id": "_-lGKxcmcS5v",
        "outputId": "2a6e2915-b969-49eb-ff8a-c50bb0fdbfef"
      },
      "outputs": [
        {
          "name": "stdout",
          "output_type": "stream",
          "text": [
            "model score: 0.926\n",
            "precison score train set: 0.962\n",
            "precison score test set: 0.940 \n",
            "\n",
            "Classification Report : \n",
            "               precision    recall  f1-score   support\n",
            "\n",
            "           0       0.93      0.97      0.95     14053\n",
            "           1       0.96      0.91      0.93     10947\n",
            "\n",
            "    accuracy                           0.94     25000\n",
            "   macro avg       0.95      0.94      0.94     25000\n",
            "weighted avg       0.94      0.94      0.94     25000\n",
            "\n",
            "Confusion Matrix      : \n",
            " <sklearn.metrics._plot.confusion_matrix.ConfusionMatrixDisplay object at 0x0000026F06F1A850>\n"
          ]
        },
        {
          "data": {
            "image/png": "[encoded data removed]",
            "text/plain": [
              "<Figure size 640x480 with 2 Axes>"
            ]
          },
          "metadata": {},
          "output_type": "display_data"
        }
      ],
      "source": [
        "estimator_KNN = KNeighborsClassifier()\n",
        "\n",
        "steps = [\n",
        "    ('preprocess', preprocess),\n",
        "    ('clf', estimator_KNN)\n",
        "]\n",
        "\n",
        "pipeline = Pipeline(steps)\n",
        "pipeline.fit(X_train_final, y_train)\n",
        "\n",
        "y_pred_train = pipeline.predict(X_train_final)\n",
        "y_pred_test = pipeline.predict(X_test_final)\n",
        "\n",
        "print(\"model score: %.3f\" % pipeline.score(X_test_final, y_test))\n",
        "print('precison score train set: %.3f' % precision_score(y_train, y_pred_train))\n",
        "print('precison score test set: %.3f \\n' % precision_score(y_test, y_pred_test))\n",
        "print('Classification Report : \\n', classification_report(y_train,y_pred_train))\n",
        "print('Confusion Matrix      : \\n', ConfusionMatrixDisplay.from_estimator(pipeline, X_train_final, y_train, cmap='Blues'))"
      ]
    },
    {
      "cell_type": "code",
      "execution_count": 44,
      "metadata": {
        "colab": {
          "base_uri": "https://localhost:8080/"
        },
        "id": "S3E55gMxcS5v",
        "outputId": "4a4fd6c2-ac05-4d78-a7b0-4ddc48ba9d68"
      },
      "outputs": [
        {
          "name": "stdout",
          "output_type": "stream",
          "text": [
            "precision Score - All - Cross Validation  :  [0.92474674 0.94305351 0.93976494 0.94660679 0.93451502]\n",
            "precision Score - Mean - Cross Validation :  0.9377373987820548\n",
            "precision Score - Std - Cross Validation  :  0.007618121071769304\n"
          ]
        }
      ],
      "source": [
        "precision_KNN_train_cross_val = cross_val_score(pipeline, \n",
        "                                         X_train_final, \n",
        "                                         y_train, \n",
        "                                         cv=5, \n",
        "                                         scoring='precision')\n",
        "\n",
        "print('precision Score - All - Cross Validation  : ', precision_KNN_train_cross_val)\n",
        "print('precision Score - Mean - Cross Validation : ', precision_KNN_train_cross_val.mean())\n",
        "print('precision Score - Std - Cross Validation  : ', precision_KNN_train_cross_val.std())"
      ]
    },
    {
      "cell_type": "markdown",
      "metadata": {
        "id": "aM5njAHbcS5v"
      },
      "source": [
        "* Sebelum dilakukan cross validation, precision score pada train set adalah 0.962. Namun, hasil ini belum bisa dijadikan acuan untuk menilai kinerja model karena hanya mengukur performa pada satu dataset saja, sehingga model belum diuji pada dataset lain untuk melihat kemampuannya dalam generalisasi.\n",
        "\n",
        "* Setelah dilakukan cross validation dengan jumlah 5 fold , didapatkan hasil precision score yang lebih realistis dan bisa diandalkan.\n",
        "\n",
        "* Dari hasil cross validation tersebut, dapat dilihat bahwa precision score model cenderung stabil pada setiap fold dengan nilai rata-rata sebesar 0.937. Dengan nilai standar deviasi yang cukup kecil, yaitu 0.007, dapat disimpulkan bahwa model memiliki konsistensi yang baik pada setiap iterasinya\n",
        "\n",
        "* Meskipun precision score yang didapat lebih rendah dari pada nilai pada train set sebelumnya, namun hasil ini lebih bisa diandalkan karena mampu menghasilkan kinerja model yang lebih realistis dan general pada data yang berbeda-beda."
      ]
    },
    {
      "cell_type": "markdown",
      "metadata": {
        "id": "ikoXFze0cS5v"
      },
      "source": [
        "## Decision Tree Classifier"
      ]
    },
    {
      "cell_type": "code",
      "execution_count": 45,
      "metadata": {
        "colab": {
          "base_uri": "https://localhost:8080/",
          "height": 731
        },
        "id": "3L2cmD0VcS5v",
        "outputId": "a2b25b89-3c47-4b5c-bfc2-9e70a3090fc9"
      },
      "outputs": [
        {
          "name": "stdout",
          "output_type": "stream",
          "text": [
            "model score: 0.935\n",
            "precison score train set: 1.000\n",
            "precison score test set: 0.922 \n",
            "\n",
            "Classification Report : \n",
            "               precision    recall  f1-score   support\n",
            "\n",
            "           0       1.00      1.00      1.00     14053\n",
            "           1       1.00      1.00      1.00     10947\n",
            "\n",
            "    accuracy                           1.00     25000\n",
            "   macro avg       1.00      1.00      1.00     25000\n",
            "weighted avg       1.00      1.00      1.00     25000\n",
            "\n",
            "Confusion Matrix      : \n",
            " <sklearn.metrics._plot.confusion_matrix.ConfusionMatrixDisplay object at 0x0000026F023A0E20>\n"
          ]
        },
        {
          "data": {
            "image/png": "[encoded data removed]",
            "text/plain": [
              "<Figure size 640x480 with 2 Axes>"
            ]
          },
          "metadata": {},
          "output_type": "display_data"
        }
      ],
      "source": [
        "estimator_DT = DecisionTreeClassifier()\n",
        "\n",
        "steps = [\n",
        "    ('preprocess', preprocess),\n",
        "    ('clf', estimator_DT)\n",
        "]\n",
        "\n",
        "pipeline = Pipeline(steps)\n",
        "pipeline.fit(X_train_final, y_train)\n",
        "\n",
        "y_pred_train = pipeline.predict(X_train_final)\n",
        "y_pred_test = pipeline.predict(X_test_final)\n",
        "\n",
        "print(\"model score: %.3f\" % pipeline.score(X_test_final, y_test))\n",
        "print('precison score train set: %.3f' % precision_score(y_train, y_pred_train))\n",
        "print('precison score test set: %.3f \\n' % precision_score(y_test, y_pred_test))\n",
        "print('Classification Report : \\n', classification_report(y_train,y_pred_train))\n",
        "print('Confusion Matrix      : \\n', ConfusionMatrixDisplay.from_estimator(pipeline, X_train_final, y_train, cmap='Blues'))"
      ]
    },
    {
      "cell_type": "code",
      "execution_count": 46,
      "metadata": {
        "colab": {
          "base_uri": "https://localhost:8080/"
        },
        "id": "Rc9rC7NFcS5w",
        "outputId": "589cb915-371c-407b-bbc1-72451cca5553"
      },
      "outputs": [
        {
          "name": "stdout",
          "output_type": "stream",
          "text": [
            "precision Score - All - Cross Validation  :  [0.91681655 0.91696915 0.92800743 0.92400371 0.91872146]\n",
            "precision Score - Mean - Cross Validation :  0.9209036587164858\n",
            "precision Score - Std - Cross Validation  :  0.004405013970935323\n"
          ]
        }
      ],
      "source": [
        "precision_DT_train_cross_val = cross_val_score(pipeline, \n",
        "                                         X_train_final, \n",
        "                                         y_train, \n",
        "                                         cv=5, \n",
        "                                         scoring='precision')\n",
        "\n",
        "print('precision Score - All - Cross Validation  : ', precision_DT_train_cross_val)\n",
        "print('precision Score - Mean - Cross Validation : ', precision_DT_train_cross_val.mean())\n",
        "print('precision Score - Std - Cross Validation  : ', precision_DT_train_cross_val.std())"
      ]
    },
    {
      "cell_type": "markdown",
      "metadata": {
        "id": "FEGrMPfrcS5w"
      },
      "source": [
        "* Sebelum dilakukan cross validation, precision score pada train set adalah 1.000. Namun, hasil ini belum bisa dijadikan acuan untuk menilai kinerja model karena hanya mengukur performa pada satu dataset saja, sehingga model belum diuji pada dataset lain untuk melihat kemampuannya dalam generalisasi.\n",
        "\n",
        "* Setelah dilakukan cross validation dengan jumlah 5 fold, didapatkan hasil precision score yang lebih realistis dan bisa diandalkan.\n",
        "\n",
        "* Dari hasil cross validation tersebut, dapat dilihat bahwa precision score model cenderung stabil pada setiap fold dengan nilai rata-rata sebesar 0.918. Dengan nilai standar deviasi yang kecil, yaitu 0.003, dapat disimpulkan bahwa model memiliki konsistensi yang baik pada setiap iterasinya. \n",
        "\n",
        "* Meskipun precision score yang didapat lebih rendah dari pada nilai pada train set sebelumnya, namun hasil ini lebih bisa diandalkan karena mampu menghasilkan kinerja model yang lebih realistis dan general pada data yang berbeda-beda."
      ]
    },
    {
      "cell_type": "markdown",
      "metadata": {
        "id": "9T4ngwxRcS5w"
      },
      "source": [
        "## Random Forest Classifier"
      ]
    },
    {
      "cell_type": "code",
      "execution_count": 47,
      "metadata": {
        "colab": {
          "base_uri": "https://localhost:8080/",
          "height": 731
        },
        "id": "dNqy_Kv5cS5w",
        "outputId": "e4b2adfe-7f26-4dca-b8f3-ec6c7b32315f"
      },
      "outputs": [
        {
          "name": "stdout",
          "output_type": "stream",
          "text": [
            "model score: 0.956\n",
            "precison score train set: 1.000\n",
            "precison score test set: 0.961 \n",
            "\n",
            "Classification Report : \n",
            "               precision    recall  f1-score   support\n",
            "\n",
            "           0       1.00      1.00      1.00     14053\n",
            "           1       1.00      1.00      1.00     10947\n",
            "\n",
            "    accuracy                           1.00     25000\n",
            "   macro avg       1.00      1.00      1.00     25000\n",
            "weighted avg       1.00      1.00      1.00     25000\n",
            "\n",
            "Confusion Matrix      : \n",
            " <sklearn.metrics._plot.confusion_matrix.ConfusionMatrixDisplay object at 0x0000026F07461CA0>\n"
          ]
        },
        {
          "data": {
            "image/png": "[encoded data removed]",
            "text/plain": [
              "<Figure size 640x480 with 2 Axes>"
            ]
          },
          "metadata": {},
          "output_type": "display_data"
        }
      ],
      "source": [
        "estimator_RF = RandomForestClassifier()\n",
        "\n",
        "steps = [\n",
        "    ('preprocess', preprocess),\n",
        "    ('clf', estimator_RF)\n",
        "]\n",
        "\n",
        "pipeline = Pipeline(steps)\n",
        "pipeline.fit(X_train_final, y_train)\n",
        "\n",
        "y_pred_train = pipeline.predict(X_train_final)\n",
        "y_pred_test = pipeline.predict(X_test_final)\n",
        "\n",
        "print(\"model score: %.3f\" % pipeline.score(X_test_final, y_test))\n",
        "print('precison score train set: %.3f' % precision_score(y_train, y_pred_train))\n",
        "print('precison score test set: %.3f \\n' % precision_score(y_test, y_pred_test))\n",
        "print('Classification Report : \\n', classification_report(y_train,y_pred_train))\n",
        "print('Confusion Matrix      : \\n', ConfusionMatrixDisplay.from_estimator(pipeline, X_train_final, y_train, cmap='Reds'))"
      ]
    },
    {
      "cell_type": "code",
      "execution_count": 48,
      "metadata": {
        "colab": {
          "base_uri": "https://localhost:8080/",
          "height": 657
        },
        "id": "H6rpNt3AcS5w",
        "outputId": "90ce5708-25d6-4c49-8912-1b5430f08763"
      },
      "outputs": [
        {
          "name": "stdout",
          "output_type": "stream",
          "text": [
            "Classification Report : \n",
            "               precision    recall  f1-score   support\n",
            "\n",
            "           0       0.95      0.97      0.96      2815\n",
            "           1       0.96      0.94      0.95      2185\n",
            "\n",
            "    accuracy                           0.96      5000\n",
            "   macro avg       0.96      0.95      0.96      5000\n",
            "weighted avg       0.96      0.96      0.96      5000\n",
            "\n",
            "Confusion Matrix      : \n",
            " <sklearn.metrics._plot.confusion_matrix.ConfusionMatrixDisplay object at 0x0000026F023A0DF0>\n"
          ]
        },
        {
          "data": {
            "image/png": "[encoded data removed]",
            "text/plain": [
              "<Figure size 640x480 with 2 Axes>"
            ]
          },
          "metadata": {},
          "output_type": "display_data"
        }
      ],
      "source": [
        "print('Classification Report : \\n', classification_report(y_test,y_pred_test))\n",
        "print('Confusion Matrix      : \\n', ConfusionMatrixDisplay.from_estimator(pipeline, X_test_final, y_test, cmap='Reds'))"
      ]
    },
    {
      "cell_type": "code",
      "execution_count": 49,
      "metadata": {
        "colab": {
          "base_uri": "https://localhost:8080/"
        },
        "id": "29S7nOMpcS5w",
        "outputId": "169d9bf1-4fbf-4a45-f49a-eef89e03f0e2"
      },
      "outputs": [
        {
          "name": "stdout",
          "output_type": "stream",
          "text": [
            "precision Score - All - Cross Validation  :  [0.95571096 0.95812006 0.95784543 0.97234144 0.96198968]\n",
            "precision Score - Mean - Cross Validation :  0.9612015122334204\n",
            "precision Score - Std - Cross Validation  :  0.005926618716179624\n"
          ]
        }
      ],
      "source": [
        "precision_RF_train_cross_val = cross_val_score(pipeline, \n",
        "                                         X_train_final, \n",
        "                                         y_train, \n",
        "                                         cv=5, \n",
        "                                         scoring='precision')\n",
        "\n",
        "print('precision Score - All - Cross Validation  : ', precision_RF_train_cross_val)\n",
        "print('precision Score - Mean - Cross Validation : ', precision_RF_train_cross_val.mean())\n",
        "print('precision Score - Std - Cross Validation  : ', precision_RF_train_cross_val.std())"
      ]
    },
    {
      "cell_type": "markdown",
      "metadata": {
        "id": "GOOqVQBMcS5w"
      },
      "source": [
        "* Hasil precision score yang tinggi pada setiap fold menunjukkan bahwa model yang dibangun memiliki performa yang baik dan mampu mengklasifikasikan data dengan akurat pada setiap iterasi cross validation. Selain itu, rata-rata precision score yang cukup tinggi, yaitu sekitar 0.963, menunjukkan bahwa model memiliki performa yang baik pada dataset yang digunakan.\n",
        "\n",
        "* Sementara itu, hasil standar deviasi precision score yang rendah menunjukkan bahwa nilai precision score pada setiap fold tidak memiliki perbedaan yang signifikan dan cenderung stabil.\n",
        "\n",
        "* Secara keseluruhan, hasil precision score yang tinggi, rata-rata precision score yang baik, serta standar deviasi precision score yang rendah menunjukkan bahwa model yang dibangun mampu mengklasifikasikan data dengan akurat dan stabil pada setiap iterasinya. "
      ]
    },
    {
      "cell_type": "code",
      "execution_count": 50,
      "metadata": {
        "colab": {
          "base_uri": "https://localhost:8080/",
          "height": 423
        },
        "id": "X9oSEuttcS5x",
        "outputId": "9cc4bd53-faea-4a01-eb52-96f64e6ff0c2"
      },
      "outputs": [
        {
          "data": {
            "text/html": [
              "<div>\n",
              "<style scoped>\n",
              "    .dataframe tbody tr th:only-of-type {\n",
              "        vertical-align: middle;\n",
              "    }\n",
              "\n",
              "    .dataframe tbody tr th {\n",
              "        vertical-align: top;\n",
              "    }\n",
              "\n",
              "    .dataframe thead th {\n",
              "        text-align: right;\n",
              "    }\n",
              "</style>\n",
              "<table border=\"1\" class=\"dataframe\">\n",
              "  <thead>\n",
              "    <tr style=\"text-align: right;\">\n",
              "      <th></th>\n",
              "      <th>y</th>\n",
              "      <th>y_pred</th>\n",
              "    </tr>\n",
              "  </thead>\n",
              "  <tbody>\n",
              "    <tr>\n",
              "      <th>1</th>\n",
              "      <td>1</td>\n",
              "      <td>1</td>\n",
              "    </tr>\n",
              "    <tr>\n",
              "      <th>2</th>\n",
              "      <td>0</td>\n",
              "      <td>0</td>\n",
              "    </tr>\n",
              "    <tr>\n",
              "      <th>3</th>\n",
              "      <td>1</td>\n",
              "      <td>1</td>\n",
              "    </tr>\n",
              "    <tr>\n",
              "      <th>4</th>\n",
              "      <td>1</td>\n",
              "      <td>0</td>\n",
              "    </tr>\n",
              "    <tr>\n",
              "      <th>5</th>\n",
              "      <td>1</td>\n",
              "      <td>1</td>\n",
              "    </tr>\n",
              "    <tr>\n",
              "      <th>...</th>\n",
              "      <td>...</td>\n",
              "      <td>...</td>\n",
              "    </tr>\n",
              "    <tr>\n",
              "      <th>4996</th>\n",
              "      <td>1</td>\n",
              "      <td>1</td>\n",
              "    </tr>\n",
              "    <tr>\n",
              "      <th>4997</th>\n",
              "      <td>1</td>\n",
              "      <td>1</td>\n",
              "    </tr>\n",
              "    <tr>\n",
              "      <th>4998</th>\n",
              "      <td>0</td>\n",
              "      <td>0</td>\n",
              "    </tr>\n",
              "    <tr>\n",
              "      <th>4999</th>\n",
              "      <td>1</td>\n",
              "      <td>1</td>\n",
              "    </tr>\n",
              "    <tr>\n",
              "      <th>5000</th>\n",
              "      <td>1</td>\n",
              "      <td>1</td>\n",
              "    </tr>\n",
              "  </tbody>\n",
              "</table>\n",
              "<p>5000 rows × 2 columns</p>\n",
              "</div>"
            ],
            "text/plain": [
              "      y  y_pred\n",
              "1     1       1\n",
              "2     0       0\n",
              "3     1       1\n",
              "4     1       0\n",
              "5     1       1\n",
              "...  ..     ...\n",
              "4996  1       1\n",
              "4997  1       1\n",
              "4998  0       0\n",
              "4999  1       1\n",
              "5000  1       1\n",
              "\n",
              "[5000 rows x 2 columns]"
            ]
          },
          "execution_count": 50,
          "metadata": {},
          "output_type": "execute_result"
        }
      ],
      "source": [
        "pred_df = pd.DataFrame({'y': y_test,'y_pred': y_pred_test})\n",
        "pred_df"
      ]
    },
    {
      "cell_type": "code",
      "execution_count": 51,
      "metadata": {
        "id": "g6_s3AyUcS5x"
      },
      "outputs": [],
      "source": [
        "test['predicted'] = y_pred_test"
      ]
    },
    {
      "cell_type": "code",
      "execution_count": 52,
      "metadata": {
        "colab": {
          "base_uri": "https://localhost:8080/",
          "height": 713
        },
        "id": "JJji-UtFcS5x",
        "outputId": "64d9c0dc-1e32-4d45-b6ca-961dd42bc6b5"
      },
      "outputs": [
        {
          "data": {
            "text/html": [
              "<div>\n",
              "<style scoped>\n",
              "    .dataframe tbody tr th:only-of-type {\n",
              "        vertical-align: middle;\n",
              "    }\n",
              "\n",
              "    .dataframe tbody tr th {\n",
              "        vertical-align: top;\n",
              "    }\n",
              "\n",
              "    .dataframe thead th {\n",
              "        text-align: right;\n",
              "    }\n",
              "</style>\n",
              "<table border=\"1\" class=\"dataframe\">\n",
              "  <thead>\n",
              "    <tr style=\"text-align: right;\">\n",
              "      <th></th>\n",
              "      <th>Gender</th>\n",
              "      <th>Customer Type</th>\n",
              "      <th>Age</th>\n",
              "      <th>Type of Travel</th>\n",
              "      <th>Class</th>\n",
              "      <th>Flight Distance</th>\n",
              "      <th>Inflight wifi service</th>\n",
              "      <th>Departure/Arrival time convenient</th>\n",
              "      <th>Ease of Online booking</th>\n",
              "      <th>Gate location</th>\n",
              "      <th>...</th>\n",
              "      <th>On-board service</th>\n",
              "      <th>Leg room service</th>\n",
              "      <th>Baggage handling</th>\n",
              "      <th>Checkin service</th>\n",
              "      <th>Inflight service</th>\n",
              "      <th>Cleanliness</th>\n",
              "      <th>Departure Delay in Minutes</th>\n",
              "      <th>Arrival Delay in Minutes</th>\n",
              "      <th>satisfaction</th>\n",
              "      <th>predicted</th>\n",
              "    </tr>\n",
              "  </thead>\n",
              "  <tbody>\n",
              "    <tr>\n",
              "      <th>2</th>\n",
              "      <td>Male</td>\n",
              "      <td>disloyal Customer</td>\n",
              "      <td>20</td>\n",
              "      <td>Business travel</td>\n",
              "      <td>Eco</td>\n",
              "      <td>192</td>\n",
              "      <td>2</td>\n",
              "      <td>0</td>\n",
              "      <td>2</td>\n",
              "      <td>4</td>\n",
              "      <td>...</td>\n",
              "      <td>4</td>\n",
              "      <td>1</td>\n",
              "      <td>3</td>\n",
              "      <td>2</td>\n",
              "      <td>2</td>\n",
              "      <td>2</td>\n",
              "      <td>0</td>\n",
              "      <td>0.0</td>\n",
              "      <td>neutral or dissatisfied</td>\n",
              "      <td>0</td>\n",
              "    </tr>\n",
              "    <tr>\n",
              "      <th>4</th>\n",
              "      <td>Female</td>\n",
              "      <td>Loyal Customer</td>\n",
              "      <td>49</td>\n",
              "      <td>Business travel</td>\n",
              "      <td>Eco</td>\n",
              "      <td>1182</td>\n",
              "      <td>2</td>\n",
              "      <td>3</td>\n",
              "      <td>4</td>\n",
              "      <td>3</td>\n",
              "      <td>...</td>\n",
              "      <td>2</td>\n",
              "      <td>2</td>\n",
              "      <td>2</td>\n",
              "      <td>4</td>\n",
              "      <td>2</td>\n",
              "      <td>4</td>\n",
              "      <td>0</td>\n",
              "      <td>20.0</td>\n",
              "      <td>satisfied</td>\n",
              "      <td>0</td>\n",
              "    </tr>\n",
              "    <tr>\n",
              "      <th>11</th>\n",
              "      <td>Female</td>\n",
              "      <td>Loyal Customer</td>\n",
              "      <td>33</td>\n",
              "      <td>Business travel</td>\n",
              "      <td>Business</td>\n",
              "      <td>325</td>\n",
              "      <td>2</td>\n",
              "      <td>5</td>\n",
              "      <td>5</td>\n",
              "      <td>5</td>\n",
              "      <td>...</td>\n",
              "      <td>2</td>\n",
              "      <td>2</td>\n",
              "      <td>2</td>\n",
              "      <td>3</td>\n",
              "      <td>2</td>\n",
              "      <td>4</td>\n",
              "      <td>18</td>\n",
              "      <td>7.0</td>\n",
              "      <td>neutral or dissatisfied</td>\n",
              "      <td>0</td>\n",
              "    </tr>\n",
              "    <tr>\n",
              "      <th>15</th>\n",
              "      <td>Male</td>\n",
              "      <td>Loyal Customer</td>\n",
              "      <td>50</td>\n",
              "      <td>Personal Travel</td>\n",
              "      <td>Eco</td>\n",
              "      <td>83</td>\n",
              "      <td>3</td>\n",
              "      <td>4</td>\n",
              "      <td>0</td>\n",
              "      <td>3</td>\n",
              "      <td>...</td>\n",
              "      <td>4</td>\n",
              "      <td>2</td>\n",
              "      <td>4</td>\n",
              "      <td>4</td>\n",
              "      <td>5</td>\n",
              "      <td>2</td>\n",
              "      <td>5</td>\n",
              "      <td>2.0</td>\n",
              "      <td>neutral or dissatisfied</td>\n",
              "      <td>0</td>\n",
              "    </tr>\n",
              "    <tr>\n",
              "      <th>16</th>\n",
              "      <td>Female</td>\n",
              "      <td>Loyal Customer</td>\n",
              "      <td>31</td>\n",
              "      <td>Business travel</td>\n",
              "      <td>Eco</td>\n",
              "      <td>728</td>\n",
              "      <td>2</td>\n",
              "      <td>5</td>\n",
              "      <td>5</td>\n",
              "      <td>5</td>\n",
              "      <td>...</td>\n",
              "      <td>4</td>\n",
              "      <td>3</td>\n",
              "      <td>3</td>\n",
              "      <td>4</td>\n",
              "      <td>3</td>\n",
              "      <td>2</td>\n",
              "      <td>2</td>\n",
              "      <td>0.0</td>\n",
              "      <td>neutral or dissatisfied</td>\n",
              "      <td>0</td>\n",
              "    </tr>\n",
              "    <tr>\n",
              "      <th>...</th>\n",
              "      <td>...</td>\n",
              "      <td>...</td>\n",
              "      <td>...</td>\n",
              "      <td>...</td>\n",
              "      <td>...</td>\n",
              "      <td>...</td>\n",
              "      <td>...</td>\n",
              "      <td>...</td>\n",
              "      <td>...</td>\n",
              "      <td>...</td>\n",
              "      <td>...</td>\n",
              "      <td>...</td>\n",
              "      <td>...</td>\n",
              "      <td>...</td>\n",
              "      <td>...</td>\n",
              "      <td>...</td>\n",
              "      <td>...</td>\n",
              "      <td>...</td>\n",
              "      <td>...</td>\n",
              "      <td>...</td>\n",
              "      <td>...</td>\n",
              "    </tr>\n",
              "    <tr>\n",
              "      <th>4989</th>\n",
              "      <td>Female</td>\n",
              "      <td>Loyal Customer</td>\n",
              "      <td>31</td>\n",
              "      <td>Business travel</td>\n",
              "      <td>Business</td>\n",
              "      <td>3702</td>\n",
              "      <td>4</td>\n",
              "      <td>5</td>\n",
              "      <td>4</td>\n",
              "      <td>4</td>\n",
              "      <td>...</td>\n",
              "      <td>2</td>\n",
              "      <td>3</td>\n",
              "      <td>1</td>\n",
              "      <td>1</td>\n",
              "      <td>2</td>\n",
              "      <td>4</td>\n",
              "      <td>71</td>\n",
              "      <td>69.0</td>\n",
              "      <td>neutral or dissatisfied</td>\n",
              "      <td>0</td>\n",
              "    </tr>\n",
              "    <tr>\n",
              "      <th>4992</th>\n",
              "      <td>Female</td>\n",
              "      <td>Loyal Customer</td>\n",
              "      <td>52</td>\n",
              "      <td>Personal Travel</td>\n",
              "      <td>Eco</td>\n",
              "      <td>2449</td>\n",
              "      <td>3</td>\n",
              "      <td>3</td>\n",
              "      <td>2</td>\n",
              "      <td>1</td>\n",
              "      <td>...</td>\n",
              "      <td>2</td>\n",
              "      <td>5</td>\n",
              "      <td>4</td>\n",
              "      <td>3</td>\n",
              "      <td>2</td>\n",
              "      <td>3</td>\n",
              "      <td>2</td>\n",
              "      <td>6.0</td>\n",
              "      <td>neutral or dissatisfied</td>\n",
              "      <td>0</td>\n",
              "    </tr>\n",
              "    <tr>\n",
              "      <th>4993</th>\n",
              "      <td>Female</td>\n",
              "      <td>disloyal Customer</td>\n",
              "      <td>25</td>\n",
              "      <td>Business travel</td>\n",
              "      <td>Eco</td>\n",
              "      <td>759</td>\n",
              "      <td>3</td>\n",
              "      <td>4</td>\n",
              "      <td>4</td>\n",
              "      <td>4</td>\n",
              "      <td>...</td>\n",
              "      <td>3</td>\n",
              "      <td>1</td>\n",
              "      <td>3</td>\n",
              "      <td>1</td>\n",
              "      <td>3</td>\n",
              "      <td>4</td>\n",
              "      <td>0</td>\n",
              "      <td>0.0</td>\n",
              "      <td>neutral or dissatisfied</td>\n",
              "      <td>0</td>\n",
              "    </tr>\n",
              "    <tr>\n",
              "      <th>4994</th>\n",
              "      <td>Female</td>\n",
              "      <td>Loyal Customer</td>\n",
              "      <td>41</td>\n",
              "      <td>Personal Travel</td>\n",
              "      <td>Eco Plus</td>\n",
              "      <td>746</td>\n",
              "      <td>3</td>\n",
              "      <td>5</td>\n",
              "      <td>3</td>\n",
              "      <td>4</td>\n",
              "      <td>...</td>\n",
              "      <td>3</td>\n",
              "      <td>3</td>\n",
              "      <td>3</td>\n",
              "      <td>5</td>\n",
              "      <td>3</td>\n",
              "      <td>4</td>\n",
              "      <td>4</td>\n",
              "      <td>28.0</td>\n",
              "      <td>neutral or dissatisfied</td>\n",
              "      <td>0</td>\n",
              "    </tr>\n",
              "    <tr>\n",
              "      <th>4998</th>\n",
              "      <td>Male</td>\n",
              "      <td>disloyal Customer</td>\n",
              "      <td>25</td>\n",
              "      <td>Business travel</td>\n",
              "      <td>Business</td>\n",
              "      <td>738</td>\n",
              "      <td>1</td>\n",
              "      <td>4</td>\n",
              "      <td>2</td>\n",
              "      <td>4</td>\n",
              "      <td>...</td>\n",
              "      <td>5</td>\n",
              "      <td>5</td>\n",
              "      <td>5</td>\n",
              "      <td>4</td>\n",
              "      <td>5</td>\n",
              "      <td>3</td>\n",
              "      <td>86</td>\n",
              "      <td>71.0</td>\n",
              "      <td>neutral or dissatisfied</td>\n",
              "      <td>0</td>\n",
              "    </tr>\n",
              "  </tbody>\n",
              "</table>\n",
              "<p>2869 rows × 24 columns</p>\n",
              "</div>"
            ],
            "text/plain": [
              "      Gender      Customer Type  Age   Type of Travel     Class   \n",
              "2       Male  disloyal Customer   20  Business travel       Eco  \\\n",
              "4     Female     Loyal Customer   49  Business travel       Eco   \n",
              "11    Female     Loyal Customer   33  Business travel  Business   \n",
              "15      Male     Loyal Customer   50  Personal Travel       Eco   \n",
              "16    Female     Loyal Customer   31  Business travel       Eco   \n",
              "...      ...                ...  ...              ...       ...   \n",
              "4989  Female     Loyal Customer   31  Business travel  Business   \n",
              "4992  Female     Loyal Customer   52  Personal Travel       Eco   \n",
              "4993  Female  disloyal Customer   25  Business travel       Eco   \n",
              "4994  Female     Loyal Customer   41  Personal Travel  Eco Plus   \n",
              "4998    Male  disloyal Customer   25  Business travel  Business   \n",
              "\n",
              "      Flight Distance  Inflight wifi service   \n",
              "2                 192                      2  \\\n",
              "4                1182                      2   \n",
              "11                325                      2   \n",
              "15                 83                      3   \n",
              "16                728                      2   \n",
              "...               ...                    ...   \n",
              "4989             3702                      4   \n",
              "4992             2449                      3   \n",
              "4993              759                      3   \n",
              "4994              746                      3   \n",
              "4998              738                      1   \n",
              "\n",
              "      Departure/Arrival time convenient  Ease of Online booking   \n",
              "2                                     0                       2  \\\n",
              "4                                     3                       4   \n",
              "11                                    5                       5   \n",
              "15                                    4                       0   \n",
              "16                                    5                       5   \n",
              "...                                 ...                     ...   \n",
              "4989                                  5                       4   \n",
              "4992                                  3                       2   \n",
              "4993                                  4                       4   \n",
              "4994                                  5                       3   \n",
              "4998                                  4                       2   \n",
              "\n",
              "      Gate location  ...  On-board service  Leg room service   \n",
              "2                 4  ...                 4                 1  \\\n",
              "4                 3  ...                 2                 2   \n",
              "11                5  ...                 2                 2   \n",
              "15                3  ...                 4                 2   \n",
              "16                5  ...                 4                 3   \n",
              "...             ...  ...               ...               ...   \n",
              "4989              4  ...                 2                 3   \n",
              "4992              1  ...                 2                 5   \n",
              "4993              4  ...                 3                 1   \n",
              "4994              4  ...                 3                 3   \n",
              "4998              4  ...                 5                 5   \n",
              "\n",
              "      Baggage handling  Checkin service  Inflight service  Cleanliness   \n",
              "2                    3                2                 2            2  \\\n",
              "4                    2                4                 2            4   \n",
              "11                   2                3                 2            4   \n",
              "15                   4                4                 5            2   \n",
              "16                   3                4                 3            2   \n",
              "...                ...              ...               ...          ...   \n",
              "4989                 1                1                 2            4   \n",
              "4992                 4                3                 2            3   \n",
              "4993                 3                1                 3            4   \n",
              "4994                 3                5                 3            4   \n",
              "4998                 5                4                 5            3   \n",
              "\n",
              "      Departure Delay in Minutes  Arrival Delay in Minutes   \n",
              "2                              0                       0.0  \\\n",
              "4                              0                      20.0   \n",
              "11                            18                       7.0   \n",
              "15                             5                       2.0   \n",
              "16                             2                       0.0   \n",
              "...                          ...                       ...   \n",
              "4989                          71                      69.0   \n",
              "4992                           2                       6.0   \n",
              "4993                           0                       0.0   \n",
              "4994                           4                      28.0   \n",
              "4998                          86                      71.0   \n",
              "\n",
              "                 satisfaction  predicted  \n",
              "2     neutral or dissatisfied          0  \n",
              "4                   satisfied          0  \n",
              "11    neutral or dissatisfied          0  \n",
              "15    neutral or dissatisfied          0  \n",
              "16    neutral or dissatisfied          0  \n",
              "...                       ...        ...  \n",
              "4989  neutral or dissatisfied          0  \n",
              "4992  neutral or dissatisfied          0  \n",
              "4993  neutral or dissatisfied          0  \n",
              "4994  neutral or dissatisfied          0  \n",
              "4998  neutral or dissatisfied          0  \n",
              "\n",
              "[2869 rows x 24 columns]"
            ]
          },
          "execution_count": 52,
          "metadata": {},
          "output_type": "execute_result"
        }
      ],
      "source": [
        "test[test['predicted'] == 0]"
      ]
    },
    {
      "cell_type": "markdown",
      "metadata": {
        "id": "JVfTdldecS5x"
      },
      "source": [
        "## AdaBoost Classifier"
      ]
    },
    {
      "cell_type": "code",
      "execution_count": 53,
      "metadata": {
        "colab": {
          "base_uri": "https://localhost:8080/",
          "height": 727
        },
        "id": "CbWuc03QcS5x",
        "outputId": "c93d45fc-b121-4f59-de08-b31ed72c5f9e"
      },
      "outputs": [
        {
          "name": "stdout",
          "output_type": "stream",
          "text": [
            "model score: 0.928\n",
            "precison score train set: 0.922\n",
            "precison score test set: 0.924 \n",
            "\n",
            "Classification Report : \n",
            "               precision    recall  f1-score   support\n",
            "\n",
            "           0       0.93      0.94      0.93     14053\n",
            "           1       0.92      0.91      0.91     10947\n",
            "\n",
            "    accuracy                           0.93     25000\n",
            "   macro avg       0.93      0.92      0.92     25000\n",
            "weighted avg       0.93      0.93      0.93     25000\n",
            "\n",
            "Confusion Matrix      : \n",
            " <sklearn.metrics._plot.confusion_matrix.ConfusionMatrixDisplay object at 0x0000026F06F485E0>\n"
          ]
        },
        {
          "data": {
            "image/png": "[encoded data removed]",
            "text/plain": [
              "<Figure size 640x480 with 2 Axes>"
            ]
          },
          "metadata": {},
          "output_type": "display_data"
        }
      ],
      "source": [
        "estimator_AB = AdaBoostClassifier()\n",
        "\n",
        "steps = [\n",
        "    ('preprocess', preprocess),\n",
        "    ('clf', estimator_AB)\n",
        "]\n",
        "\n",
        "pipeline = Pipeline(steps)\n",
        "pipeline.fit(X_train_final, y_train)\n",
        "\n",
        "y_pred_train = pipeline.predict(X_train_final)\n",
        "y_pred_test = pipeline.predict(X_test_final)\n",
        "\n",
        "print(\"model score: %.3f\" % pipeline.score(X_test_final, y_test))\n",
        "print('precison score train set: %.3f' % precision_score(y_train, y_pred_train))\n",
        "print('precison score test set: %.3f \\n' % precision_score(y_test, y_pred_test))\n",
        "print('Classification Report : \\n', classification_report(y_train,y_pred_train))\n",
        "print('Confusion Matrix      : \\n', ConfusionMatrixDisplay.from_estimator(pipeline, X_train_final, y_train, cmap='Blues'))"
      ]
    },
    {
      "cell_type": "code",
      "execution_count": 54,
      "metadata": {
        "colab": {
          "base_uri": "https://localhost:8080/"
        },
        "id": "MYGne99HcS5x",
        "outputId": "b8cdda8f-ff3c-4e84-c9e4-b79c3291b5a4"
      },
      "outputs": [
        {
          "name": "stdout",
          "output_type": "stream",
          "text": [
            "precision Score - All - Cross Validation  :  [0.90863408 0.91979601 0.92091954 0.93661306 0.92207186]\n",
            "precision Score - Mean - Cross Validation :  0.9216069100786914\n",
            "precision Score - Std - Cross Validation  :  0.00891567999949385\n"
          ]
        }
      ],
      "source": [
        "precision_AB_train_cross_val = cross_val_score(pipeline, \n",
        "                                         X_train_final, \n",
        "                                         y_train, \n",
        "                                         cv=5, \n",
        "                                         scoring='precision')\n",
        "\n",
        "print('precision Score - All - Cross Validation  : ', precision_AB_train_cross_val)\n",
        "print('precision Score - Mean - Cross Validation : ', precision_AB_train_cross_val.mean())\n",
        "print('precision Score - Std - Cross Validation  : ', precision_AB_train_cross_val.std())"
      ]
    },
    {
      "cell_type": "markdown",
      "metadata": {
        "id": "-x61KtNyjdTp"
      },
      "source": [
        "* Hasil precision score dari cross validation menunjukkan bahwa model yang dibangun memiliki performa yang bervariasi pada setiap fold. Meskipun nilai precision score rata-ratanya cukup tinggi, yaitu sekitar 0.921, namun terdapat perbedaan nilai yang cukup signifikan pada setiap fold.\n",
        "\n",
        "* Sementara itu, hasil standar deviasi precision score yang diperoleh sebesar 0.008 menunjukkan bahwa nilai precision score pada setiap fold memiliki variasi atau perbedaan yang tidak terlalu besar, sehingga model dapat dikatakan memiliki performa yang stabil dan konsisten pada setiap fold dalam cross validation."
      ]
    },
    {
      "cell_type": "markdown",
      "metadata": {
        "id": "0Tu9mnARcS5y"
      },
      "source": [
        "## Gradient Boosting Classifier"
      ]
    },
    {
      "cell_type": "code",
      "execution_count": 55,
      "metadata": {
        "colab": {
          "base_uri": "https://localhost:8080/",
          "height": 727
        },
        "id": "rxJv1_oUcS5y",
        "outputId": "4fe06666-4453-4f7b-9812-19ca21be7617"
      },
      "outputs": [
        {
          "name": "stdout",
          "output_type": "stream",
          "text": [
            "model score: 0.942\n",
            "precison score train set: 0.945\n",
            "precison score test set: 0.945 \n",
            "\n",
            "Classification Report : \n",
            "               precision    recall  f1-score   support\n",
            "\n",
            "           0       0.94      0.96      0.95     14053\n",
            "           1       0.95      0.92      0.93     10947\n",
            "\n",
            "    accuracy                           0.94     25000\n",
            "   macro avg       0.94      0.94      0.94     25000\n",
            "weighted avg       0.94      0.94      0.94     25000\n",
            "\n",
            "Confusion Matrix      : \n",
            " <sklearn.metrics._plot.confusion_matrix.ConfusionMatrixDisplay object at 0x0000026F06F14D00>\n"
          ]
        },
        {
          "data": {
            "image/png": "[encoded data removed]",
            "text/plain": [
              "<Figure size 640x480 with 2 Axes>"
            ]
          },
          "metadata": {},
          "output_type": "display_data"
        }
      ],
      "source": [
        "estimator_GB = GradientBoostingClassifier()\n",
        "\n",
        "steps = [\n",
        "    ('preprocess', preprocess),\n",
        "    ('clf', estimator_GB)\n",
        "]\n",
        "\n",
        "pipeline = Pipeline(steps)\n",
        "pipeline.fit(X_train_final, y_train)\n",
        "\n",
        "y_pred_train = pipeline.predict(X_train_final)\n",
        "y_pred_test = pipeline.predict(X_test_final)\n",
        "\n",
        "print(\"model score: %.3f\" % pipeline.score(X_test_final, y_test))\n",
        "print('precison score train set: %.3f' % precision_score(y_train, y_pred_train))\n",
        "print('precison score test set: %.3f \\n' % precision_score(y_test, y_pred_test))\n",
        "print('Classification Report : \\n', classification_report(y_train,y_pred_train))\n",
        "print('Confusion Matrix      : \\n', ConfusionMatrixDisplay.from_estimator(pipeline, X_train_final, y_train, cmap='Blues'))"
      ]
    },
    {
      "cell_type": "code",
      "execution_count": 56,
      "metadata": {
        "colab": {
          "base_uri": "https://localhost:8080/"
        },
        "id": "Ys0zNC7YcS5y",
        "outputId": "aa8bdfd5-47cc-4ffd-f4c5-087e28988376"
      },
      "outputs": [
        {
          "name": "stdout",
          "output_type": "stream",
          "text": [
            "precision Score - All - Cross Validation  :  [0.93706294 0.94741784 0.94219925 0.95247148 0.93899578]\n",
            "precision Score - Mean - Cross Validation :  0.9436294570158497\n",
            "precision Score - Std - Cross Validation  :  0.005642144020201756\n"
          ]
        }
      ],
      "source": [
        "precision_GB_train_cross_val = cross_val_score(pipeline, \n",
        "                                         X_train_final, \n",
        "                                         y_train, \n",
        "                                         cv=5, \n",
        "                                         scoring='precision')\n",
        "\n",
        "print('precision Score - All - Cross Validation  : ', precision_GB_train_cross_val)\n",
        "print('precision Score - Mean - Cross Validation : ', precision_GB_train_cross_val.mean())\n",
        "print('precision Score - Std - Cross Validation  : ', precision_GB_train_cross_val.std())"
      ]
    },
    {
      "cell_type": "markdown",
      "metadata": {
        "id": "1XxmvtwwfZ_i"
      },
      "source": [
        "* Hasil precision score dari cross validation menunjukkan bahwa model yang dibangun memiliki performa yang konsisten pada setiap fold dengan nilai yang relatif stabil. Dalam hal ini, nilai precision score yang diperoleh cenderung tinggi dan berada dalam kisaran 0.93 hingga 0.95 dengan rata-rata 0.94.\n",
        "\n",
        "* Dengan standar deviasi yang rendah, yaitu sebesar 0.005, dapat diartikan bahwa nilai precision score pada setiap fold cenderung berada pada rentang yang sempit dan tidak terlalu jauh dari nilai rata-ratanya. Hal ini menunjukkan bahwa model yang dibangun memiliki performa yang stabil dan konsisten pada setiap fold dalam cross validation."
      ]
    },
    {
      "cell_type": "markdown",
      "metadata": {
        "id": "kTtyAkc7cS5y"
      },
      "source": [
        "## **Precision Score Reports**"
      ]
    },
    {
      "cell_type": "code",
      "execution_count": 57,
      "metadata": {
        "colab": {
          "base_uri": "https://localhost:8080/",
          "height": 237
        },
        "id": "HRfqrS5gcS5y",
        "outputId": "d0d677e1-894b-4c2d-b4af-1c140c844d88"
      },
      "outputs": [
        {
          "data": {
            "text/html": [
              "<div>\n",
              "<style scoped>\n",
              "    .dataframe tbody tr th:only-of-type {\n",
              "        vertical-align: middle;\n",
              "    }\n",
              "\n",
              "    .dataframe tbody tr th {\n",
              "        vertical-align: top;\n",
              "    }\n",
              "\n",
              "    .dataframe thead th {\n",
              "        text-align: right;\n",
              "    }\n",
              "</style>\n",
              "<table border=\"1\" class=\"dataframe\">\n",
              "  <thead>\n",
              "    <tr style=\"text-align: right;\">\n",
              "      <th></th>\n",
              "      <th>precision score mean</th>\n",
              "    </tr>\n",
              "  </thead>\n",
              "  <tbody>\n",
              "    <tr>\n",
              "      <th>Adaboost</th>\n",
              "      <td>0.921607</td>\n",
              "    </tr>\n",
              "    <tr>\n",
              "      <th>Decision Tree</th>\n",
              "      <td>0.920904</td>\n",
              "    </tr>\n",
              "    <tr>\n",
              "      <th>Gradient Boosting</th>\n",
              "      <td>0.943629</td>\n",
              "    </tr>\n",
              "    <tr>\n",
              "      <th>KNN</th>\n",
              "      <td>0.937737</td>\n",
              "    </tr>\n",
              "    <tr>\n",
              "      <th>Logistic Regression</th>\n",
              "      <td>0.870620</td>\n",
              "    </tr>\n",
              "    <tr>\n",
              "      <th>Random Forest</th>\n",
              "      <td>0.961202</td>\n",
              "    </tr>\n",
              "  </tbody>\n",
              "</table>\n",
              "</div>"
            ],
            "text/plain": [
              "                     precision score mean\n",
              "Adaboost                         0.921607\n",
              "Decision Tree                    0.920904\n",
              "Gradient Boosting                0.943629\n",
              "KNN                              0.937737\n",
              "Logistic Regression              0.870620\n",
              "Random Forest                    0.961202"
            ]
          },
          "execution_count": 57,
          "metadata": {},
          "output_type": "execute_result"
        }
      ],
      "source": [
        "# Save Precision precision Report into a Dictionary\n",
        "\n",
        "all_reports = {}\n",
        "precision_reports = {\n",
        "    'Logistic Regression'   : precision_LG_train_cross_val.mean(),\n",
        "    'KNN'                   : precision_KNN_train_cross_val.mean(),\n",
        "    'Decision Tree'         : precision_DT_train_cross_val.mean(),\n",
        "    'Random Forest'         : precision_RF_train_cross_val.mean(),\n",
        "    'Adaboost'              : precision_AB_train_cross_val.mean(),\n",
        "    'Gradient Boosting'     : precision_GB_train_cross_val.mean()\n",
        "}\n",
        "\n",
        "all_reports['precision score mean'] = precision_reports\n",
        "pd.DataFrame(all_reports)"
      ]
    },
    {
      "cell_type": "markdown",
      "metadata": {
        "id": "MORIy2OLcS5y"
      },
      "source": [
        "Berdasarkan hasil evaluasi model dengan menggunakan precision score, Random Forest mendapatkan nilai tertinggi yaitu 0.962610. Hal ini menunjukkan bahwa model Random Forest mampu memberikan prediksi yang lebih akurat dibandingkan dengan model lainnya dalam membedakan antara kelas positif dan negatif.\n",
        "\n",
        "Dalam konteks machine learning, precision score merupakan salah satu metrik evaluasi untuk mengukur kemampuan model dalam mengenali dan membedakan antara kelas positif dan negatif. Semakin tinggi nilai precision score, semakin baik kinerja model dalam memprediksi kelas positif tanpa banyak melakukan kesalahan dalam memprediksi kelas negatif.\n",
        "\n",
        "Dengan nilai precision score sebesar 0.962610, model Random Forest dapat dianggap sebagai model yang handal dan efektif dalam melakukan klasifikasi pada dataset yang digunakan. Oleh karena itu, model Random Forest dapat dijadikan pilihan yang tepat untuk diimplementasikan pada kasus-kasus di dunia nyata yang memerlukan prediksi yang akurat dan dapat diandalkan."
      ]
    },
    {
      "cell_type": "markdown",
      "metadata": {
        "id": "_ebNNvlRcS5z"
      },
      "source": [
        "# 7 - Tuning"
      ]
    },
    {
      "cell_type": "markdown",
      "metadata": {
        "id": "S-uUd77Fevt4"
      },
      "source": [
        "* Hyperparameter tuning adalah proses pengaturan nilai parameter-parameter tersebut sehingga model dapat bekerja lebih baik pada dataset yang diberikan. Hal ini dapat dilakukan dengan mencoba berbagai kombinasi nilai parameter untuk mencari kombinasi yang terbaik. Selain itu, hyperparameter tuning dilakukan dengan tujuan untuk meningkatkan performa dan kinerja model machine learning.\n",
        "\n",
        "* Dengan melakukan hyperparameter tuning, model machine learning dapat menemukan parameter-parameter yang optimal sehingga dapat meningkatkan akurasi, presisi, recall, atau metric lainnya yang digunakan sebagai evaluasi model.\n",
        "\n",
        "* Dalam beberapa kasus, tanpa melakukan hyperparameter tuning, model yang dibangun mungkin tidak mampu memberikan hasil yang optimal atau bahkan dapat mengalami overfitting atau underfitting. Oleh karena itu, hyperparameter tuning menjadi salah satu langkah penting dalam pembuatan model machine learning untuk mencapai performa yang lebih baik dan dapat diandalkan.\n"
      ]
    },
    {
      "cell_type": "code",
      "execution_count": 58,
      "metadata": {
        "colab": {
          "base_uri": "https://localhost:8080/",
          "height": 191
        },
        "id": "Ra37lw3McS5z",
        "outputId": "52765665-181c-42c7-995c-494d7e023394"
      },
      "outputs": [
        {
          "data": {
            "text/plain": [
              "Pipeline(steps=[('preprocess',\n",
              "                 ColumnTransformer(remainder='passthrough',\n",
              "                                   transformers=[('onehotencoder',\n",
              "                                                  OneHotEncoder(),\n",
              "                                                  ['Gender', 'Customer Type',\n",
              "                                                   'Type of Travel', 'Class']),\n",
              "                                                 ('minmaxscaler',\n",
              "                                                  MinMaxScaler(),\n",
              "                                                  ['Age', 'Flight Distance',\n",
              "                                                   'Departure Delay in Minutes',\n",
              "                                                   'Arrival Delay in '\n",
              "                                                   'Minutes'])])),\n",
              "                ('clf', RandomForestClassifier())])"
            ]
          },
          "execution_count": 58,
          "metadata": {},
          "output_type": "execute_result"
        }
      ],
      "source": [
        "estimator_RF = RandomForestClassifier()\n",
        "\n",
        "steps = [\n",
        "    ('preprocess', preprocess),\n",
        "    ('clf', estimator_RF)\n",
        "]\n",
        "\n",
        "pipeline_RF_tuning = Pipeline(steps)\n",
        "pipeline_RF_tuning"
      ]
    },
    {
      "cell_type": "markdown",
      "metadata": {
        "id": "sVJhoTX8tIeI"
      },
      "source": [
        "* Syntax tersebut digunakan untuk membuat sebuah pipeline yang terdiri dari dua tahapan yaitu `preprocess` dan `clf`. Tahapan pertama, `preprocess`, menggunakan `make_column_transformer` yang berisi transformasi data menggunakan `OneHotEncoder` dan `MinMaxScaler`. Kemudian, tahapan kedua clf menggunakan estimator `RandomForestClassifier()`.\n",
        "\n",
        "* Dengan menggunakan pipeline, kita dapat melakukan preprocessing dengan mudah dan menghindari kebocoran data yang mungkin terjadi jika kita melakukan transformasi pada setiap tahapan secara terpisah."
      ]
    },
    {
      "cell_type": "code",
      "execution_count": 59,
      "metadata": {
        "id": "B6JGvNAacS5z"
      },
      "outputs": [],
      "source": [
        "#Create a dictionary and fill out some parameters \n",
        "grid_params = dict(\n",
        "    clf__criterion = ['gini', 'entropy', 'log_loss'],\n",
        "    clf__max_depth = [int(x) for x in range(2,6)],\n",
        "    clf__min_samples_split = [int(x) for x in range(2,6)],\n",
        "    clf__min_samples_leaf = [int(x) for x in range(1,6)],\n",
        "    clf__max_features = ['sqrt', 'log2', 'None']\n",
        ")"
      ]
    },
    {
      "cell_type": "markdown",
      "metadata": {
        "id": "gIWt5vlnttty"
      },
      "source": [
        "* Syntax tersebut membuat sebuah dictionary yang berisi beberapa parameter yang akan diuji dalam proses grid search pada sebuah model klasifikasi Random Forest yang sudah di-define sebelumnya pada sebuah pipeline"
      ]
    },
    {
      "cell_type": "markdown",
      "metadata": {
        "id": "aqcEQEzYp1Vs"
      },
      "source": [
        "> **Grid Search**\n",
        "\n",
        "Melakukan Grid Search Cross Validation pada sebuah Pipeline yang menggunakan algoritma Random Forest Classifier yang bertujuan mencari hyperparameter yang optimal untuk model sehingga dapat meningkatkan performa dari model tersebut."
      ]
    },
    {
      "cell_type": "code",
      "execution_count": 64,
      "metadata": {
        "colab": {
          "base_uri": "https://localhost:8080/"
        },
        "id": "CW6WmM-TcS5z",
        "outputId": "3aaf7ba7-d71a-4052-f496-a58c4da8a3a0"
      },
      "outputs": [
        {
          "name": "stdout",
          "output_type": "stream",
          "text": [
            "Fitting 5 folds for each of 720 candidates, totalling 3600 fits\n"
          ]
        },
        {
          "data": {
            "text/plain": [
              "{'clf__criterion': 'entropy',\n",
              " 'clf__max_depth': 5,\n",
              " 'clf__max_features': 'log2',\n",
              " 'clf__min_samples_leaf': 4,\n",
              " 'clf__min_samples_split': 2}"
            ]
          },
          "execution_count": 64,
          "metadata": {},
          "output_type": "execute_result"
        }
      ],
      "source": [
        "#  melakukan grid search dengan cross validation pada model random forest yang telah dibuat sebelumnya menggunakan pipeline\n",
        "\n",
        "RF_grid = GridSearchCV(pipeline_RF_tuning,\n",
        "                        grid_params,\n",
        "                        verbose = 3,\n",
        "                        refit = True,\n",
        "                        scoring = 'precision',\n",
        "                        cv = 5,\n",
        "                        return_train_score = True,\n",
        "                        n_jobs = -1)\n",
        "\n",
        "RF_grid.fit(X_train_final, y_train)\n",
        "RF_grid.best_params_    "
      ]
    },
    {
      "cell_type": "markdown",
      "metadata": {
        "id": "LLMIgbZhqAW7"
      },
      "source": [
        "hyperparameter terbaik adalah:\n",
        "\n",
        "* criterion : entropy\n",
        "* max_depth : 5\n",
        "* max_features : log2\n",
        "* min_samples_leaf : 2\n",
        "* min_samples_split : 4."
      ]
    },
    {
      "cell_type": "code",
      "execution_count": 65,
      "metadata": {
        "colab": {
          "base_uri": "https://localhost:8080/"
        },
        "id": "EK9dIshTcS51",
        "outputId": "7f71816c-6638-49b0-b0f6-17745103c1f0"
      },
      "outputs": [
        {
          "name": "stdout",
          "output_type": "stream",
          "text": [
            "cv\n",
            "error_score\n",
            "estimator__memory\n",
            "estimator__steps\n",
            "estimator__verbose\n",
            "estimator__preprocess\n",
            "estimator__clf\n",
            "estimator__preprocess__n_jobs\n",
            "estimator__preprocess__remainder\n",
            "estimator__preprocess__sparse_threshold\n",
            "estimator__preprocess__transformer_weights\n",
            "estimator__preprocess__transformers\n",
            "estimator__preprocess__verbose\n",
            "estimator__preprocess__verbose_feature_names_out\n",
            "estimator__preprocess__onehotencoder\n",
            "estimator__preprocess__minmaxscaler\n",
            "estimator__preprocess__onehotencoder__categories\n",
            "estimator__preprocess__onehotencoder__drop\n",
            "estimator__preprocess__onehotencoder__dtype\n",
            "estimator__preprocess__onehotencoder__handle_unknown\n",
            "estimator__preprocess__onehotencoder__sparse\n",
            "estimator__preprocess__minmaxscaler__clip\n",
            "estimator__preprocess__minmaxscaler__copy\n",
            "estimator__preprocess__minmaxscaler__feature_range\n",
            "estimator__clf__bootstrap\n",
            "estimator__clf__ccp_alpha\n",
            "estimator__clf__class_weight\n",
            "estimator__clf__criterion\n",
            "estimator__clf__max_depth\n",
            "estimator__clf__max_features\n",
            "estimator__clf__max_leaf_nodes\n",
            "estimator__clf__max_samples\n",
            "estimator__clf__min_impurity_decrease\n",
            "estimator__clf__min_samples_leaf\n",
            "estimator__clf__min_samples_split\n",
            "estimator__clf__min_weight_fraction_leaf\n",
            "estimator__clf__n_estimators\n",
            "estimator__clf__n_jobs\n",
            "estimator__clf__oob_score\n",
            "estimator__clf__random_state\n",
            "estimator__clf__verbose\n",
            "estimator__clf__warm_start\n",
            "estimator\n",
            "n_jobs\n",
            "param_grid\n",
            "pre_dispatch\n",
            "refit\n",
            "return_train_score\n",
            "scoring\n",
            "verbose\n"
          ]
        }
      ],
      "source": [
        "# Syntax di bawah ini akan menampilkan daftar parameter yang dapat diatur pada objek grid search RF_grid\n",
        "\n",
        "for param in RF_grid.get_params().keys():\n",
        "    print(param)"
      ]
    },
    {
      "cell_type": "code",
      "execution_count": 66,
      "metadata": {
        "colab": {
          "base_uri": "https://localhost:8080/"
        },
        "id": "3ftydpqdcS5z",
        "outputId": "382a4d0e-883b-4717-e9c6-a5ab3e2cb4cd"
      },
      "outputs": [
        {
          "name": "stdout",
          "output_type": "stream",
          "text": [
            "Pipeline(steps=[('preprocess',\n",
            "                 ColumnTransformer(remainder='passthrough',\n",
            "                                   transformers=[('onehotencoder',\n",
            "                                                  OneHotEncoder(),\n",
            "                                                  ['Gender', 'Customer Type',\n",
            "                                                   'Type of Travel', 'Class']),\n",
            "                                                 ('minmaxscaler',\n",
            "                                                  MinMaxScaler(),\n",
            "                                                  ['Age', 'Flight Distance',\n",
            "                                                   'Departure Delay in Minutes',\n",
            "                                                   'Arrival Delay in '\n",
            "                                                   'Minutes'])])),\n",
            "                ('clf',\n",
            "                 RandomForestClassifier(criterion='entropy', max_depth=5,\n",
            "                                        max_features='log2',\n",
            "                                        min_samples_leaf=4))])\n"
          ]
        }
      ],
      "source": [
        "print(RF_grid.best_estimator_)"
      ]
    },
    {
      "cell_type": "code",
      "execution_count": 67,
      "metadata": {
        "id": "HHva76ytcS5z"
      },
      "outputs": [],
      "source": [
        "RF_Grid_CV_best = RF_grid.best_estimator_   "
      ]
    },
    {
      "cell_type": "code",
      "execution_count": 68,
      "metadata": {
        "id": "xHxHgiytcS50"
      },
      "outputs": [],
      "source": [
        "y_pred_train_RF_tuned = RF_Grid_CV_best.predict(X_train_final)\n",
        "y_pred_test_RF_tuned = RF_Grid_CV_best.predict(X_test_final)"
      ]
    },
    {
      "cell_type": "code",
      "execution_count": 69,
      "metadata": {
        "colab": {
          "base_uri": "https://localhost:8080/",
          "height": 709
        },
        "id": "1FcnU9u1cS50",
        "outputId": "33c74551-c2dc-4512-9023-5208e20f9802"
      },
      "outputs": [
        {
          "name": "stdout",
          "output_type": "stream",
          "text": [
            "Precision Score - Train Set   :  0.9157677516180471 \n",
            "\n",
            "Classification Report : \n",
            "               precision    recall  f1-score   support\n",
            "\n",
            "           0       0.92      0.94      0.93     14053\n",
            "           1       0.92      0.89      0.90     10947\n",
            "\n",
            "    accuracy                           0.92     25000\n",
            "   macro avg       0.92      0.91      0.92     25000\n",
            "weighted avg       0.92      0.92      0.92     25000\n",
            " \n",
            "\n",
            "Confusion Matrix      : \n",
            " <sklearn.metrics._plot.confusion_matrix.ConfusionMatrixDisplay object at 0x0000026F080B0700>\n"
          ]
        },
        {
          "data": {
            "image/png": "[encoded data removed]",
            "text/plain": [
              "<Figure size 640x480 with 2 Axes>"
            ]
          },
          "metadata": {},
          "output_type": "display_data"
        }
      ],
      "source": [
        "# Check Performance Model against Train-Set\n",
        "\n",
        "print('Precision Score - Train Set   : ', precision_score(y_train, y_pred_train_RF_tuned), '\\n')\n",
        "print('Classification Report : \\n', classification_report(y_train, y_pred_train_RF_tuned), '\\n')\n",
        "print('Confusion Matrix      : \\n', ConfusionMatrixDisplay.from_estimator(RF_Grid_CV_best, X_train_final, y_train, cmap='Reds'))"
      ]
    },
    {
      "cell_type": "markdown",
      "metadata": {
        "id": "nmJGGk5rcS50"
      },
      "source": [
        "> **Classification Report Train set**\n",
        "\n",
        "Pada kasus ini, kelas 0 merepresentasikan kategori netral atau tidak puas, sedangkan kelas 1 merepresentasikan kategori puas. Oleh karena itu, interpretasi hasil classification report pada kasus ini adalah sebagai berikut:\n",
        "\n",
        "* **Precision**: Nilai precision menunjukkan seberapa baik model dalam memprediksi data dengan benar pada suatu kelas tertentu. Precision kelas 0 sebesar 0.91, artinya 91% dari data yang diprediksi sebagai kelas 0 (netral/tidak puas) adalah benar-benar kelas 0 (netral/tidak puas). Precision kelas 1 sebesar 0.92, artinya 92% dari data yang diprediksi sebagai kelas 1 (puas) adalah benar-benar kelas 1 (puas).\n",
        "\n",
        "* **Recall**: Nilai recall menunjukkan seberapa baik model dalam mengklasifikasikan suatu kelas pada data yang benar-benar termasuk dalam kelas tersebut. Recall kelas 0 sebesar 0.94, artinya model dapat mengklasifikasikan 94% data yang benar-benar termasuk dalam kelas 0 (netral/tidak puas). Recall kelas 1 sebesar 0.87, artinya model dapat mengklasifikasikan 87% data yang benar-benar termasuk dalam kelas 1 (puas).\n",
        "\n",
        "* **F1-score**: Nilai f1-score adalah harmonic mean dari precision dan recall. F1-score kelas 0 sebesar 0.92, dan f1-score kelas 1 sebesar 0.89.\n",
        "\n",
        "* **Accuracy**: Nilai akurasi menunjukkan seberapa baik model dapat mengklasifikasikan secara benar seluruh data. Pada kasus ini, nilai akurasi sebesar 0.91, artinya model dapat mengklasifikasikan dengan benar 91% data pada keseluruhan data train.\n",
        "\n",
        "---\n",
        "\n",
        "> **Confusion Matrix Train set**\n",
        "\n",
        "- **True Positive (TP):** model memprediksi 9570 orang yang puas dengan layanan airlane dan memang kenyataannya mereka puas.\n",
        "- **True Negative (TN):** model memprediksi 13.714 orang yang tidak puas atau netral dengan layanan airlane dan memang kenyataannya mereka tidak puas atau netral.\n",
        "- **False Positive (FP):** model memprediksi 879 orang yang puas dengan layanan airlane, padahal kenyataan mereka tidak puas atau netral.\n",
        "- **False Negative (FN):** model memprediksi 1.377 orang yang tidak puas atau netral dengan layanan airlane, padahal kenyataannya mereka puas.\n",
        "\n",
        "\n",
        "\n"
      ]
    },
    {
      "cell_type": "code",
      "execution_count": 70,
      "metadata": {
        "colab": {
          "base_uri": "https://localhost:8080/",
          "height": 709
        },
        "id": "cwwsNlHQcS50",
        "outputId": "81e9d816-cd79-4372-8ede-51428e241220"
      },
      "outputs": [
        {
          "name": "stdout",
          "output_type": "stream",
          "text": [
            "Precision Score - Test Set   :  0.9121590383726306 \n",
            "\n",
            "Classification Report : \n",
            "               precision    recall  f1-score   support\n",
            "\n",
            "           0       0.93      0.93      0.93      2815\n",
            "           1       0.91      0.90      0.91      2185\n",
            "\n",
            "    accuracy                           0.92      5000\n",
            "   macro avg       0.92      0.92      0.92      5000\n",
            "weighted avg       0.92      0.92      0.92      5000\n",
            " \n",
            "\n",
            "Confusion Matrix      : \n",
            " <sklearn.metrics._plot.confusion_matrix.ConfusionMatrixDisplay object at 0x0000026F06F140A0>\n"
          ]
        },
        {
          "data": {
            "image/png": "[encoded data removed]",
            "text/plain": [
              "<Figure size 640x480 with 2 Axes>"
            ]
          },
          "metadata": {},
          "output_type": "display_data"
        }
      ],
      "source": [
        "# Check Performance Model against test-Set\n",
        "\n",
        "print('Precision Score - Test Set   : ', precision_score(y_test, y_pred_test_RF_tuned), '\\n')\n",
        "print('Classification Report : \\n', classification_report(y_test, y_pred_test_RF_tuned), '\\n')\n",
        "print('Confusion Matrix      : \\n', ConfusionMatrixDisplay.from_estimator(RF_Grid_CV_best, X_test_final, y_test, cmap='Reds'))"
      ]
    },
    {
      "cell_type": "markdown",
      "metadata": {
        "id": "wd4LaCLcmS1v"
      },
      "source": [
        "> **Classification Report Test set**\n",
        "\n",
        "Pada kasus ini, kelas 0 merepresentasikan kategori netral atau tidak puas, sedangkan kelas 1 merepresentasikan kategori puas. Oleh karena itu, interpretasi hasil classification report pada kasus ini adalah sebagai berikut:\n",
        "\n",
        "* **Precision**: Precision kelas 0 sebesar 0.91, yang artinya dari seluruh data yang diprediksi sebagai tidak puas, 91% benar-benar termasuk dalam kelas tidak puas. Precision kelas 1 sebesar 0.91, yang artinya dari seluruh data yang diprediksi sebagai puas, 91% benar-benar termasuk dalam kelas puas.\n",
        "\n",
        "* **Recall**: Recall kelas 0 sebesar 0.94, yang artinya dari seluruh data yang termasuk dalam kelas tidak puas, model berhasil memprediksi 94% data tersebut dengan benar. Recall kelas 1 sebesar 0.88, yang artinya dari seluruh data yang termasuk dalam kelas puas, model berhasil memprediksi 88% data tersebut dengan benar.\n",
        "\n",
        "* **F1-score**: Nilai f1-score adalah harmonic mean dari precision dan recall. F1-score kelas 0 sebesar 0.92, dan f1-score kelas 1 sebesar 0.90.\n",
        "\n",
        "* **Accuracy**: Accuracy sebesar 0.91, yang merupakan rata-rata dari benar prediksi kelas tidak puas dan puas.\n",
        "\n",
        "---\n",
        "\n",
        "> **Confusion Matrix Test set**\n",
        "\n",
        "- **True Positive (TP):** model memprediksi 1922 orang yang puas dengan layanan airlane dan memang kenyataannya mereka puas.\n",
        "- **True Negative (TN):** model memprediksi 2634 orang yang tidak puas atau netral dengan layanan airlane dan memang kenyataannya mereka tidak puas atau netral.\n",
        "- **False Positive (FP):** model memprediksi 181 orang yang puas dengan layanan airlane, padahal kenyataan mereka tidak puas atau netral.\n",
        "- **False Negative (FN):** model memprediksi 263 orang yang tidak puas atau netral dengan layanan airlane, padahal kenyataannya mereka puas.\n",
        "\n"
      ]
    },
    {
      "cell_type": "markdown",
      "metadata": {
        "id": "bMu4WPCk3GRE"
      },
      "source": [
        "> **Precision Score for Random Forest with Hyperparameter Tuning**\n",
        "* Precision Score - Train Set  :  0.915\n",
        "* Precision Score - Test Set   :  0.913\n",
        "\n",
        "Dari hasil evaluasi model yang dilakukan menggunakan precision score, dapat disimpulkan bahwa model memiliki kemampuan yang baik dalam memprediksi data dengan benar pada kelas netral/tidak puas dan kelas puas, dengan nilai precision yang cukup tinggi pada kelas 0 (netral/tidak puas) dan kelas 1 (puas). Nilai precision pada train set dan test set juga relatif sama, menunjukkan bahwa model tidak mengalami overfitting atau underfitting."
      ]
    },
    {
      "cell_type": "code",
      "execution_count": 71,
      "metadata": {
        "id": "Ubxgk6d4cS51"
      },
      "outputs": [],
      "source": [
        "# RF_Best = RandomForestClassifier(criterion='entropy', \n",
        "#                                  max_depth=5,\n",
        "#                                  max_features='sqrt', \n",
        "#                                  min_samples_split=5)"
      ]
    },
    {
      "cell_type": "markdown",
      "metadata": {
        "id": "WLCgYTuVcS51"
      },
      "source": [
        "# 8 - Model Evaluation"
      ]
    },
    {
      "cell_type": "markdown",
      "metadata": {
        "id": "Eq_JEx2jwQbj"
      },
      "source": [
        "> **Based on Precision Score**\n",
        "\n",
        "1. Before Tuning\n",
        "* Precision Score - Train Set  : 0.962\n",
        "* Precision Score - Test Set   : 0.961 \n",
        "\n",
        "2. After Tuning\n",
        "* Precision Score - Train Set  :  0.915\n",
        "* Precision Score - Test Set   :  0.913\n",
        "\n",
        "Berdasarkan nilai precision score, sebelum dilakukan hyperparameter tuning, model Random Forest memiliki nilai precision yang cukup tinggi pada kedua set data train dan test, yaitu sebesar 0.962 dan 0.961 secara berturut-turut. Namun, setelah dilakukan hyperparameter tuning, nilai precision score pada kedua set data tersebut mengalami penurunan menjadi 0.915 dan 0.913.\n",
        "\n",
        "Meskipun model sebelum tuning memiliki nilai precision yang lebih tinggi, namun peningkatan kinerja model yang diperoleh setelah hyperparameter tuning tidak terlalu signifikan. Oleh karena itu, dapat disimpulkan bahwa pada kasus ini, hyperparameter tuning tidak memberikan dampak yang signifikan terhadap peningkatan nilai precision pada model Random Forest."
      ]
    },
    {
      "cell_type": "markdown",
      "metadata": {
        "id": "wIfpXtILcS51"
      },
      "source": [
        "# 9 - Kesimpulan"
      ]
    },
    {
      "cell_type": "markdown",
      "metadata": {
        "id": "az7bKzDgcS52"
      },
      "source": [
        "> **Based on EDA**\n",
        "\n",
        "1. Dataset didominasi oleh data categoric ordinal\n",
        "2. Berdasarkan uji normalitas shapiro test, didapatkan terdapat kolom munerik yang terdistribusi normal yaitu kolom `Arrival Delay in Minutes` dan tidak terdistribusi normal yaitu kolom `Age`, `Flight Distance`, `Departure Delay in Minutes`\n",
        "\n",
        "> **Model Evaluation**\n",
        "\n",
        "1. Berdasarkan hasil evaluasi model dengan menggunakan precision score dan teknik cross validation, Random Forest mendapatkan nilai tertinggi yaitu 0.962610 dibandingkan dengan model klasifikasi lainnya. Hal ini menunjukkan bahwa model Random Forest mampu memberikan prediksi yang lebih akurat dibandingkan dengan model lainnya dalam membedakan antara kelas positif dan negatif.\n",
        "2. Meskipun model sebelum tuning memiliki nilai precision yang lebih tinggi, namun model setelah tuning dapat dianggap lebih baik karena lebih general dan lebih stabil dalam mengklasifikasikan data baru. Oleh karena itu, model yang setelah dilakukan hyperparameter tuning bisa dipilih sebagai model yang terbaik dalam hal meningkatkan keakuratan dan konsistensi dalam mengklasifikasikan data baru.\n",
        "\n",
        "> **Futher Improvement**\n",
        "\n",
        "1. Perlu dipertimbangkan juga untuk faktor lain seperti biaya yang dikeluarkan untuk mengurangi false positive. Jika biaya yang dikeluarkan sangat tinggi, maka model sebelum dilakukan tuning mungkin lebih diinginkan. Oleh karena itu, dalam memilih model terbaik, perlu dilakukan trade-off antara nilai precision, recall, biaya, dan faktor lain yang relevan."
      ]
    },
    {
      "cell_type": "markdown",
      "metadata": {
        "id": "DozdqfTucS51"
      },
      "source": [
        "# 10 - Model Saving"
      ]
    },
    {
      "cell_type": "code",
      "execution_count": 73,
      "metadata": {
        "id": "ONOVo-D0cS51"
      },
      "outputs": [],
      "source": [
        "# Save the Files\n",
        "\n",
        "with open('satisfication_model.pkl', 'wb') as file_1:\n",
        "  pickle.dump(RF_Grid_CV_best, file_1)\n",
        "\n",
        "with open('list_num_cols.txt', 'w') as file_2:\n",
        "  json.dump(num_columns, file_2)\n",
        "\n",
        "with open('list_cat_nom.txt','w') as file_3: \n",
        "  json.dump(cat_nominal, file_3)\n",
        "\n",
        "with open('list_cat_ord.txt','w') as file_4: \n",
        "  json.dump(cat_ordinal, file_4)"
      ]
    }
  ],
  "metadata": {
    "accelerator": "GPU",
    "colab": {
      "provenance": []
    },
    "gpuClass": "standard",
    "kernelspec": {
      "display_name": "Python 3",
      "name": "python3"
    },
    "language_info": {
      "codemirror_mode": {
        "name": "ipython",
        "version": 3
      },
      "file_extension": ".py",
      "mimetype": "text/x-python",
      "name": "python",
      "nbconvert_exporter": "python",
      "pygments_lexer": "ipython3",
      "version": "3.9.13"
    }
  },
  "nbformat": 4,
  "nbformat_minor": 0
}
